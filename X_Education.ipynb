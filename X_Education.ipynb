{
  "nbformat": 4,
  "nbformat_minor": 0,
  "metadata": {
    "colab": {
      "provenance": []
    },
    "kernelspec": {
      "name": "python3",
      "display_name": "Python 3"
    },
    "language_info": {
      "name": "python"
    }
  },
  "cells": [
    {
      "cell_type": "markdown",
      "source": [
        "<h1 align=\"center\"><font color='green'>X Education</font></h1>\n",
        "\n",
        "#### Porblem Statement :\n",
        "X Education sells online courses to industry professionals.\n",
        "\n",
        "Everyday many professionals who are interested in the courses land on their website and browse for courses.These users are classified as potential leads to take the course.\n",
        "\n",
        "Currently the conversion rate is very poor. The company wishes to identify the most potential leads, also known as ‘Hot Leads’.\n",
        "\n",
        "With the Hot Leads, the Sales team will focus more on communicating with the them rather than making calls to everyone.\n",
        "\n",
        "\n",
        "#### Business Goal :\n",
        "Help the X Education to select the most promising leads i.e. Hot Leads.\n",
        "\n",
        "This can be achieved by building a logistic regression model and assigning lead score between 0 and 100 to each of the leads.\n",
        "\n",
        "A higher score would mean that the lead is hot, i.e. is most likely to convert whereas a lower score would mean that the lead is cold and will mostly not get converted."
      ],
      "metadata": {
        "id": "jCnPCxzkHm9d"
      }
    },
    {
      "cell_type": "markdown",
      "source": [
        "## <h2 align=\"left\"> <font color='brown'>Importing the libraries</font></h2>"
      ],
      "metadata": {
        "id": "6zZnHUfNQpuu"
      }
    },
    {
      "cell_type": "code",
      "source": [
        "import warnings\n",
        "warnings.filterwarnings('ignore')"
      ],
      "metadata": {
        "id": "-D-ovLamQtc7"
      },
      "execution_count": 1,
      "outputs": []
    },
    {
      "cell_type": "code",
      "source": [
        "# import header\n",
        "import pandas as pd\n",
        "import numpy as np\n",
        "import matplotlib.pyplot as plt\n",
        "import seaborn as sns\n",
        "\n",
        "from matplotlib import style\n",
        "plt.style.use('seaborn')\n",
        "\n",
        "from sklearn.preprocessing import MinMaxScaler\n",
        "from sklearn.model_selection import train_test_split\n",
        "\n",
        "# Libraries for model creation, training and calculating VIF(for Multicollinearity)\n",
        "import statsmodels.api as sm\n",
        "from statsmodels.stats.outliers_influence import variance_inflation_factor\n",
        "\n",
        "from sklearn.linear_model import LogisticRegression\n",
        "from sklearn.feature_selection import RFE"
      ],
      "metadata": {
        "id": "fl7Nudp6Hpph"
      },
      "execution_count": 2,
      "outputs": []
    },
    {
      "cell_type": "markdown",
      "source": [
        "## <h2 align=\"left\"> <font color='brown'>Reading Dataset</font></h2>"
      ],
      "metadata": {
        "id": "Aw55hKByekF_"
      }
    },
    {
      "cell_type": "code",
      "source": [
        "# Read datasets\n",
        "leads = pd.read_csv('Leads.csv')"
      ],
      "metadata": {
        "id": "d38lDuBgH-A7"
      },
      "execution_count": 3,
      "outputs": []
    },
    {
      "cell_type": "code",
      "source": [
        "leads.head()"
      ],
      "metadata": {
        "id": "eZAPtfZfLrDP",
        "outputId": "3f0646ca-5d5f-406c-f0f0-24ae3f36acbf",
        "colab": {
          "base_uri": "https://localhost:8080/",
          "height": 585
        }
      },
      "execution_count": 4,
      "outputs": [
        {
          "output_type": "execute_result",
          "data": {
            "text/plain": [
              "                            Prospect ID  Lead Number              Lead Origin  \\\n",
              "0  7927b2df-8bba-4d29-b9a2-b6e0beafe620       660737                      API   \n",
              "1  2a272436-5132-4136-86fa-dcc88c88f482       660728                      API   \n",
              "2  8cc8c611-a219-4f35-ad23-fdfd2656bd8a       660727  Landing Page Submission   \n",
              "3  0cc2df48-7cf4-4e39-9de9-19797f9b38cc       660719  Landing Page Submission   \n",
              "4  3256f628-e534-4826-9d63-4a8b88782852       660681  Landing Page Submission   \n",
              "\n",
              "      Lead Source Do Not Email Do Not Call  Converted  TotalVisits  \\\n",
              "0      Olark Chat           No          No          0          0.0   \n",
              "1  Organic Search           No          No          0          5.0   \n",
              "2  Direct Traffic           No          No          1          2.0   \n",
              "3  Direct Traffic           No          No          0          1.0   \n",
              "4          Google           No          No          1          2.0   \n",
              "\n",
              "   Total Time Spent on Website  Page Views Per Visit  ...  \\\n",
              "0                            0                   0.0  ...   \n",
              "1                          674                   2.5  ...   \n",
              "2                         1532                   2.0  ...   \n",
              "3                          305                   1.0  ...   \n",
              "4                         1428                   1.0  ...   \n",
              "\n",
              "  Get updates on DM Content    Lead Profile    City  \\\n",
              "0                        No          Select  Select   \n",
              "1                        No          Select  Select   \n",
              "2                        No  Potential Lead  Mumbai   \n",
              "3                        No          Select  Mumbai   \n",
              "4                        No          Select  Mumbai   \n",
              "\n",
              "  Asymmetrique Activity Index Asymmetrique Profile Index  \\\n",
              "0                   02.Medium                  02.Medium   \n",
              "1                   02.Medium                  02.Medium   \n",
              "2                   02.Medium                    01.High   \n",
              "3                   02.Medium                    01.High   \n",
              "4                   02.Medium                    01.High   \n",
              "\n",
              "  Asymmetrique Activity Score Asymmetrique Profile Score  \\\n",
              "0                        15.0                       15.0   \n",
              "1                        15.0                       15.0   \n",
              "2                        14.0                       20.0   \n",
              "3                        13.0                       17.0   \n",
              "4                        15.0                       18.0   \n",
              "\n",
              "  I agree to pay the amount through cheque  \\\n",
              "0                                       No   \n",
              "1                                       No   \n",
              "2                                       No   \n",
              "3                                       No   \n",
              "4                                       No   \n",
              "\n",
              "  A free copy of Mastering The Interview Last Notable Activity  \n",
              "0                                     No              Modified  \n",
              "1                                     No          Email Opened  \n",
              "2                                    Yes          Email Opened  \n",
              "3                                     No              Modified  \n",
              "4                                     No              Modified  \n",
              "\n",
              "[5 rows x 37 columns]"
            ],
            "text/html": [
              "\n",
              "  <div id=\"df-4b687642-b0d6-4259-9bba-9b69d0664c42\" class=\"colab-df-container\">\n",
              "    <div>\n",
              "<style scoped>\n",
              "    .dataframe tbody tr th:only-of-type {\n",
              "        vertical-align: middle;\n",
              "    }\n",
              "\n",
              "    .dataframe tbody tr th {\n",
              "        vertical-align: top;\n",
              "    }\n",
              "\n",
              "    .dataframe thead th {\n",
              "        text-align: right;\n",
              "    }\n",
              "</style>\n",
              "<table border=\"1\" class=\"dataframe\">\n",
              "  <thead>\n",
              "    <tr style=\"text-align: right;\">\n",
              "      <th></th>\n",
              "      <th>Prospect ID</th>\n",
              "      <th>Lead Number</th>\n",
              "      <th>Lead Origin</th>\n",
              "      <th>Lead Source</th>\n",
              "      <th>Do Not Email</th>\n",
              "      <th>Do Not Call</th>\n",
              "      <th>Converted</th>\n",
              "      <th>TotalVisits</th>\n",
              "      <th>Total Time Spent on Website</th>\n",
              "      <th>Page Views Per Visit</th>\n",
              "      <th>...</th>\n",
              "      <th>Get updates on DM Content</th>\n",
              "      <th>Lead Profile</th>\n",
              "      <th>City</th>\n",
              "      <th>Asymmetrique Activity Index</th>\n",
              "      <th>Asymmetrique Profile Index</th>\n",
              "      <th>Asymmetrique Activity Score</th>\n",
              "      <th>Asymmetrique Profile Score</th>\n",
              "      <th>I agree to pay the amount through cheque</th>\n",
              "      <th>A free copy of Mastering The Interview</th>\n",
              "      <th>Last Notable Activity</th>\n",
              "    </tr>\n",
              "  </thead>\n",
              "  <tbody>\n",
              "    <tr>\n",
              "      <th>0</th>\n",
              "      <td>7927b2df-8bba-4d29-b9a2-b6e0beafe620</td>\n",
              "      <td>660737</td>\n",
              "      <td>API</td>\n",
              "      <td>Olark Chat</td>\n",
              "      <td>No</td>\n",
              "      <td>No</td>\n",
              "      <td>0</td>\n",
              "      <td>0.0</td>\n",
              "      <td>0</td>\n",
              "      <td>0.0</td>\n",
              "      <td>...</td>\n",
              "      <td>No</td>\n",
              "      <td>Select</td>\n",
              "      <td>Select</td>\n",
              "      <td>02.Medium</td>\n",
              "      <td>02.Medium</td>\n",
              "      <td>15.0</td>\n",
              "      <td>15.0</td>\n",
              "      <td>No</td>\n",
              "      <td>No</td>\n",
              "      <td>Modified</td>\n",
              "    </tr>\n",
              "    <tr>\n",
              "      <th>1</th>\n",
              "      <td>2a272436-5132-4136-86fa-dcc88c88f482</td>\n",
              "      <td>660728</td>\n",
              "      <td>API</td>\n",
              "      <td>Organic Search</td>\n",
              "      <td>No</td>\n",
              "      <td>No</td>\n",
              "      <td>0</td>\n",
              "      <td>5.0</td>\n",
              "      <td>674</td>\n",
              "      <td>2.5</td>\n",
              "      <td>...</td>\n",
              "      <td>No</td>\n",
              "      <td>Select</td>\n",
              "      <td>Select</td>\n",
              "      <td>02.Medium</td>\n",
              "      <td>02.Medium</td>\n",
              "      <td>15.0</td>\n",
              "      <td>15.0</td>\n",
              "      <td>No</td>\n",
              "      <td>No</td>\n",
              "      <td>Email Opened</td>\n",
              "    </tr>\n",
              "    <tr>\n",
              "      <th>2</th>\n",
              "      <td>8cc8c611-a219-4f35-ad23-fdfd2656bd8a</td>\n",
              "      <td>660727</td>\n",
              "      <td>Landing Page Submission</td>\n",
              "      <td>Direct Traffic</td>\n",
              "      <td>No</td>\n",
              "      <td>No</td>\n",
              "      <td>1</td>\n",
              "      <td>2.0</td>\n",
              "      <td>1532</td>\n",
              "      <td>2.0</td>\n",
              "      <td>...</td>\n",
              "      <td>No</td>\n",
              "      <td>Potential Lead</td>\n",
              "      <td>Mumbai</td>\n",
              "      <td>02.Medium</td>\n",
              "      <td>01.High</td>\n",
              "      <td>14.0</td>\n",
              "      <td>20.0</td>\n",
              "      <td>No</td>\n",
              "      <td>Yes</td>\n",
              "      <td>Email Opened</td>\n",
              "    </tr>\n",
              "    <tr>\n",
              "      <th>3</th>\n",
              "      <td>0cc2df48-7cf4-4e39-9de9-19797f9b38cc</td>\n",
              "      <td>660719</td>\n",
              "      <td>Landing Page Submission</td>\n",
              "      <td>Direct Traffic</td>\n",
              "      <td>No</td>\n",
              "      <td>No</td>\n",
              "      <td>0</td>\n",
              "      <td>1.0</td>\n",
              "      <td>305</td>\n",
              "      <td>1.0</td>\n",
              "      <td>...</td>\n",
              "      <td>No</td>\n",
              "      <td>Select</td>\n",
              "      <td>Mumbai</td>\n",
              "      <td>02.Medium</td>\n",
              "      <td>01.High</td>\n",
              "      <td>13.0</td>\n",
              "      <td>17.0</td>\n",
              "      <td>No</td>\n",
              "      <td>No</td>\n",
              "      <td>Modified</td>\n",
              "    </tr>\n",
              "    <tr>\n",
              "      <th>4</th>\n",
              "      <td>3256f628-e534-4826-9d63-4a8b88782852</td>\n",
              "      <td>660681</td>\n",
              "      <td>Landing Page Submission</td>\n",
              "      <td>Google</td>\n",
              "      <td>No</td>\n",
              "      <td>No</td>\n",
              "      <td>1</td>\n",
              "      <td>2.0</td>\n",
              "      <td>1428</td>\n",
              "      <td>1.0</td>\n",
              "      <td>...</td>\n",
              "      <td>No</td>\n",
              "      <td>Select</td>\n",
              "      <td>Mumbai</td>\n",
              "      <td>02.Medium</td>\n",
              "      <td>01.High</td>\n",
              "      <td>15.0</td>\n",
              "      <td>18.0</td>\n",
              "      <td>No</td>\n",
              "      <td>No</td>\n",
              "      <td>Modified</td>\n",
              "    </tr>\n",
              "  </tbody>\n",
              "</table>\n",
              "<p>5 rows × 37 columns</p>\n",
              "</div>\n",
              "    <div class=\"colab-df-buttons\">\n",
              "\n",
              "  <div class=\"colab-df-container\">\n",
              "    <button class=\"colab-df-convert\" onclick=\"convertToInteractive('df-4b687642-b0d6-4259-9bba-9b69d0664c42')\"\n",
              "            title=\"Convert this dataframe to an interactive table.\"\n",
              "            style=\"display:none;\">\n",
              "\n",
              "  <svg xmlns=\"http://www.w3.org/2000/svg\" height=\"24px\" viewBox=\"0 -960 960 960\">\n",
              "    <path d=\"M120-120v-720h720v720H120Zm60-500h600v-160H180v160Zm220 220h160v-160H400v160Zm0 220h160v-160H400v160ZM180-400h160v-160H180v160Zm440 0h160v-160H620v160ZM180-180h160v-160H180v160Zm440 0h160v-160H620v160Z\"/>\n",
              "  </svg>\n",
              "    </button>\n",
              "\n",
              "  <style>\n",
              "    .colab-df-container {\n",
              "      display:flex;\n",
              "      gap: 12px;\n",
              "    }\n",
              "\n",
              "    .colab-df-convert {\n",
              "      background-color: #E8F0FE;\n",
              "      border: none;\n",
              "      border-radius: 50%;\n",
              "      cursor: pointer;\n",
              "      display: none;\n",
              "      fill: #1967D2;\n",
              "      height: 32px;\n",
              "      padding: 0 0 0 0;\n",
              "      width: 32px;\n",
              "    }\n",
              "\n",
              "    .colab-df-convert:hover {\n",
              "      background-color: #E2EBFA;\n",
              "      box-shadow: 0px 1px 2px rgba(60, 64, 67, 0.3), 0px 1px 3px 1px rgba(60, 64, 67, 0.15);\n",
              "      fill: #174EA6;\n",
              "    }\n",
              "\n",
              "    .colab-df-buttons div {\n",
              "      margin-bottom: 4px;\n",
              "    }\n",
              "\n",
              "    [theme=dark] .colab-df-convert {\n",
              "      background-color: #3B4455;\n",
              "      fill: #D2E3FC;\n",
              "    }\n",
              "\n",
              "    [theme=dark] .colab-df-convert:hover {\n",
              "      background-color: #434B5C;\n",
              "      box-shadow: 0px 1px 3px 1px rgba(0, 0, 0, 0.15);\n",
              "      filter: drop-shadow(0px 1px 2px rgba(0, 0, 0, 0.3));\n",
              "      fill: #FFFFFF;\n",
              "    }\n",
              "  </style>\n",
              "\n",
              "    <script>\n",
              "      const buttonEl =\n",
              "        document.querySelector('#df-4b687642-b0d6-4259-9bba-9b69d0664c42 button.colab-df-convert');\n",
              "      buttonEl.style.display =\n",
              "        google.colab.kernel.accessAllowed ? 'block' : 'none';\n",
              "\n",
              "      async function convertToInteractive(key) {\n",
              "        const element = document.querySelector('#df-4b687642-b0d6-4259-9bba-9b69d0664c42');\n",
              "        const dataTable =\n",
              "          await google.colab.kernel.invokeFunction('convertToInteractive',\n",
              "                                                    [key], {});\n",
              "        if (!dataTable) return;\n",
              "\n",
              "        const docLinkHtml = 'Like what you see? Visit the ' +\n",
              "          '<a target=\"_blank\" href=https://colab.research.google.com/notebooks/data_table.ipynb>data table notebook</a>'\n",
              "          + ' to learn more about interactive tables.';\n",
              "        element.innerHTML = '';\n",
              "        dataTable['output_type'] = 'display_data';\n",
              "        await google.colab.output.renderOutput(dataTable, element);\n",
              "        const docLink = document.createElement('div');\n",
              "        docLink.innerHTML = docLinkHtml;\n",
              "        element.appendChild(docLink);\n",
              "      }\n",
              "    </script>\n",
              "  </div>\n",
              "\n",
              "\n",
              "<div id=\"df-55909398-e7a9-461f-a304-17f2a388a129\">\n",
              "  <button class=\"colab-df-quickchart\" onclick=\"quickchart('df-55909398-e7a9-461f-a304-17f2a388a129')\"\n",
              "            title=\"Suggest charts\"\n",
              "            style=\"display:none;\">\n",
              "\n",
              "<svg xmlns=\"http://www.w3.org/2000/svg\" height=\"24px\"viewBox=\"0 0 24 24\"\n",
              "     width=\"24px\">\n",
              "    <g>\n",
              "        <path d=\"M19 3H5c-1.1 0-2 .9-2 2v14c0 1.1.9 2 2 2h14c1.1 0 2-.9 2-2V5c0-1.1-.9-2-2-2zM9 17H7v-7h2v7zm4 0h-2V7h2v10zm4 0h-2v-4h2v4z\"/>\n",
              "    </g>\n",
              "</svg>\n",
              "  </button>\n",
              "\n",
              "<style>\n",
              "  .colab-df-quickchart {\n",
              "      --bg-color: #E8F0FE;\n",
              "      --fill-color: #1967D2;\n",
              "      --hover-bg-color: #E2EBFA;\n",
              "      --hover-fill-color: #174EA6;\n",
              "      --disabled-fill-color: #AAA;\n",
              "      --disabled-bg-color: #DDD;\n",
              "  }\n",
              "\n",
              "  [theme=dark] .colab-df-quickchart {\n",
              "      --bg-color: #3B4455;\n",
              "      --fill-color: #D2E3FC;\n",
              "      --hover-bg-color: #434B5C;\n",
              "      --hover-fill-color: #FFFFFF;\n",
              "      --disabled-bg-color: #3B4455;\n",
              "      --disabled-fill-color: #666;\n",
              "  }\n",
              "\n",
              "  .colab-df-quickchart {\n",
              "    background-color: var(--bg-color);\n",
              "    border: none;\n",
              "    border-radius: 50%;\n",
              "    cursor: pointer;\n",
              "    display: none;\n",
              "    fill: var(--fill-color);\n",
              "    height: 32px;\n",
              "    padding: 0;\n",
              "    width: 32px;\n",
              "  }\n",
              "\n",
              "  .colab-df-quickchart:hover {\n",
              "    background-color: var(--hover-bg-color);\n",
              "    box-shadow: 0 1px 2px rgba(60, 64, 67, 0.3), 0 1px 3px 1px rgba(60, 64, 67, 0.15);\n",
              "    fill: var(--button-hover-fill-color);\n",
              "  }\n",
              "\n",
              "  .colab-df-quickchart-complete:disabled,\n",
              "  .colab-df-quickchart-complete:disabled:hover {\n",
              "    background-color: var(--disabled-bg-color);\n",
              "    fill: var(--disabled-fill-color);\n",
              "    box-shadow: none;\n",
              "  }\n",
              "\n",
              "  .colab-df-spinner {\n",
              "    border: 2px solid var(--fill-color);\n",
              "    border-color: transparent;\n",
              "    border-bottom-color: var(--fill-color);\n",
              "    animation:\n",
              "      spin 1s steps(1) infinite;\n",
              "  }\n",
              "\n",
              "  @keyframes spin {\n",
              "    0% {\n",
              "      border-color: transparent;\n",
              "      border-bottom-color: var(--fill-color);\n",
              "      border-left-color: var(--fill-color);\n",
              "    }\n",
              "    20% {\n",
              "      border-color: transparent;\n",
              "      border-left-color: var(--fill-color);\n",
              "      border-top-color: var(--fill-color);\n",
              "    }\n",
              "    30% {\n",
              "      border-color: transparent;\n",
              "      border-left-color: var(--fill-color);\n",
              "      border-top-color: var(--fill-color);\n",
              "      border-right-color: var(--fill-color);\n",
              "    }\n",
              "    40% {\n",
              "      border-color: transparent;\n",
              "      border-right-color: var(--fill-color);\n",
              "      border-top-color: var(--fill-color);\n",
              "    }\n",
              "    60% {\n",
              "      border-color: transparent;\n",
              "      border-right-color: var(--fill-color);\n",
              "    }\n",
              "    80% {\n",
              "      border-color: transparent;\n",
              "      border-right-color: var(--fill-color);\n",
              "      border-bottom-color: var(--fill-color);\n",
              "    }\n",
              "    90% {\n",
              "      border-color: transparent;\n",
              "      border-bottom-color: var(--fill-color);\n",
              "    }\n",
              "  }\n",
              "</style>\n",
              "\n",
              "  <script>\n",
              "    async function quickchart(key) {\n",
              "      const quickchartButtonEl =\n",
              "        document.querySelector('#' + key + ' button');\n",
              "      quickchartButtonEl.disabled = true;  // To prevent multiple clicks.\n",
              "      quickchartButtonEl.classList.add('colab-df-spinner');\n",
              "      try {\n",
              "        const charts = await google.colab.kernel.invokeFunction(\n",
              "            'suggestCharts', [key], {});\n",
              "      } catch (error) {\n",
              "        console.error('Error during call to suggestCharts:', error);\n",
              "      }\n",
              "      quickchartButtonEl.classList.remove('colab-df-spinner');\n",
              "      quickchartButtonEl.classList.add('colab-df-quickchart-complete');\n",
              "    }\n",
              "    (() => {\n",
              "      let quickchartButtonEl =\n",
              "        document.querySelector('#df-55909398-e7a9-461f-a304-17f2a388a129 button');\n",
              "      quickchartButtonEl.style.display =\n",
              "        google.colab.kernel.accessAllowed ? 'block' : 'none';\n",
              "    })();\n",
              "  </script>\n",
              "</div>\n",
              "\n",
              "    </div>\n",
              "  </div>\n"
            ]
          },
          "metadata": {},
          "execution_count": 4
        }
      ]
    },
    {
      "cell_type": "code",
      "source": [
        "# Understanding the datasets\n",
        "print('No. of Rows and columns :',leads.shape)\n"
      ],
      "metadata": {
        "id": "ahausgWULxK9",
        "colab": {
          "base_uri": "https://localhost:8080/"
        },
        "outputId": "7d08a6ff-be8b-4eef-c792-a5affb81885e"
      },
      "execution_count": 5,
      "outputs": [
        {
          "output_type": "stream",
          "name": "stdout",
          "text": [
            "No. of Rows and columns : (9240, 37)\n"
          ]
        }
      ]
    },
    {
      "cell_type": "code",
      "source": [
        "leads.describe()"
      ],
      "metadata": {
        "colab": {
          "base_uri": "https://localhost:8080/",
          "height": 300
        },
        "id": "MPd6Em9SMM0N",
        "outputId": "304a61d5-c680-47db-d1b6-855c30f3eb95"
      },
      "execution_count": 6,
      "outputs": [
        {
          "output_type": "execute_result",
          "data": {
            "text/plain": [
              "         Lead Number    Converted  TotalVisits  Total Time Spent on Website  \\\n",
              "count    9240.000000  9240.000000  9103.000000                  9240.000000   \n",
              "mean   617188.435606     0.385390     3.445238                   487.698268   \n",
              "std     23405.995698     0.486714     4.854853                   548.021466   \n",
              "min    579533.000000     0.000000     0.000000                     0.000000   \n",
              "25%    596484.500000     0.000000     1.000000                    12.000000   \n",
              "50%    615479.000000     0.000000     3.000000                   248.000000   \n",
              "75%    637387.250000     1.000000     5.000000                   936.000000   \n",
              "max    660737.000000     1.000000   251.000000                  2272.000000   \n",
              "\n",
              "       Page Views Per Visit  Asymmetrique Activity Score  \\\n",
              "count           9103.000000                  5022.000000   \n",
              "mean               2.362820                    14.306252   \n",
              "std                2.161418                     1.386694   \n",
              "min                0.000000                     7.000000   \n",
              "25%                1.000000                    14.000000   \n",
              "50%                2.000000                    14.000000   \n",
              "75%                3.000000                    15.000000   \n",
              "max               55.000000                    18.000000   \n",
              "\n",
              "       Asymmetrique Profile Score  \n",
              "count                 5022.000000  \n",
              "mean                    16.344883  \n",
              "std                      1.811395  \n",
              "min                     11.000000  \n",
              "25%                     15.000000  \n",
              "50%                     16.000000  \n",
              "75%                     18.000000  \n",
              "max                     20.000000  "
            ],
            "text/html": [
              "\n",
              "  <div id=\"df-73aab02e-ab70-4f45-87fd-f8a183691f5e\" class=\"colab-df-container\">\n",
              "    <div>\n",
              "<style scoped>\n",
              "    .dataframe tbody tr th:only-of-type {\n",
              "        vertical-align: middle;\n",
              "    }\n",
              "\n",
              "    .dataframe tbody tr th {\n",
              "        vertical-align: top;\n",
              "    }\n",
              "\n",
              "    .dataframe thead th {\n",
              "        text-align: right;\n",
              "    }\n",
              "</style>\n",
              "<table border=\"1\" class=\"dataframe\">\n",
              "  <thead>\n",
              "    <tr style=\"text-align: right;\">\n",
              "      <th></th>\n",
              "      <th>Lead Number</th>\n",
              "      <th>Converted</th>\n",
              "      <th>TotalVisits</th>\n",
              "      <th>Total Time Spent on Website</th>\n",
              "      <th>Page Views Per Visit</th>\n",
              "      <th>Asymmetrique Activity Score</th>\n",
              "      <th>Asymmetrique Profile Score</th>\n",
              "    </tr>\n",
              "  </thead>\n",
              "  <tbody>\n",
              "    <tr>\n",
              "      <th>count</th>\n",
              "      <td>9240.000000</td>\n",
              "      <td>9240.000000</td>\n",
              "      <td>9103.000000</td>\n",
              "      <td>9240.000000</td>\n",
              "      <td>9103.000000</td>\n",
              "      <td>5022.000000</td>\n",
              "      <td>5022.000000</td>\n",
              "    </tr>\n",
              "    <tr>\n",
              "      <th>mean</th>\n",
              "      <td>617188.435606</td>\n",
              "      <td>0.385390</td>\n",
              "      <td>3.445238</td>\n",
              "      <td>487.698268</td>\n",
              "      <td>2.362820</td>\n",
              "      <td>14.306252</td>\n",
              "      <td>16.344883</td>\n",
              "    </tr>\n",
              "    <tr>\n",
              "      <th>std</th>\n",
              "      <td>23405.995698</td>\n",
              "      <td>0.486714</td>\n",
              "      <td>4.854853</td>\n",
              "      <td>548.021466</td>\n",
              "      <td>2.161418</td>\n",
              "      <td>1.386694</td>\n",
              "      <td>1.811395</td>\n",
              "    </tr>\n",
              "    <tr>\n",
              "      <th>min</th>\n",
              "      <td>579533.000000</td>\n",
              "      <td>0.000000</td>\n",
              "      <td>0.000000</td>\n",
              "      <td>0.000000</td>\n",
              "      <td>0.000000</td>\n",
              "      <td>7.000000</td>\n",
              "      <td>11.000000</td>\n",
              "    </tr>\n",
              "    <tr>\n",
              "      <th>25%</th>\n",
              "      <td>596484.500000</td>\n",
              "      <td>0.000000</td>\n",
              "      <td>1.000000</td>\n",
              "      <td>12.000000</td>\n",
              "      <td>1.000000</td>\n",
              "      <td>14.000000</td>\n",
              "      <td>15.000000</td>\n",
              "    </tr>\n",
              "    <tr>\n",
              "      <th>50%</th>\n",
              "      <td>615479.000000</td>\n",
              "      <td>0.000000</td>\n",
              "      <td>3.000000</td>\n",
              "      <td>248.000000</td>\n",
              "      <td>2.000000</td>\n",
              "      <td>14.000000</td>\n",
              "      <td>16.000000</td>\n",
              "    </tr>\n",
              "    <tr>\n",
              "      <th>75%</th>\n",
              "      <td>637387.250000</td>\n",
              "      <td>1.000000</td>\n",
              "      <td>5.000000</td>\n",
              "      <td>936.000000</td>\n",
              "      <td>3.000000</td>\n",
              "      <td>15.000000</td>\n",
              "      <td>18.000000</td>\n",
              "    </tr>\n",
              "    <tr>\n",
              "      <th>max</th>\n",
              "      <td>660737.000000</td>\n",
              "      <td>1.000000</td>\n",
              "      <td>251.000000</td>\n",
              "      <td>2272.000000</td>\n",
              "      <td>55.000000</td>\n",
              "      <td>18.000000</td>\n",
              "      <td>20.000000</td>\n",
              "    </tr>\n",
              "  </tbody>\n",
              "</table>\n",
              "</div>\n",
              "    <div class=\"colab-df-buttons\">\n",
              "\n",
              "  <div class=\"colab-df-container\">\n",
              "    <button class=\"colab-df-convert\" onclick=\"convertToInteractive('df-73aab02e-ab70-4f45-87fd-f8a183691f5e')\"\n",
              "            title=\"Convert this dataframe to an interactive table.\"\n",
              "            style=\"display:none;\">\n",
              "\n",
              "  <svg xmlns=\"http://www.w3.org/2000/svg\" height=\"24px\" viewBox=\"0 -960 960 960\">\n",
              "    <path d=\"M120-120v-720h720v720H120Zm60-500h600v-160H180v160Zm220 220h160v-160H400v160Zm0 220h160v-160H400v160ZM180-400h160v-160H180v160Zm440 0h160v-160H620v160ZM180-180h160v-160H180v160Zm440 0h160v-160H620v160Z\"/>\n",
              "  </svg>\n",
              "    </button>\n",
              "\n",
              "  <style>\n",
              "    .colab-df-container {\n",
              "      display:flex;\n",
              "      gap: 12px;\n",
              "    }\n",
              "\n",
              "    .colab-df-convert {\n",
              "      background-color: #E8F0FE;\n",
              "      border: none;\n",
              "      border-radius: 50%;\n",
              "      cursor: pointer;\n",
              "      display: none;\n",
              "      fill: #1967D2;\n",
              "      height: 32px;\n",
              "      padding: 0 0 0 0;\n",
              "      width: 32px;\n",
              "    }\n",
              "\n",
              "    .colab-df-convert:hover {\n",
              "      background-color: #E2EBFA;\n",
              "      box-shadow: 0px 1px 2px rgba(60, 64, 67, 0.3), 0px 1px 3px 1px rgba(60, 64, 67, 0.15);\n",
              "      fill: #174EA6;\n",
              "    }\n",
              "\n",
              "    .colab-df-buttons div {\n",
              "      margin-bottom: 4px;\n",
              "    }\n",
              "\n",
              "    [theme=dark] .colab-df-convert {\n",
              "      background-color: #3B4455;\n",
              "      fill: #D2E3FC;\n",
              "    }\n",
              "\n",
              "    [theme=dark] .colab-df-convert:hover {\n",
              "      background-color: #434B5C;\n",
              "      box-shadow: 0px 1px 3px 1px rgba(0, 0, 0, 0.15);\n",
              "      filter: drop-shadow(0px 1px 2px rgba(0, 0, 0, 0.3));\n",
              "      fill: #FFFFFF;\n",
              "    }\n",
              "  </style>\n",
              "\n",
              "    <script>\n",
              "      const buttonEl =\n",
              "        document.querySelector('#df-73aab02e-ab70-4f45-87fd-f8a183691f5e button.colab-df-convert');\n",
              "      buttonEl.style.display =\n",
              "        google.colab.kernel.accessAllowed ? 'block' : 'none';\n",
              "\n",
              "      async function convertToInteractive(key) {\n",
              "        const element = document.querySelector('#df-73aab02e-ab70-4f45-87fd-f8a183691f5e');\n",
              "        const dataTable =\n",
              "          await google.colab.kernel.invokeFunction('convertToInteractive',\n",
              "                                                    [key], {});\n",
              "        if (!dataTable) return;\n",
              "\n",
              "        const docLinkHtml = 'Like what you see? Visit the ' +\n",
              "          '<a target=\"_blank\" href=https://colab.research.google.com/notebooks/data_table.ipynb>data table notebook</a>'\n",
              "          + ' to learn more about interactive tables.';\n",
              "        element.innerHTML = '';\n",
              "        dataTable['output_type'] = 'display_data';\n",
              "        await google.colab.output.renderOutput(dataTable, element);\n",
              "        const docLink = document.createElement('div');\n",
              "        docLink.innerHTML = docLinkHtml;\n",
              "        element.appendChild(docLink);\n",
              "      }\n",
              "    </script>\n",
              "  </div>\n",
              "\n",
              "\n",
              "<div id=\"df-4e086c28-eff7-4536-9afb-de65122d8822\">\n",
              "  <button class=\"colab-df-quickchart\" onclick=\"quickchart('df-4e086c28-eff7-4536-9afb-de65122d8822')\"\n",
              "            title=\"Suggest charts\"\n",
              "            style=\"display:none;\">\n",
              "\n",
              "<svg xmlns=\"http://www.w3.org/2000/svg\" height=\"24px\"viewBox=\"0 0 24 24\"\n",
              "     width=\"24px\">\n",
              "    <g>\n",
              "        <path d=\"M19 3H5c-1.1 0-2 .9-2 2v14c0 1.1.9 2 2 2h14c1.1 0 2-.9 2-2V5c0-1.1-.9-2-2-2zM9 17H7v-7h2v7zm4 0h-2V7h2v10zm4 0h-2v-4h2v4z\"/>\n",
              "    </g>\n",
              "</svg>\n",
              "  </button>\n",
              "\n",
              "<style>\n",
              "  .colab-df-quickchart {\n",
              "      --bg-color: #E8F0FE;\n",
              "      --fill-color: #1967D2;\n",
              "      --hover-bg-color: #E2EBFA;\n",
              "      --hover-fill-color: #174EA6;\n",
              "      --disabled-fill-color: #AAA;\n",
              "      --disabled-bg-color: #DDD;\n",
              "  }\n",
              "\n",
              "  [theme=dark] .colab-df-quickchart {\n",
              "      --bg-color: #3B4455;\n",
              "      --fill-color: #D2E3FC;\n",
              "      --hover-bg-color: #434B5C;\n",
              "      --hover-fill-color: #FFFFFF;\n",
              "      --disabled-bg-color: #3B4455;\n",
              "      --disabled-fill-color: #666;\n",
              "  }\n",
              "\n",
              "  .colab-df-quickchart {\n",
              "    background-color: var(--bg-color);\n",
              "    border: none;\n",
              "    border-radius: 50%;\n",
              "    cursor: pointer;\n",
              "    display: none;\n",
              "    fill: var(--fill-color);\n",
              "    height: 32px;\n",
              "    padding: 0;\n",
              "    width: 32px;\n",
              "  }\n",
              "\n",
              "  .colab-df-quickchart:hover {\n",
              "    background-color: var(--hover-bg-color);\n",
              "    box-shadow: 0 1px 2px rgba(60, 64, 67, 0.3), 0 1px 3px 1px rgba(60, 64, 67, 0.15);\n",
              "    fill: var(--button-hover-fill-color);\n",
              "  }\n",
              "\n",
              "  .colab-df-quickchart-complete:disabled,\n",
              "  .colab-df-quickchart-complete:disabled:hover {\n",
              "    background-color: var(--disabled-bg-color);\n",
              "    fill: var(--disabled-fill-color);\n",
              "    box-shadow: none;\n",
              "  }\n",
              "\n",
              "  .colab-df-spinner {\n",
              "    border: 2px solid var(--fill-color);\n",
              "    border-color: transparent;\n",
              "    border-bottom-color: var(--fill-color);\n",
              "    animation:\n",
              "      spin 1s steps(1) infinite;\n",
              "  }\n",
              "\n",
              "  @keyframes spin {\n",
              "    0% {\n",
              "      border-color: transparent;\n",
              "      border-bottom-color: var(--fill-color);\n",
              "      border-left-color: var(--fill-color);\n",
              "    }\n",
              "    20% {\n",
              "      border-color: transparent;\n",
              "      border-left-color: var(--fill-color);\n",
              "      border-top-color: var(--fill-color);\n",
              "    }\n",
              "    30% {\n",
              "      border-color: transparent;\n",
              "      border-left-color: var(--fill-color);\n",
              "      border-top-color: var(--fill-color);\n",
              "      border-right-color: var(--fill-color);\n",
              "    }\n",
              "    40% {\n",
              "      border-color: transparent;\n",
              "      border-right-color: var(--fill-color);\n",
              "      border-top-color: var(--fill-color);\n",
              "    }\n",
              "    60% {\n",
              "      border-color: transparent;\n",
              "      border-right-color: var(--fill-color);\n",
              "    }\n",
              "    80% {\n",
              "      border-color: transparent;\n",
              "      border-right-color: var(--fill-color);\n",
              "      border-bottom-color: var(--fill-color);\n",
              "    }\n",
              "    90% {\n",
              "      border-color: transparent;\n",
              "      border-bottom-color: var(--fill-color);\n",
              "    }\n",
              "  }\n",
              "</style>\n",
              "\n",
              "  <script>\n",
              "    async function quickchart(key) {\n",
              "      const quickchartButtonEl =\n",
              "        document.querySelector('#' + key + ' button');\n",
              "      quickchartButtonEl.disabled = true;  // To prevent multiple clicks.\n",
              "      quickchartButtonEl.classList.add('colab-df-spinner');\n",
              "      try {\n",
              "        const charts = await google.colab.kernel.invokeFunction(\n",
              "            'suggestCharts', [key], {});\n",
              "      } catch (error) {\n",
              "        console.error('Error during call to suggestCharts:', error);\n",
              "      }\n",
              "      quickchartButtonEl.classList.remove('colab-df-spinner');\n",
              "      quickchartButtonEl.classList.add('colab-df-quickchart-complete');\n",
              "    }\n",
              "    (() => {\n",
              "      let quickchartButtonEl =\n",
              "        document.querySelector('#df-4e086c28-eff7-4536-9afb-de65122d8822 button');\n",
              "      quickchartButtonEl.style.display =\n",
              "        google.colab.kernel.accessAllowed ? 'block' : 'none';\n",
              "    })();\n",
              "  </script>\n",
              "</div>\n",
              "\n",
              "    </div>\n",
              "  </div>\n"
            ]
          },
          "metadata": {},
          "execution_count": 6
        }
      ]
    },
    {
      "cell_type": "code",
      "source": [
        "leads.info()"
      ],
      "metadata": {
        "colab": {
          "base_uri": "https://localhost:8080/"
        },
        "id": "r7NJCYA8MwKd",
        "outputId": "7e1e2eaf-2462-4a55-a327-90f9f248995a"
      },
      "execution_count": 7,
      "outputs": [
        {
          "output_type": "stream",
          "name": "stdout",
          "text": [
            "<class 'pandas.core.frame.DataFrame'>\n",
            "RangeIndex: 9240 entries, 0 to 9239\n",
            "Data columns (total 37 columns):\n",
            " #   Column                                         Non-Null Count  Dtype  \n",
            "---  ------                                         --------------  -----  \n",
            " 0   Prospect ID                                    9240 non-null   object \n",
            " 1   Lead Number                                    9240 non-null   int64  \n",
            " 2   Lead Origin                                    9240 non-null   object \n",
            " 3   Lead Source                                    9204 non-null   object \n",
            " 4   Do Not Email                                   9240 non-null   object \n",
            " 5   Do Not Call                                    9240 non-null   object \n",
            " 6   Converted                                      9240 non-null   int64  \n",
            " 7   TotalVisits                                    9103 non-null   float64\n",
            " 8   Total Time Spent on Website                    9240 non-null   int64  \n",
            " 9   Page Views Per Visit                           9103 non-null   float64\n",
            " 10  Last Activity                                  9137 non-null   object \n",
            " 11  Country                                        6779 non-null   object \n",
            " 12  Specialization                                 7802 non-null   object \n",
            " 13  How did you hear about X Education             7033 non-null   object \n",
            " 14  What is your current occupation                6550 non-null   object \n",
            " 15  What matters most to you in choosing a course  6531 non-null   object \n",
            " 16  Search                                         9240 non-null   object \n",
            " 17  Magazine                                       9240 non-null   object \n",
            " 18  Newspaper Article                              9240 non-null   object \n",
            " 19  X Education Forums                             9240 non-null   object \n",
            " 20  Newspaper                                      9240 non-null   object \n",
            " 21  Digital Advertisement                          9240 non-null   object \n",
            " 22  Through Recommendations                        9240 non-null   object \n",
            " 23  Receive More Updates About Our Courses         9240 non-null   object \n",
            " 24  Tags                                           5887 non-null   object \n",
            " 25  Lead Quality                                   4473 non-null   object \n",
            " 26  Update me on Supply Chain Content              9240 non-null   object \n",
            " 27  Get updates on DM Content                      9240 non-null   object \n",
            " 28  Lead Profile                                   6531 non-null   object \n",
            " 29  City                                           7820 non-null   object \n",
            " 30  Asymmetrique Activity Index                    5022 non-null   object \n",
            " 31  Asymmetrique Profile Index                     5022 non-null   object \n",
            " 32  Asymmetrique Activity Score                    5022 non-null   float64\n",
            " 33  Asymmetrique Profile Score                     5022 non-null   float64\n",
            " 34  I agree to pay the amount through cheque       9240 non-null   object \n",
            " 35  A free copy of Mastering The Interview         9240 non-null   object \n",
            " 36  Last Notable Activity                          9240 non-null   object \n",
            "dtypes: float64(4), int64(3), object(30)\n",
            "memory usage: 2.6+ MB\n"
          ]
        }
      ]
    },
    {
      "cell_type": "code",
      "source": [
        "# columns can be dropped because these are unique numbers\n",
        "drop_coulms = ['Prospect ID','Lead Number',]\n",
        "leads.drop(drop_coulms,axis=1,inplace=True)"
      ],
      "metadata": {
        "id": "pK6v_qANd2kd"
      },
      "execution_count": 8,
      "outputs": []
    },
    {
      "cell_type": "code",
      "source": [
        "# columns can be dropped because these are not the key drivers\n",
        "drop_coulms = ['Update me on Supply Chain Content','Get updates on DM Content','I agree to pay the amount through cheque']\n",
        "leads.drop(drop_coulms,axis=1,inplace=True)"
      ],
      "metadata": {
        "id": "C0MKoRR6o7LA"
      },
      "execution_count": 9,
      "outputs": []
    },
    {
      "cell_type": "code",
      "source": [
        "# Rename the Column headers\n",
        "leads.rename(columns = {\"How did you hear about X Education\":\"HeardFrom\"}, inplace=True)\n",
        "leads.rename(columns = {\"What matters most to you in choosing a course\":\"Moto\"}, inplace=True)\n",
        "leads.rename(columns = {\"What is your current occupation\":\"Occupation\"}, inplace=True)\n",
        "leads.rename(columns = {\"Receive More Updates About Our Courses\":\"GetUpdates\"}, inplace=True)\n"
      ],
      "metadata": {
        "id": "CYi9EUUzl_Xy"
      },
      "execution_count": 17,
      "outputs": []
    },
    {
      "cell_type": "code",
      "source": [
        "#Categorical Values cleanup\n",
        "\n",
        "leads['Asymmetrique Activity Index'] = leads['Asymmetrique Activity Index'].replace({'01.High': 'High', '02.Medium': 'Medium', '03.Low': 'Low'})\n",
        "leads['Asymmetrique Profile Index'] = leads['Asymmetrique Activity Index'].replace({'01.High': 'High', '02.Medium': 'Medium', '03.Low': 'Low'})"
      ],
      "metadata": {
        "id": "XuXXx3YKxfdG"
      },
      "execution_count": 18,
      "outputs": []
    },
    {
      "cell_type": "code",
      "source": [
        "leads.info()"
      ],
      "metadata": {
        "id": "HetJzcQio5Te",
        "colab": {
          "base_uri": "https://localhost:8080/"
        },
        "outputId": "c2d726ed-5764-4e8d-8e5b-62a768f60f4b"
      },
      "execution_count": 19,
      "outputs": [
        {
          "output_type": "stream",
          "name": "stdout",
          "text": [
            "<class 'pandas.core.frame.DataFrame'>\n",
            "RangeIndex: 9240 entries, 0 to 9239\n",
            "Data columns (total 32 columns):\n",
            " #   Column                                  Non-Null Count  Dtype  \n",
            "---  ------                                  --------------  -----  \n",
            " 0   Lead Origin                             9240 non-null   object \n",
            " 1   Lead Source                             9204 non-null   object \n",
            " 2   Do Not Email                            9240 non-null   object \n",
            " 3   Do Not Call                             9240 non-null   object \n",
            " 4   Converted                               9240 non-null   int64  \n",
            " 5   TotalVisits                             9103 non-null   float64\n",
            " 6   Total Time Spent on Website             9240 non-null   int64  \n",
            " 7   Page Views Per Visit                    9103 non-null   float64\n",
            " 8   Last Activity                           9137 non-null   object \n",
            " 9   Country                                 6779 non-null   object \n",
            " 10  Specialization                          7802 non-null   object \n",
            " 11  HeardFrom                               7033 non-null   object \n",
            " 12  Occupation                              6550 non-null   object \n",
            " 13  Motto                                   6531 non-null   object \n",
            " 14  Search                                  9240 non-null   object \n",
            " 15  Magazine                                9240 non-null   object \n",
            " 16  Newspaper Article                       9240 non-null   object \n",
            " 17  X Education Forums                      9240 non-null   object \n",
            " 18  Newspaper                               9240 non-null   object \n",
            " 19  Digital Advertisement                   9240 non-null   object \n",
            " 20  Through Recommendations                 9240 non-null   object \n",
            " 21  GetUpdates                              9240 non-null   object \n",
            " 22  Tags                                    5887 non-null   object \n",
            " 23  Lead Quality                            4473 non-null   object \n",
            " 24  Lead Profile                            6531 non-null   object \n",
            " 25  City                                    7820 non-null   object \n",
            " 26  Asymmetrique Activity Index             5022 non-null   object \n",
            " 27  Asymmetrique Profile Index              5022 non-null   object \n",
            " 28  Asymmetrique Activity Score             5022 non-null   float64\n",
            " 29  Asymmetrique Profile Score              5022 non-null   float64\n",
            " 30  A free copy of Mastering The Interview  9240 non-null   object \n",
            " 31  Last Notable Activity                   9240 non-null   object \n",
            "dtypes: float64(4), int64(2), object(26)\n",
            "memory usage: 2.3+ MB\n"
          ]
        }
      ]
    },
    {
      "cell_type": "markdown",
      "source": [
        "\n",
        "## <h2 align=\"left\"> <font color='brown'>Impute/Remove missing values</font></h2>"
      ],
      "metadata": {
        "id": "uLJj5QWixUNg"
      }
    },
    {
      "cell_type": "code",
      "source": [
        "# changing select to Nan\n",
        "leads = leads.replace('Select',np.nan)"
      ],
      "metadata": {
        "id": "wrqLuoTuxZ62"
      },
      "execution_count": 20,
      "outputs": []
    },
    {
      "cell_type": "code",
      "source": [
        "percentage_null_values = (leads.isnull().sum() / leads.shape[0])*100\n",
        "percentage_null_values"
      ],
      "metadata": {
        "colab": {
          "base_uri": "https://localhost:8080/"
        },
        "id": "o02wufz3xdYX",
        "outputId": "56017b56-ad9c-4fc9-f400-ff917bbc678e"
      },
      "execution_count": 21,
      "outputs": [
        {
          "output_type": "execute_result",
          "data": {
            "text/plain": [
              "Lead Origin                                0.000000\n",
              "Lead Source                                0.389610\n",
              "Do Not Email                               0.000000\n",
              "Do Not Call                                0.000000\n",
              "Converted                                  0.000000\n",
              "TotalVisits                                1.482684\n",
              "Total Time Spent on Website                0.000000\n",
              "Page Views Per Visit                       1.482684\n",
              "Last Activity                              1.114719\n",
              "Country                                   26.634199\n",
              "Specialization                            36.580087\n",
              "HeardFrom                                 78.463203\n",
              "Occupation                                29.112554\n",
              "Motto                                     29.318182\n",
              "Search                                     0.000000\n",
              "Magazine                                   0.000000\n",
              "Newspaper Article                          0.000000\n",
              "X Education Forums                         0.000000\n",
              "Newspaper                                  0.000000\n",
              "Digital Advertisement                      0.000000\n",
              "Through Recommendations                    0.000000\n",
              "GetUpdates                                 0.000000\n",
              "Tags                                      36.287879\n",
              "Lead Quality                              51.590909\n",
              "Lead Profile                              74.188312\n",
              "City                                      39.707792\n",
              "Asymmetrique Activity Index               45.649351\n",
              "Asymmetrique Profile Index                45.649351\n",
              "Asymmetrique Activity Score               45.649351\n",
              "Asymmetrique Profile Score                45.649351\n",
              "A free copy of Mastering The Interview     0.000000\n",
              "Last Notable Activity                      0.000000\n",
              "dtype: float64"
            ]
          },
          "metadata": {},
          "execution_count": 21
        }
      ]
    },
    {
      "cell_type": "code",
      "source": [
        "# Will remove those values having missing values more than 40 percent\n",
        "def drop_cols():\n",
        "  for col in leads.columns:\n",
        "    if((100*(leads[col].isnull().sum()/len(leads.index))) >= 40):\n",
        "      leads.drop(col,1, inplace=True)"
      ],
      "metadata": {
        "id": "4ONkdTCjx-jS"
      },
      "execution_count": 22,
      "outputs": []
    },
    {
      "cell_type": "code",
      "source": [
        "drop_cols()"
      ],
      "metadata": {
        "id": "l9pVbtc9yU7z"
      },
      "execution_count": 23,
      "outputs": []
    },
    {
      "cell_type": "code",
      "source": [
        "percentage_null_values = (leads.isnull().sum() / leads.shape[0])*100\n",
        "percentage_null_values"
      ],
      "metadata": {
        "colab": {
          "base_uri": "https://localhost:8080/"
        },
        "id": "ZUVHLz8IzWUS",
        "outputId": "97c41f00-b5fd-4763-83d8-7c9b6b50c1a2"
      },
      "execution_count": 24,
      "outputs": [
        {
          "output_type": "execute_result",
          "data": {
            "text/plain": [
              "Lead Origin                                0.000000\n",
              "Lead Source                                0.389610\n",
              "Do Not Email                               0.000000\n",
              "Do Not Call                                0.000000\n",
              "Converted                                  0.000000\n",
              "TotalVisits                                1.482684\n",
              "Total Time Spent on Website                0.000000\n",
              "Page Views Per Visit                       1.482684\n",
              "Last Activity                              1.114719\n",
              "Country                                   26.634199\n",
              "Specialization                            36.580087\n",
              "Occupation                                29.112554\n",
              "Motto                                     29.318182\n",
              "Search                                     0.000000\n",
              "Magazine                                   0.000000\n",
              "Newspaper Article                          0.000000\n",
              "X Education Forums                         0.000000\n",
              "Newspaper                                  0.000000\n",
              "Digital Advertisement                      0.000000\n",
              "Through Recommendations                    0.000000\n",
              "GetUpdates                                 0.000000\n",
              "Tags                                      36.287879\n",
              "City                                      39.707792\n",
              "A free copy of Mastering The Interview     0.000000\n",
              "Last Notable Activity                      0.000000\n",
              "dtype: float64"
            ]
          },
          "metadata": {},
          "execution_count": 24
        }
      ]
    },
    {
      "cell_type": "markdown",
      "source": [
        "Further analysis on other missing values\n",
        "#### Country"
      ],
      "metadata": {
        "id": "MPaYQeBKCE1g"
      }
    },
    {
      "cell_type": "code",
      "source": [
        "leads.Country.value_counts()\n",
        "# Country is a categorical variable and we can see that mode of India is more. Hence will impute all the missing values to India"
      ],
      "metadata": {
        "colab": {
          "base_uri": "https://localhost:8080/"
        },
        "id": "dRKQHy1ACIwt",
        "outputId": "24537f65-9f4c-4566-8f63-4fbcd4dbeace"
      },
      "execution_count": 25,
      "outputs": [
        {
          "output_type": "execute_result",
          "data": {
            "text/plain": [
              "India                   6492\n",
              "United States             69\n",
              "United Arab Emirates      53\n",
              "Singapore                 24\n",
              "Saudi Arabia              21\n",
              "United Kingdom            15\n",
              "Australia                 13\n",
              "Qatar                     10\n",
              "Hong Kong                  7\n",
              "Bahrain                    7\n",
              "Oman                       6\n",
              "France                     6\n",
              "unknown                    5\n",
              "South Africa               4\n",
              "Nigeria                    4\n",
              "Germany                    4\n",
              "Kuwait                     4\n",
              "Canada                     4\n",
              "Sweden                     3\n",
              "China                      2\n",
              "Asia/Pacific Region        2\n",
              "Uganda                     2\n",
              "Bangladesh                 2\n",
              "Italy                      2\n",
              "Belgium                    2\n",
              "Netherlands                2\n",
              "Ghana                      2\n",
              "Philippines                2\n",
              "Russia                     1\n",
              "Switzerland                1\n",
              "Vietnam                    1\n",
              "Denmark                    1\n",
              "Tanzania                   1\n",
              "Liberia                    1\n",
              "Malaysia                   1\n",
              "Kenya                      1\n",
              "Sri Lanka                  1\n",
              "Indonesia                  1\n",
              "Name: Country, dtype: int64"
            ]
          },
          "metadata": {},
          "execution_count": 25
        }
      ]
    },
    {
      "cell_type": "code",
      "source": [
        "leads['Country'] = leads.Country.replace(np.nan,'India')"
      ],
      "metadata": {
        "id": "3gWC8S7OCrr5"
      },
      "execution_count": 26,
      "outputs": []
    },
    {
      "cell_type": "markdown",
      "source": [
        "#### Specialization"
      ],
      "metadata": {
        "id": "uKc0XeTOJghp"
      }
    },
    {
      "cell_type": "code",
      "source": [
        "leads.Specialization.value_counts()"
      ],
      "metadata": {
        "colab": {
          "base_uri": "https://localhost:8080/"
        },
        "id": "ul1vLWLWJjZK",
        "outputId": "59f172e7-d9ef-4bc9-f14c-470f4f487cfd"
      },
      "execution_count": 27,
      "outputs": [
        {
          "output_type": "execute_result",
          "data": {
            "text/plain": [
              "Finance Management                   976\n",
              "Human Resource Management            848\n",
              "Marketing Management                 838\n",
              "Operations Management                503\n",
              "Business Administration              403\n",
              "IT Projects Management               366\n",
              "Supply Chain Management              349\n",
              "Banking, Investment And Insurance    338\n",
              "Travel and Tourism                   203\n",
              "Media and Advertising                203\n",
              "International Business               178\n",
              "Healthcare Management                159\n",
              "Hospitality Management               114\n",
              "E-COMMERCE                           112\n",
              "Retail Management                    100\n",
              "Rural and Agribusiness                73\n",
              "E-Business                            57\n",
              "Services Excellence                   40\n",
              "Name: Specialization, dtype: int64"
            ]
          },
          "metadata": {},
          "execution_count": 27
        }
      ]
    },
    {
      "cell_type": "code",
      "source": [
        "# Will distribute the null values in other categories of specialization\n",
        "def impute_null_values(column_name,value):\n",
        "  null_value = int(round(leads[column_name].isna().sum() / value))\n",
        "  categories = leads[column_name].unique()\n",
        "  filtered_array = categories[~pd.isna(categories)]\n",
        "  for col_index in range(0,value):\n",
        "    null_indices = leads[leads[column_name].isna()][column_name].index[:null_value]\n",
        "    leads.loc[null_indices,column_name] = filtered_array[col_index]"
      ],
      "metadata": {
        "id": "hHyCezLmeVGV"
      },
      "execution_count": 28,
      "outputs": []
    },
    {
      "cell_type": "code",
      "source": [
        "impute_null_values('Specialization',10)"
      ],
      "metadata": {
        "id": "HvRjvsvsb2B4"
      },
      "execution_count": 29,
      "outputs": []
    },
    {
      "cell_type": "code",
      "source": [
        "percentage_null_values = (leads.isnull().sum() / leads.shape[0])*100\n",
        "percentage_null_values"
      ],
      "metadata": {
        "colab": {
          "base_uri": "https://localhost:8080/"
        },
        "id": "Oja8W-SDbZZP",
        "outputId": "8ae565b9-4f2f-41b1-eeda-d76383c3043a"
      },
      "execution_count": 30,
      "outputs": [
        {
          "output_type": "execute_result",
          "data": {
            "text/plain": [
              "Lead Origin                                0.000000\n",
              "Lead Source                                0.389610\n",
              "Do Not Email                               0.000000\n",
              "Do Not Call                                0.000000\n",
              "Converted                                  0.000000\n",
              "TotalVisits                                1.482684\n",
              "Total Time Spent on Website                0.000000\n",
              "Page Views Per Visit                       1.482684\n",
              "Last Activity                              1.114719\n",
              "Country                                    0.000000\n",
              "Specialization                             0.000000\n",
              "Occupation                                29.112554\n",
              "Motto                                     29.318182\n",
              "Search                                     0.000000\n",
              "Magazine                                   0.000000\n",
              "Newspaper Article                          0.000000\n",
              "X Education Forums                         0.000000\n",
              "Newspaper                                  0.000000\n",
              "Digital Advertisement                      0.000000\n",
              "Through Recommendations                    0.000000\n",
              "GetUpdates                                 0.000000\n",
              "Tags                                      36.287879\n",
              "City                                      39.707792\n",
              "A free copy of Mastering The Interview     0.000000\n",
              "Last Notable Activity                      0.000000\n",
              "dtype: float64"
            ]
          },
          "metadata": {},
          "execution_count": 30
        }
      ]
    },
    {
      "cell_type": "markdown",
      "source": [
        "#### Occupation"
      ],
      "metadata": {
        "id": "iNplabv7hGsl"
      }
    },
    {
      "cell_type": "code",
      "source": [
        "leads['Occupation'].value_counts()"
      ],
      "metadata": {
        "colab": {
          "base_uri": "https://localhost:8080/"
        },
        "id": "Y74ugtyWhJCR",
        "outputId": "f2476a5a-e1de-412d-ec9c-7febef4807e6"
      },
      "execution_count": 32,
      "outputs": [
        {
          "output_type": "execute_result",
          "data": {
            "text/plain": [
              "Unemployed              5600\n",
              "Working Professional     706\n",
              "Student                  210\n",
              "Other                     16\n",
              "Housewife                 10\n",
              "Businessman                8\n",
              "Name: Occupation, dtype: int64"
            ]
          },
          "metadata": {},
          "execution_count": 32
        }
      ]
    },
    {
      "cell_type": "code",
      "source": [
        "leads['Occupation'].isnull().sum()"
      ],
      "metadata": {
        "colab": {
          "base_uri": "https://localhost:8080/"
        },
        "id": "pl7W9jT5hi8w",
        "outputId": "171d4f27-9643-47b2-a616-d38291469dfb"
      },
      "execution_count": 75,
      "outputs": [
        {
          "output_type": "execute_result",
          "data": {
            "text/plain": [
              "0"
            ]
          },
          "metadata": {},
          "execution_count": 75
        }
      ]
    },
    {
      "cell_type": "code",
      "source": [
        "impute_null_values('Occupation',6)"
      ],
      "metadata": {
        "id": "RaD4_SMuhqgJ"
      },
      "execution_count": 35,
      "outputs": []
    },
    {
      "cell_type": "code",
      "source": [
        "leads.Occupation = leads.Occupation.replace(np.nan,'Unemployed')"
      ],
      "metadata": {
        "id": "Vl23AnZA0fp-"
      },
      "execution_count": 74,
      "outputs": []
    },
    {
      "cell_type": "code",
      "source": [
        "percentage_null_values = (leads.isnull().sum() / leads.shape[0])*100\n",
        "percentage_null_values"
      ],
      "metadata": {
        "colab": {
          "base_uri": "https://localhost:8080/"
        },
        "id": "aqmsIFngkdjX",
        "outputId": "382571fb-e5db-4e2a-b4d0-39c868e1a9e0"
      },
      "execution_count": 76,
      "outputs": [
        {
          "output_type": "execute_result",
          "data": {
            "text/plain": [
              "Lead Origin                               0.0\n",
              "Lead Source                               0.0\n",
              "Do Not Email                              0.0\n",
              "Do Not Call                               0.0\n",
              "Converted                                 0.0\n",
              "TotalVisits                               0.0\n",
              "Total Time Spent on Website               0.0\n",
              "Page Views Per Visit                      0.0\n",
              "Last Activity                             0.0\n",
              "Country                                   0.0\n",
              "Specialization                            0.0\n",
              "Occupation                                0.0\n",
              "Motto                                     0.0\n",
              "Search                                    0.0\n",
              "Magazine                                  0.0\n",
              "Newspaper Article                         0.0\n",
              "X Education Forums                        0.0\n",
              "Newspaper                                 0.0\n",
              "Digital Advertisement                     0.0\n",
              "Through Recommendations                   0.0\n",
              "GetUpdates                                0.0\n",
              "Tags                                      0.0\n",
              "City                                      0.0\n",
              "A free copy of Mastering The Interview    0.0\n",
              "Last Notable Activity                     0.0\n",
              "dtype: float64"
            ]
          },
          "metadata": {},
          "execution_count": 76
        }
      ]
    },
    {
      "cell_type": "markdown",
      "source": [
        "#### Motto"
      ],
      "metadata": {
        "id": "ch0doksWmMlb"
      }
    },
    {
      "cell_type": "code",
      "source": [
        "leads['Motto'].value_counts()\n"
      ],
      "metadata": {
        "colab": {
          "base_uri": "https://localhost:8080/"
        },
        "id": "7Jk0zIUrmI6l",
        "outputId": "04353739-b491-4b1b-b469-7fa4a0e9e218"
      },
      "execution_count": 41,
      "outputs": [
        {
          "output_type": "execute_result",
          "data": {
            "text/plain": [
              "Better Career Prospects      6528\n",
              "Flexibility & Convenience       2\n",
              "Other                           1\n",
              "Name: Motto, dtype: int64"
            ]
          },
          "metadata": {},
          "execution_count": 41
        }
      ]
    },
    {
      "cell_type": "code",
      "source": [
        "leads['Motto'].isnull().sum()"
      ],
      "metadata": {
        "colab": {
          "base_uri": "https://localhost:8080/"
        },
        "id": "bdBgXdM2mfg7",
        "outputId": "581789cf-073f-4553-ea9f-27a445f0f3a9"
      },
      "execution_count": 42,
      "outputs": [
        {
          "output_type": "execute_result",
          "data": {
            "text/plain": [
              "2709"
            ]
          },
          "metadata": {},
          "execution_count": 42
        }
      ]
    },
    {
      "cell_type": "code",
      "source": [
        "leads['Motto'] = leads['Motto'].replace(np.nan,'Better Career Prospects')"
      ],
      "metadata": {
        "id": "N3qYziNymlKc"
      },
      "execution_count": 43,
      "outputs": []
    },
    {
      "cell_type": "code",
      "source": [
        "percentage_null_values = (leads.isnull().sum() / leads.shape[0])*100\n",
        "percentage_null_values"
      ],
      "metadata": {
        "colab": {
          "base_uri": "https://localhost:8080/"
        },
        "id": "WjCQOXZlmwKy",
        "outputId": "2d1be152-9431-43d4-fb3b-5559c61a1df5"
      },
      "execution_count": 44,
      "outputs": [
        {
          "output_type": "execute_result",
          "data": {
            "text/plain": [
              "Lead Origin                                0.000000\n",
              "Lead Source                                0.389610\n",
              "Do Not Email                               0.000000\n",
              "Do Not Call                                0.000000\n",
              "Converted                                  0.000000\n",
              "TotalVisits                                1.482684\n",
              "Total Time Spent on Website                0.000000\n",
              "Page Views Per Visit                       1.482684\n",
              "Last Activity                              1.114719\n",
              "Country                                    0.000000\n",
              "Specialization                             0.000000\n",
              "Occupation                                 0.021645\n",
              "Motto                                      0.000000\n",
              "Search                                     0.000000\n",
              "Magazine                                   0.000000\n",
              "Newspaper Article                          0.000000\n",
              "X Education Forums                         0.000000\n",
              "Newspaper                                  0.000000\n",
              "Digital Advertisement                      0.000000\n",
              "Through Recommendations                    0.000000\n",
              "GetUpdates                                 0.000000\n",
              "Tags                                      36.287879\n",
              "City                                      39.707792\n",
              "A free copy of Mastering The Interview     0.000000\n",
              "Last Notable Activity                      0.000000\n",
              "dtype: float64"
            ]
          },
          "metadata": {},
          "execution_count": 44
        }
      ]
    },
    {
      "cell_type": "markdown",
      "source": [
        "#### Tags"
      ],
      "metadata": {
        "id": "aqs8TF00m_3c"
      }
    },
    {
      "cell_type": "code",
      "source": [
        "leads.Tags.value_counts()"
      ],
      "metadata": {
        "colab": {
          "base_uri": "https://localhost:8080/"
        },
        "id": "ohSylKjYm9N6",
        "outputId": "cc25f6a6-e254-45e5-ea88-053a876c1af1"
      },
      "execution_count": 45,
      "outputs": [
        {
          "output_type": "execute_result",
          "data": {
            "text/plain": [
              "Will revert after reading the email                  2072\n",
              "Ringing                                              1203\n",
              "Interested in other courses                           513\n",
              "Already a student                                     465\n",
              "Closed by Horizzon                                    358\n",
              "switched off                                          240\n",
              "Busy                                                  186\n",
              "Lost to EINS                                          175\n",
              "Not doing further education                           145\n",
              "Interested  in full time MBA                          117\n",
              "Graduation in progress                                111\n",
              "invalid number                                         83\n",
              "Diploma holder (Not Eligible)                          63\n",
              "wrong number given                                     47\n",
              "opp hangup                                             33\n",
              "number not provided                                    27\n",
              "in touch with EINS                                     12\n",
              "Lost to Others                                          7\n",
              "Still Thinking                                          6\n",
              "Want to take admission but has financial problems       6\n",
              "In confusion whether part time or DLP                   5\n",
              "Interested in Next batch                                5\n",
              "Lateral student                                         3\n",
              "Shall take in the next coming month                     2\n",
              "University not recognized                               2\n",
              "Recognition issue (DEC approval)                        1\n",
              "Name: Tags, dtype: int64"
            ]
          },
          "metadata": {},
          "execution_count": 45
        }
      ]
    },
    {
      "cell_type": "code",
      "source": [
        "leads.Tags.isnull().sum()"
      ],
      "metadata": {
        "colab": {
          "base_uri": "https://localhost:8080/"
        },
        "id": "Xi0_NM6KnGki",
        "outputId": "383fcfaa-2cc6-4112-cbe9-e71c45c5c19e"
      },
      "execution_count": 46,
      "outputs": [
        {
          "output_type": "execute_result",
          "data": {
            "text/plain": [
              "3353"
            ]
          },
          "metadata": {},
          "execution_count": 46
        }
      ]
    },
    {
      "cell_type": "code",
      "source": [
        "impute_null_values('Tags',20)"
      ],
      "metadata": {
        "id": "nFFll7DuncCM"
      },
      "execution_count": 47,
      "outputs": []
    },
    {
      "cell_type": "code",
      "source": [
        "percentage_null_values = (leads.isnull().sum() / leads.shape[0])*100\n",
        "percentage_null_values"
      ],
      "metadata": {
        "colab": {
          "base_uri": "https://localhost:8080/"
        },
        "id": "oOBYlTmPoNdh",
        "outputId": "882eeffe-9880-478e-d3d2-90f9f0dd18c2"
      },
      "execution_count": 48,
      "outputs": [
        {
          "output_type": "execute_result",
          "data": {
            "text/plain": [
              "Lead Origin                                0.000000\n",
              "Lead Source                                0.389610\n",
              "Do Not Email                               0.000000\n",
              "Do Not Call                                0.000000\n",
              "Converted                                  0.000000\n",
              "TotalVisits                                1.482684\n",
              "Total Time Spent on Website                0.000000\n",
              "Page Views Per Visit                       1.482684\n",
              "Last Activity                              1.114719\n",
              "Country                                    0.000000\n",
              "Specialization                             0.000000\n",
              "Occupation                                 0.021645\n",
              "Motto                                      0.000000\n",
              "Search                                     0.000000\n",
              "Magazine                                   0.000000\n",
              "Newspaper Article                          0.000000\n",
              "X Education Forums                         0.000000\n",
              "Newspaper                                  0.000000\n",
              "Digital Advertisement                      0.000000\n",
              "Through Recommendations                    0.000000\n",
              "GetUpdates                                 0.000000\n",
              "Tags                                       0.000000\n",
              "City                                      39.707792\n",
              "A free copy of Mastering The Interview     0.000000\n",
              "Last Notable Activity                      0.000000\n",
              "dtype: float64"
            ]
          },
          "metadata": {},
          "execution_count": 48
        }
      ]
    },
    {
      "cell_type": "markdown",
      "source": [
        "#### City"
      ],
      "metadata": {
        "id": "o4-uR1Vao5Lz"
      }
    },
    {
      "cell_type": "code",
      "source": [
        "leads.City.value_counts()"
      ],
      "metadata": {
        "colab": {
          "base_uri": "https://localhost:8080/"
        },
        "id": "5fFZLU4zt4W8",
        "outputId": "6ca74d17-2424-4337-cb2c-a55c21611c0c"
      },
      "execution_count": 49,
      "outputs": [
        {
          "output_type": "execute_result",
          "data": {
            "text/plain": [
              "Mumbai                         3222\n",
              "Thane & Outskirts               752\n",
              "Other Cities                    686\n",
              "Other Cities of Maharashtra     457\n",
              "Other Metro Cities              380\n",
              "Tier II Cities                   74\n",
              "Name: City, dtype: int64"
            ]
          },
          "metadata": {},
          "execution_count": 49
        }
      ]
    },
    {
      "cell_type": "code",
      "source": [
        "leads.City.isnull().sum()"
      ],
      "metadata": {
        "colab": {
          "base_uri": "https://localhost:8080/"
        },
        "id": "rbli71Vqt75l",
        "outputId": "3f1301fc-f48e-4cbc-c77d-453ca05afd05"
      },
      "execution_count": 50,
      "outputs": [
        {
          "output_type": "execute_result",
          "data": {
            "text/plain": [
              "3669"
            ]
          },
          "metadata": {},
          "execution_count": 50
        }
      ]
    },
    {
      "cell_type": "code",
      "source": [
        "impute_null_values('City',6)"
      ],
      "metadata": {
        "id": "QbfeX_V1uJHs"
      },
      "execution_count": 51,
      "outputs": []
    },
    {
      "cell_type": "code",
      "source": [
        "percentage_null_values = (leads.isnull().sum() / leads.shape[0])*100\n",
        "percentage_null_values"
      ],
      "metadata": {
        "colab": {
          "base_uri": "https://localhost:8080/"
        },
        "id": "zCaDcOqLuYZr",
        "outputId": "f5bddd28-959d-4d19-94af-f4fb3b309392"
      },
      "execution_count": 52,
      "outputs": [
        {
          "output_type": "execute_result",
          "data": {
            "text/plain": [
              "Lead Origin                               0.000000\n",
              "Lead Source                               0.389610\n",
              "Do Not Email                              0.000000\n",
              "Do Not Call                               0.000000\n",
              "Converted                                 0.000000\n",
              "TotalVisits                               1.482684\n",
              "Total Time Spent on Website               0.000000\n",
              "Page Views Per Visit                      1.482684\n",
              "Last Activity                             1.114719\n",
              "Country                                   0.000000\n",
              "Specialization                            0.000000\n",
              "Occupation                                0.021645\n",
              "Motto                                     0.000000\n",
              "Search                                    0.000000\n",
              "Magazine                                  0.000000\n",
              "Newspaper Article                         0.000000\n",
              "X Education Forums                        0.000000\n",
              "Newspaper                                 0.000000\n",
              "Digital Advertisement                     0.000000\n",
              "Through Recommendations                   0.000000\n",
              "GetUpdates                                0.000000\n",
              "Tags                                      0.000000\n",
              "City                                      0.000000\n",
              "A free copy of Mastering The Interview    0.000000\n",
              "Last Notable Activity                     0.000000\n",
              "dtype: float64"
            ]
          },
          "metadata": {},
          "execution_count": 52
        }
      ]
    },
    {
      "cell_type": "markdown",
      "source": [
        "#### Lead Source"
      ],
      "metadata": {
        "id": "TDSKLXVrunAk"
      }
    },
    {
      "cell_type": "code",
      "source": [
        "leads['Lead Source'].value_counts()"
      ],
      "metadata": {
        "colab": {
          "base_uri": "https://localhost:8080/"
        },
        "id": "wEHlqHr3udtp",
        "outputId": "b5c35c18-381e-4489-9b10-c89ff7a17015"
      },
      "execution_count": 53,
      "outputs": [
        {
          "output_type": "execute_result",
          "data": {
            "text/plain": [
              "Google               2868\n",
              "Direct Traffic       2543\n",
              "Olark Chat           1755\n",
              "Organic Search       1154\n",
              "Reference             534\n",
              "Welingak Website      142\n",
              "Referral Sites        125\n",
              "Facebook               55\n",
              "bing                    6\n",
              "google                  5\n",
              "Click2call              4\n",
              "Press_Release           2\n",
              "Social Media            2\n",
              "Live Chat               2\n",
              "youtubechannel          1\n",
              "testone                 1\n",
              "Pay per Click Ads       1\n",
              "welearnblog_Home        1\n",
              "WeLearn                 1\n",
              "blog                    1\n",
              "NC_EDM                  1\n",
              "Name: Lead Source, dtype: int64"
            ]
          },
          "metadata": {},
          "execution_count": 53
        }
      ]
    },
    {
      "cell_type": "code",
      "source": [
        "leads['Lead Source'].isnull().sum()"
      ],
      "metadata": {
        "colab": {
          "base_uri": "https://localhost:8080/"
        },
        "id": "bTyz1Kb6ulQ9",
        "outputId": "ffe4169e-260e-4e8a-9a22-987ba63a759e"
      },
      "execution_count": 54,
      "outputs": [
        {
          "output_type": "execute_result",
          "data": {
            "text/plain": [
              "36"
            ]
          },
          "metadata": {},
          "execution_count": 54
        }
      ]
    },
    {
      "cell_type": "code",
      "source": [
        "impute_null_values('Lead Source',6)"
      ],
      "metadata": {
        "id": "Klcevo79uvrH"
      },
      "execution_count": 55,
      "outputs": []
    },
    {
      "cell_type": "markdown",
      "source": [
        "#### Last Activity"
      ],
      "metadata": {
        "id": "f-iimieywHew"
      }
    },
    {
      "cell_type": "code",
      "source": [
        "leads['Last Activity'].value_counts()\n"
      ],
      "metadata": {
        "colab": {
          "base_uri": "https://localhost:8080/"
        },
        "id": "pE5cFrw6u5m9",
        "outputId": "fbd32437-7a92-4682-c0e7-87e21463557d"
      },
      "execution_count": 56,
      "outputs": [
        {
          "output_type": "execute_result",
          "data": {
            "text/plain": [
              "Email Opened                    3437\n",
              "SMS Sent                        2745\n",
              "Olark Chat Conversation          973\n",
              "Page Visited on Website          640\n",
              "Converted to Lead                428\n",
              "Email Bounced                    326\n",
              "Email Link Clicked               267\n",
              "Form Submitted on Website        116\n",
              "Unreachable                       93\n",
              "Unsubscribed                      61\n",
              "Had a Phone Conversation          30\n",
              "Approached upfront                 9\n",
              "View in browser link Clicked       6\n",
              "Email Received                     2\n",
              "Email Marked Spam                  2\n",
              "Visited Booth in Tradeshow         1\n",
              "Resubscribed to emails             1\n",
              "Name: Last Activity, dtype: int64"
            ]
          },
          "metadata": {},
          "execution_count": 56
        }
      ]
    },
    {
      "cell_type": "code",
      "source": [
        "leads['Last Activity'].isnull().sum()"
      ],
      "metadata": {
        "colab": {
          "base_uri": "https://localhost:8080/"
        },
        "id": "c-lIVfkDwMNg",
        "outputId": "d7c3b1f2-e9fe-4649-e764-52eede7d1cd8"
      },
      "execution_count": 57,
      "outputs": [
        {
          "output_type": "execute_result",
          "data": {
            "text/plain": [
              "103"
            ]
          },
          "metadata": {},
          "execution_count": 57
        }
      ]
    },
    {
      "cell_type": "code",
      "source": [
        "impute_null_values('Last Activity',2)"
      ],
      "metadata": {
        "id": "ZiBLMQaLwYKz"
      },
      "execution_count": 58,
      "outputs": []
    },
    {
      "cell_type": "markdown",
      "source": [
        "#### TotalVisits,Page Views Per Visit,Last Activity"
      ],
      "metadata": {
        "id": "mSRqGVYFvPEG"
      }
    },
    {
      "cell_type": "code",
      "source": [
        "leads[['TotalVisits','Page Views Per Visit']].describe()"
      ],
      "metadata": {
        "colab": {
          "base_uri": "https://localhost:8080/",
          "height": 300
        },
        "id": "Msd-iYWOvbML",
        "outputId": "5321ffdc-4553-4675-da4b-85c66982e59f"
      },
      "execution_count": 65,
      "outputs": [
        {
          "output_type": "execute_result",
          "data": {
            "text/plain": [
              "       TotalVisits  Page Views Per Visit\n",
              "count  9103.000000           9103.000000\n",
              "mean      3.445238              2.362820\n",
              "std       4.854853              2.161418\n",
              "min       0.000000              0.000000\n",
              "25%       1.000000              1.000000\n",
              "50%       3.000000              2.000000\n",
              "75%       5.000000              3.000000\n",
              "max     251.000000             55.000000"
            ],
            "text/html": [
              "\n",
              "  <div id=\"df-84a72917-0eb2-4faf-8ddf-b908d28a5e28\" class=\"colab-df-container\">\n",
              "    <div>\n",
              "<style scoped>\n",
              "    .dataframe tbody tr th:only-of-type {\n",
              "        vertical-align: middle;\n",
              "    }\n",
              "\n",
              "    .dataframe tbody tr th {\n",
              "        vertical-align: top;\n",
              "    }\n",
              "\n",
              "    .dataframe thead th {\n",
              "        text-align: right;\n",
              "    }\n",
              "</style>\n",
              "<table border=\"1\" class=\"dataframe\">\n",
              "  <thead>\n",
              "    <tr style=\"text-align: right;\">\n",
              "      <th></th>\n",
              "      <th>TotalVisits</th>\n",
              "      <th>Page Views Per Visit</th>\n",
              "    </tr>\n",
              "  </thead>\n",
              "  <tbody>\n",
              "    <tr>\n",
              "      <th>count</th>\n",
              "      <td>9103.000000</td>\n",
              "      <td>9103.000000</td>\n",
              "    </tr>\n",
              "    <tr>\n",
              "      <th>mean</th>\n",
              "      <td>3.445238</td>\n",
              "      <td>2.362820</td>\n",
              "    </tr>\n",
              "    <tr>\n",
              "      <th>std</th>\n",
              "      <td>4.854853</td>\n",
              "      <td>2.161418</td>\n",
              "    </tr>\n",
              "    <tr>\n",
              "      <th>min</th>\n",
              "      <td>0.000000</td>\n",
              "      <td>0.000000</td>\n",
              "    </tr>\n",
              "    <tr>\n",
              "      <th>25%</th>\n",
              "      <td>1.000000</td>\n",
              "      <td>1.000000</td>\n",
              "    </tr>\n",
              "    <tr>\n",
              "      <th>50%</th>\n",
              "      <td>3.000000</td>\n",
              "      <td>2.000000</td>\n",
              "    </tr>\n",
              "    <tr>\n",
              "      <th>75%</th>\n",
              "      <td>5.000000</td>\n",
              "      <td>3.000000</td>\n",
              "    </tr>\n",
              "    <tr>\n",
              "      <th>max</th>\n",
              "      <td>251.000000</td>\n",
              "      <td>55.000000</td>\n",
              "    </tr>\n",
              "  </tbody>\n",
              "</table>\n",
              "</div>\n",
              "    <div class=\"colab-df-buttons\">\n",
              "\n",
              "  <div class=\"colab-df-container\">\n",
              "    <button class=\"colab-df-convert\" onclick=\"convertToInteractive('df-84a72917-0eb2-4faf-8ddf-b908d28a5e28')\"\n",
              "            title=\"Convert this dataframe to an interactive table.\"\n",
              "            style=\"display:none;\">\n",
              "\n",
              "  <svg xmlns=\"http://www.w3.org/2000/svg\" height=\"24px\" viewBox=\"0 -960 960 960\">\n",
              "    <path d=\"M120-120v-720h720v720H120Zm60-500h600v-160H180v160Zm220 220h160v-160H400v160Zm0 220h160v-160H400v160ZM180-400h160v-160H180v160Zm440 0h160v-160H620v160ZM180-180h160v-160H180v160Zm440 0h160v-160H620v160Z\"/>\n",
              "  </svg>\n",
              "    </button>\n",
              "\n",
              "  <style>\n",
              "    .colab-df-container {\n",
              "      display:flex;\n",
              "      gap: 12px;\n",
              "    }\n",
              "\n",
              "    .colab-df-convert {\n",
              "      background-color: #E8F0FE;\n",
              "      border: none;\n",
              "      border-radius: 50%;\n",
              "      cursor: pointer;\n",
              "      display: none;\n",
              "      fill: #1967D2;\n",
              "      height: 32px;\n",
              "      padding: 0 0 0 0;\n",
              "      width: 32px;\n",
              "    }\n",
              "\n",
              "    .colab-df-convert:hover {\n",
              "      background-color: #E2EBFA;\n",
              "      box-shadow: 0px 1px 2px rgba(60, 64, 67, 0.3), 0px 1px 3px 1px rgba(60, 64, 67, 0.15);\n",
              "      fill: #174EA6;\n",
              "    }\n",
              "\n",
              "    .colab-df-buttons div {\n",
              "      margin-bottom: 4px;\n",
              "    }\n",
              "\n",
              "    [theme=dark] .colab-df-convert {\n",
              "      background-color: #3B4455;\n",
              "      fill: #D2E3FC;\n",
              "    }\n",
              "\n",
              "    [theme=dark] .colab-df-convert:hover {\n",
              "      background-color: #434B5C;\n",
              "      box-shadow: 0px 1px 3px 1px rgba(0, 0, 0, 0.15);\n",
              "      filter: drop-shadow(0px 1px 2px rgba(0, 0, 0, 0.3));\n",
              "      fill: #FFFFFF;\n",
              "    }\n",
              "  </style>\n",
              "\n",
              "    <script>\n",
              "      const buttonEl =\n",
              "        document.querySelector('#df-84a72917-0eb2-4faf-8ddf-b908d28a5e28 button.colab-df-convert');\n",
              "      buttonEl.style.display =\n",
              "        google.colab.kernel.accessAllowed ? 'block' : 'none';\n",
              "\n",
              "      async function convertToInteractive(key) {\n",
              "        const element = document.querySelector('#df-84a72917-0eb2-4faf-8ddf-b908d28a5e28');\n",
              "        const dataTable =\n",
              "          await google.colab.kernel.invokeFunction('convertToInteractive',\n",
              "                                                    [key], {});\n",
              "        if (!dataTable) return;\n",
              "\n",
              "        const docLinkHtml = 'Like what you see? Visit the ' +\n",
              "          '<a target=\"_blank\" href=https://colab.research.google.com/notebooks/data_table.ipynb>data table notebook</a>'\n",
              "          + ' to learn more about interactive tables.';\n",
              "        element.innerHTML = '';\n",
              "        dataTable['output_type'] = 'display_data';\n",
              "        await google.colab.output.renderOutput(dataTable, element);\n",
              "        const docLink = document.createElement('div');\n",
              "        docLink.innerHTML = docLinkHtml;\n",
              "        element.appendChild(docLink);\n",
              "      }\n",
              "    </script>\n",
              "  </div>\n",
              "\n",
              "\n",
              "<div id=\"df-3cc1802c-03a7-41a0-9fac-b8d5251059f7\">\n",
              "  <button class=\"colab-df-quickchart\" onclick=\"quickchart('df-3cc1802c-03a7-41a0-9fac-b8d5251059f7')\"\n",
              "            title=\"Suggest charts\"\n",
              "            style=\"display:none;\">\n",
              "\n",
              "<svg xmlns=\"http://www.w3.org/2000/svg\" height=\"24px\"viewBox=\"0 0 24 24\"\n",
              "     width=\"24px\">\n",
              "    <g>\n",
              "        <path d=\"M19 3H5c-1.1 0-2 .9-2 2v14c0 1.1.9 2 2 2h14c1.1 0 2-.9 2-2V5c0-1.1-.9-2-2-2zM9 17H7v-7h2v7zm4 0h-2V7h2v10zm4 0h-2v-4h2v4z\"/>\n",
              "    </g>\n",
              "</svg>\n",
              "  </button>\n",
              "\n",
              "<style>\n",
              "  .colab-df-quickchart {\n",
              "      --bg-color: #E8F0FE;\n",
              "      --fill-color: #1967D2;\n",
              "      --hover-bg-color: #E2EBFA;\n",
              "      --hover-fill-color: #174EA6;\n",
              "      --disabled-fill-color: #AAA;\n",
              "      --disabled-bg-color: #DDD;\n",
              "  }\n",
              "\n",
              "  [theme=dark] .colab-df-quickchart {\n",
              "      --bg-color: #3B4455;\n",
              "      --fill-color: #D2E3FC;\n",
              "      --hover-bg-color: #434B5C;\n",
              "      --hover-fill-color: #FFFFFF;\n",
              "      --disabled-bg-color: #3B4455;\n",
              "      --disabled-fill-color: #666;\n",
              "  }\n",
              "\n",
              "  .colab-df-quickchart {\n",
              "    background-color: var(--bg-color);\n",
              "    border: none;\n",
              "    border-radius: 50%;\n",
              "    cursor: pointer;\n",
              "    display: none;\n",
              "    fill: var(--fill-color);\n",
              "    height: 32px;\n",
              "    padding: 0;\n",
              "    width: 32px;\n",
              "  }\n",
              "\n",
              "  .colab-df-quickchart:hover {\n",
              "    background-color: var(--hover-bg-color);\n",
              "    box-shadow: 0 1px 2px rgba(60, 64, 67, 0.3), 0 1px 3px 1px rgba(60, 64, 67, 0.15);\n",
              "    fill: var(--button-hover-fill-color);\n",
              "  }\n",
              "\n",
              "  .colab-df-quickchart-complete:disabled,\n",
              "  .colab-df-quickchart-complete:disabled:hover {\n",
              "    background-color: var(--disabled-bg-color);\n",
              "    fill: var(--disabled-fill-color);\n",
              "    box-shadow: none;\n",
              "  }\n",
              "\n",
              "  .colab-df-spinner {\n",
              "    border: 2px solid var(--fill-color);\n",
              "    border-color: transparent;\n",
              "    border-bottom-color: var(--fill-color);\n",
              "    animation:\n",
              "      spin 1s steps(1) infinite;\n",
              "  }\n",
              "\n",
              "  @keyframes spin {\n",
              "    0% {\n",
              "      border-color: transparent;\n",
              "      border-bottom-color: var(--fill-color);\n",
              "      border-left-color: var(--fill-color);\n",
              "    }\n",
              "    20% {\n",
              "      border-color: transparent;\n",
              "      border-left-color: var(--fill-color);\n",
              "      border-top-color: var(--fill-color);\n",
              "    }\n",
              "    30% {\n",
              "      border-color: transparent;\n",
              "      border-left-color: var(--fill-color);\n",
              "      border-top-color: var(--fill-color);\n",
              "      border-right-color: var(--fill-color);\n",
              "    }\n",
              "    40% {\n",
              "      border-color: transparent;\n",
              "      border-right-color: var(--fill-color);\n",
              "      border-top-color: var(--fill-color);\n",
              "    }\n",
              "    60% {\n",
              "      border-color: transparent;\n",
              "      border-right-color: var(--fill-color);\n",
              "    }\n",
              "    80% {\n",
              "      border-color: transparent;\n",
              "      border-right-color: var(--fill-color);\n",
              "      border-bottom-color: var(--fill-color);\n",
              "    }\n",
              "    90% {\n",
              "      border-color: transparent;\n",
              "      border-bottom-color: var(--fill-color);\n",
              "    }\n",
              "  }\n",
              "</style>\n",
              "\n",
              "  <script>\n",
              "    async function quickchart(key) {\n",
              "      const quickchartButtonEl =\n",
              "        document.querySelector('#' + key + ' button');\n",
              "      quickchartButtonEl.disabled = true;  // To prevent multiple clicks.\n",
              "      quickchartButtonEl.classList.add('colab-df-spinner');\n",
              "      try {\n",
              "        const charts = await google.colab.kernel.invokeFunction(\n",
              "            'suggestCharts', [key], {});\n",
              "      } catch (error) {\n",
              "        console.error('Error during call to suggestCharts:', error);\n",
              "      }\n",
              "      quickchartButtonEl.classList.remove('colab-df-spinner');\n",
              "      quickchartButtonEl.classList.add('colab-df-quickchart-complete');\n",
              "    }\n",
              "    (() => {\n",
              "      let quickchartButtonEl =\n",
              "        document.querySelector('#df-3cc1802c-03a7-41a0-9fac-b8d5251059f7 button');\n",
              "      quickchartButtonEl.style.display =\n",
              "        google.colab.kernel.accessAllowed ? 'block' : 'none';\n",
              "    })();\n",
              "  </script>\n",
              "</div>\n",
              "\n",
              "    </div>\n",
              "  </div>\n"
            ]
          },
          "metadata": {},
          "execution_count": 65
        }
      ]
    },
    {
      "cell_type": "code",
      "source": [
        "leads[['TotalVisits','Page Views Per Visit']].isnull().sum()"
      ],
      "metadata": {
        "colab": {
          "base_uri": "https://localhost:8080/"
        },
        "id": "MdlWN5drvro0",
        "outputId": "06e61a50-fc14-4940-a753-6b4237a57a58"
      },
      "execution_count": 66,
      "outputs": [
        {
          "output_type": "execute_result",
          "data": {
            "text/plain": [
              "TotalVisits             137\n",
              "Page Views Per Visit    137\n",
              "dtype: int64"
            ]
          },
          "metadata": {},
          "execution_count": 66
        }
      ]
    },
    {
      "cell_type": "code",
      "source": [
        "leads['TotalVisits'] = leads['TotalVisits'].replace(np.nan,leads['TotalVisits'].mean())"
      ],
      "metadata": {
        "id": "Azk-PPNSxFO8"
      },
      "execution_count": 67,
      "outputs": []
    },
    {
      "cell_type": "code",
      "source": [
        "leads['Page Views Per Visit'] = leads['Page Views Per Visit'].replace(np.nan,leads['Page Views Per Visit'].mean())"
      ],
      "metadata": {
        "id": "AcTzp-5cyGb-"
      },
      "execution_count": 68,
      "outputs": []
    },
    {
      "cell_type": "code",
      "source": [
        "percentage_null_values = (leads.isnull().sum() / leads.shape[0])*100\n",
        "percentage_null_values"
      ],
      "metadata": {
        "id": "q_P0mDNjySS6",
        "colab": {
          "base_uri": "https://localhost:8080/"
        },
        "outputId": "c208bf83-9110-4f9e-83d0-a0fcb184988d"
      },
      "execution_count": 77,
      "outputs": [
        {
          "output_type": "execute_result",
          "data": {
            "text/plain": [
              "Lead Origin                               0.0\n",
              "Lead Source                               0.0\n",
              "Do Not Email                              0.0\n",
              "Do Not Call                               0.0\n",
              "Converted                                 0.0\n",
              "TotalVisits                               0.0\n",
              "Total Time Spent on Website               0.0\n",
              "Page Views Per Visit                      0.0\n",
              "Last Activity                             0.0\n",
              "Country                                   0.0\n",
              "Specialization                            0.0\n",
              "Occupation                                0.0\n",
              "Motto                                     0.0\n",
              "Search                                    0.0\n",
              "Magazine                                  0.0\n",
              "Newspaper Article                         0.0\n",
              "X Education Forums                        0.0\n",
              "Newspaper                                 0.0\n",
              "Digital Advertisement                     0.0\n",
              "Through Recommendations                   0.0\n",
              "GetUpdates                                0.0\n",
              "Tags                                      0.0\n",
              "City                                      0.0\n",
              "A free copy of Mastering The Interview    0.0\n",
              "Last Notable Activity                     0.0\n",
              "dtype: float64"
            ]
          },
          "metadata": {},
          "execution_count": 77
        }
      ]
    },
    {
      "cell_type": "markdown",
      "source": [
        "# <h2 align=\"left\"> <font color='brown'>Data Visualization</font></h2>"
      ],
      "metadata": {
        "id": "186ZsIAAzh6A"
      }
    },
    {
      "cell_type": "markdown",
      "source": [
        "#### Numeric Variable"
      ],
      "metadata": {
        "id": "J94J0Cnw3TWC"
      }
    },
    {
      "cell_type": "code",
      "source": [
        "# Numerical Variables\n",
        "num_category = ['Converted','TotalVisits','Total Time Spent on Website','Page Views Per Visit']\n",
        "\n",
        "sns.heatmap(leads[num_category].corr(), cmap=\"RdYlGn\", annot=True)\n",
        "plt.show()"
      ],
      "metadata": {
        "colab": {
          "base_uri": "https://localhost:8080/",
          "height": 652
        },
        "id": "aTPLfkVszpqq",
        "outputId": "11af30dc-d09e-4292-e522-f09ce8a43ffb"
      },
      "execution_count": 78,
      "outputs": [
        {
          "output_type": "display_data",
          "data": {
            "text/plain": [
              "<Figure size 800x550 with 2 Axes>"
            ],
            "image/png": "[encoded data removed]"
          },
          "metadata": {}
        }
      ]
    },
    {
      "cell_type": "code",
      "source": [
        "# Target\n",
        "target = round(leads.Converted.value_counts(normalize=True)*100,2)\n",
        "x = ['Not Converted','Converted']\n",
        "target.plot.pie(labels=x,autopct='%1.1f%%',\n",
        "                textprops={'fontsize': 16, 'fontweight' : 20, 'color' : 'Black'}, startangle=90)\n",
        "plt.show()"
      ],
      "metadata": {
        "colab": {
          "base_uri": "https://localhost:8080/",
          "height": 460
        },
        "id": "-UKWcdAE3017",
        "outputId": "135a94b7-f33b-41df-8ce4-6d2830804921"
      },
      "execution_count": 79,
      "outputs": [
        {
          "output_type": "display_data",
          "data": {
            "text/plain": [
              "<Figure size 800x550 with 1 Axes>"
            ],
            "image/png": "[encoded data removed]"
          },
          "metadata": {}
        }
      ]
    },
    {
      "cell_type": "code",
      "source": [
        "# Box plot\n",
        "plt.figure(figsize=(22,10))\n",
        "plt.subplot(2,4,1)\n",
        "plt.title('TotalVisits')\n",
        "sns.boxplot(leads.TotalVisits)\n",
        "plt.subplot(2,4,2)\n",
        "plt.title('Total Time Spent on Website')\n",
        "sns.boxplot(leads['Total Time Spent on Website'])\n",
        "plt.subplot(2,4,3)\n",
        "plt.title('Page Views Per Visit')\n",
        "sns.boxplot(leads['Page Views Per Visit'])\n",
        "plt.show()"
      ],
      "metadata": {
        "colab": {
          "base_uri": "https://localhost:8080/",
          "height": 431
        },
        "id": "J-7PCjJnZ4bZ",
        "outputId": "5cb2e79a-8bc2-4a56-e9ca-fe054e686d40"
      },
      "execution_count": 80,
      "outputs": [
        {
          "output_type": "display_data",
          "data": {
            "text/plain": [
              "<Figure size 2200x1000 with 3 Axes>"
            ],
            "image/png": "[encoded data removed]"
          },
          "metadata": {}
        }
      ]
    },
    {
      "cell_type": "code",
      "source": [
        "# TotalVisits and Page Views Per Visit has outliers\n",
        "leads[['TotalVisits','Page Views Per Visit']].describe(percentiles=[0.05,.25, .5, .75, .90, .95, .99])"
      ],
      "metadata": {
        "colab": {
          "base_uri": "https://localhost:8080/",
          "height": 426
        },
        "id": "b43cWHH3bRUE",
        "outputId": "4cd57d0b-7e26-4a06-efdf-24521e6e9720"
      },
      "execution_count": 81,
      "outputs": [
        {
          "output_type": "execute_result",
          "data": {
            "text/plain": [
              "       TotalVisits  Page Views Per Visit\n",
              "count  9240.000000           9240.000000\n",
              "mean      3.445238              2.362820\n",
              "std       4.818723              2.145333\n",
              "min       0.000000              0.000000\n",
              "5%        0.000000              0.000000\n",
              "25%       1.000000              1.000000\n",
              "50%       3.000000              2.000000\n",
              "75%       5.000000              3.000000\n",
              "90%       7.000000              5.000000\n",
              "95%      10.000000              6.000000\n",
              "99%      17.000000              9.000000\n",
              "max     251.000000             55.000000"
            ],
            "text/html": [
              "\n",
              "  <div id=\"df-77bfaaba-5d48-49ed-9354-026fb1977d37\" class=\"colab-df-container\">\n",
              "    <div>\n",
              "<style scoped>\n",
              "    .dataframe tbody tr th:only-of-type {\n",
              "        vertical-align: middle;\n",
              "    }\n",
              "\n",
              "    .dataframe tbody tr th {\n",
              "        vertical-align: top;\n",
              "    }\n",
              "\n",
              "    .dataframe thead th {\n",
              "        text-align: right;\n",
              "    }\n",
              "</style>\n",
              "<table border=\"1\" class=\"dataframe\">\n",
              "  <thead>\n",
              "    <tr style=\"text-align: right;\">\n",
              "      <th></th>\n",
              "      <th>TotalVisits</th>\n",
              "      <th>Page Views Per Visit</th>\n",
              "    </tr>\n",
              "  </thead>\n",
              "  <tbody>\n",
              "    <tr>\n",
              "      <th>count</th>\n",
              "      <td>9240.000000</td>\n",
              "      <td>9240.000000</td>\n",
              "    </tr>\n",
              "    <tr>\n",
              "      <th>mean</th>\n",
              "      <td>3.445238</td>\n",
              "      <td>2.362820</td>\n",
              "    </tr>\n",
              "    <tr>\n",
              "      <th>std</th>\n",
              "      <td>4.818723</td>\n",
              "      <td>2.145333</td>\n",
              "    </tr>\n",
              "    <tr>\n",
              "      <th>min</th>\n",
              "      <td>0.000000</td>\n",
              "      <td>0.000000</td>\n",
              "    </tr>\n",
              "    <tr>\n",
              "      <th>5%</th>\n",
              "      <td>0.000000</td>\n",
              "      <td>0.000000</td>\n",
              "    </tr>\n",
              "    <tr>\n",
              "      <th>25%</th>\n",
              "      <td>1.000000</td>\n",
              "      <td>1.000000</td>\n",
              "    </tr>\n",
              "    <tr>\n",
              "      <th>50%</th>\n",
              "      <td>3.000000</td>\n",
              "      <td>2.000000</td>\n",
              "    </tr>\n",
              "    <tr>\n",
              "      <th>75%</th>\n",
              "      <td>5.000000</td>\n",
              "      <td>3.000000</td>\n",
              "    </tr>\n",
              "    <tr>\n",
              "      <th>90%</th>\n",
              "      <td>7.000000</td>\n",
              "      <td>5.000000</td>\n",
              "    </tr>\n",
              "    <tr>\n",
              "      <th>95%</th>\n",
              "      <td>10.000000</td>\n",
              "      <td>6.000000</td>\n",
              "    </tr>\n",
              "    <tr>\n",
              "      <th>99%</th>\n",
              "      <td>17.000000</td>\n",
              "      <td>9.000000</td>\n",
              "    </tr>\n",
              "    <tr>\n",
              "      <th>max</th>\n",
              "      <td>251.000000</td>\n",
              "      <td>55.000000</td>\n",
              "    </tr>\n",
              "  </tbody>\n",
              "</table>\n",
              "</div>\n",
              "    <div class=\"colab-df-buttons\">\n",
              "\n",
              "  <div class=\"colab-df-container\">\n",
              "    <button class=\"colab-df-convert\" onclick=\"convertToInteractive('df-77bfaaba-5d48-49ed-9354-026fb1977d37')\"\n",
              "            title=\"Convert this dataframe to an interactive table.\"\n",
              "            style=\"display:none;\">\n",
              "\n",
              "  <svg xmlns=\"http://www.w3.org/2000/svg\" height=\"24px\" viewBox=\"0 -960 960 960\">\n",
              "    <path d=\"M120-120v-720h720v720H120Zm60-500h600v-160H180v160Zm220 220h160v-160H400v160Zm0 220h160v-160H400v160ZM180-400h160v-160H180v160Zm440 0h160v-160H620v160ZM180-180h160v-160H180v160Zm440 0h160v-160H620v160Z\"/>\n",
              "  </svg>\n",
              "    </button>\n",
              "\n",
              "  <style>\n",
              "    .colab-df-container {\n",
              "      display:flex;\n",
              "      gap: 12px;\n",
              "    }\n",
              "\n",
              "    .colab-df-convert {\n",
              "      background-color: #E8F0FE;\n",
              "      border: none;\n",
              "      border-radius: 50%;\n",
              "      cursor: pointer;\n",
              "      display: none;\n",
              "      fill: #1967D2;\n",
              "      height: 32px;\n",
              "      padding: 0 0 0 0;\n",
              "      width: 32px;\n",
              "    }\n",
              "\n",
              "    .colab-df-convert:hover {\n",
              "      background-color: #E2EBFA;\n",
              "      box-shadow: 0px 1px 2px rgba(60, 64, 67, 0.3), 0px 1px 3px 1px rgba(60, 64, 67, 0.15);\n",
              "      fill: #174EA6;\n",
              "    }\n",
              "\n",
              "    .colab-df-buttons div {\n",
              "      margin-bottom: 4px;\n",
              "    }\n",
              "\n",
              "    [theme=dark] .colab-df-convert {\n",
              "      background-color: #3B4455;\n",
              "      fill: #D2E3FC;\n",
              "    }\n",
              "\n",
              "    [theme=dark] .colab-df-convert:hover {\n",
              "      background-color: #434B5C;\n",
              "      box-shadow: 0px 1px 3px 1px rgba(0, 0, 0, 0.15);\n",
              "      filter: drop-shadow(0px 1px 2px rgba(0, 0, 0, 0.3));\n",
              "      fill: #FFFFFF;\n",
              "    }\n",
              "  </style>\n",
              "\n",
              "    <script>\n",
              "      const buttonEl =\n",
              "        document.querySelector('#df-77bfaaba-5d48-49ed-9354-026fb1977d37 button.colab-df-convert');\n",
              "      buttonEl.style.display =\n",
              "        google.colab.kernel.accessAllowed ? 'block' : 'none';\n",
              "\n",
              "      async function convertToInteractive(key) {\n",
              "        const element = document.querySelector('#df-77bfaaba-5d48-49ed-9354-026fb1977d37');\n",
              "        const dataTable =\n",
              "          await google.colab.kernel.invokeFunction('convertToInteractive',\n",
              "                                                    [key], {});\n",
              "        if (!dataTable) return;\n",
              "\n",
              "        const docLinkHtml = 'Like what you see? Visit the ' +\n",
              "          '<a target=\"_blank\" href=https://colab.research.google.com/notebooks/data_table.ipynb>data table notebook</a>'\n",
              "          + ' to learn more about interactive tables.';\n",
              "        element.innerHTML = '';\n",
              "        dataTable['output_type'] = 'display_data';\n",
              "        await google.colab.output.renderOutput(dataTable, element);\n",
              "        const docLink = document.createElement('div');\n",
              "        docLink.innerHTML = docLinkHtml;\n",
              "        element.appendChild(docLink);\n",
              "      }\n",
              "    </script>\n",
              "  </div>\n",
              "\n",
              "\n",
              "<div id=\"df-e0d96626-3784-4fc9-ae0f-122c1a220106\">\n",
              "  <button class=\"colab-df-quickchart\" onclick=\"quickchart('df-e0d96626-3784-4fc9-ae0f-122c1a220106')\"\n",
              "            title=\"Suggest charts\"\n",
              "            style=\"display:none;\">\n",
              "\n",
              "<svg xmlns=\"http://www.w3.org/2000/svg\" height=\"24px\"viewBox=\"0 0 24 24\"\n",
              "     width=\"24px\">\n",
              "    <g>\n",
              "        <path d=\"M19 3H5c-1.1 0-2 .9-2 2v14c0 1.1.9 2 2 2h14c1.1 0 2-.9 2-2V5c0-1.1-.9-2-2-2zM9 17H7v-7h2v7zm4 0h-2V7h2v10zm4 0h-2v-4h2v4z\"/>\n",
              "    </g>\n",
              "</svg>\n",
              "  </button>\n",
              "\n",
              "<style>\n",
              "  .colab-df-quickchart {\n",
              "      --bg-color: #E8F0FE;\n",
              "      --fill-color: #1967D2;\n",
              "      --hover-bg-color: #E2EBFA;\n",
              "      --hover-fill-color: #174EA6;\n",
              "      --disabled-fill-color: #AAA;\n",
              "      --disabled-bg-color: #DDD;\n",
              "  }\n",
              "\n",
              "  [theme=dark] .colab-df-quickchart {\n",
              "      --bg-color: #3B4455;\n",
              "      --fill-color: #D2E3FC;\n",
              "      --hover-bg-color: #434B5C;\n",
              "      --hover-fill-color: #FFFFFF;\n",
              "      --disabled-bg-color: #3B4455;\n",
              "      --disabled-fill-color: #666;\n",
              "  }\n",
              "\n",
              "  .colab-df-quickchart {\n",
              "    background-color: var(--bg-color);\n",
              "    border: none;\n",
              "    border-radius: 50%;\n",
              "    cursor: pointer;\n",
              "    display: none;\n",
              "    fill: var(--fill-color);\n",
              "    height: 32px;\n",
              "    padding: 0;\n",
              "    width: 32px;\n",
              "  }\n",
              "\n",
              "  .colab-df-quickchart:hover {\n",
              "    background-color: var(--hover-bg-color);\n",
              "    box-shadow: 0 1px 2px rgba(60, 64, 67, 0.3), 0 1px 3px 1px rgba(60, 64, 67, 0.15);\n",
              "    fill: var(--button-hover-fill-color);\n",
              "  }\n",
              "\n",
              "  .colab-df-quickchart-complete:disabled,\n",
              "  .colab-df-quickchart-complete:disabled:hover {\n",
              "    background-color: var(--disabled-bg-color);\n",
              "    fill: var(--disabled-fill-color);\n",
              "    box-shadow: none;\n",
              "  }\n",
              "\n",
              "  .colab-df-spinner {\n",
              "    border: 2px solid var(--fill-color);\n",
              "    border-color: transparent;\n",
              "    border-bottom-color: var(--fill-color);\n",
              "    animation:\n",
              "      spin 1s steps(1) infinite;\n",
              "  }\n",
              "\n",
              "  @keyframes spin {\n",
              "    0% {\n",
              "      border-color: transparent;\n",
              "      border-bottom-color: var(--fill-color);\n",
              "      border-left-color: var(--fill-color);\n",
              "    }\n",
              "    20% {\n",
              "      border-color: transparent;\n",
              "      border-left-color: var(--fill-color);\n",
              "      border-top-color: var(--fill-color);\n",
              "    }\n",
              "    30% {\n",
              "      border-color: transparent;\n",
              "      border-left-color: var(--fill-color);\n",
              "      border-top-color: var(--fill-color);\n",
              "      border-right-color: var(--fill-color);\n",
              "    }\n",
              "    40% {\n",
              "      border-color: transparent;\n",
              "      border-right-color: var(--fill-color);\n",
              "      border-top-color: var(--fill-color);\n",
              "    }\n",
              "    60% {\n",
              "      border-color: transparent;\n",
              "      border-right-color: var(--fill-color);\n",
              "    }\n",
              "    80% {\n",
              "      border-color: transparent;\n",
              "      border-right-color: var(--fill-color);\n",
              "      border-bottom-color: var(--fill-color);\n",
              "    }\n",
              "    90% {\n",
              "      border-color: transparent;\n",
              "      border-bottom-color: var(--fill-color);\n",
              "    }\n",
              "  }\n",
              "</style>\n",
              "\n",
              "  <script>\n",
              "    async function quickchart(key) {\n",
              "      const quickchartButtonEl =\n",
              "        document.querySelector('#' + key + ' button');\n",
              "      quickchartButtonEl.disabled = true;  // To prevent multiple clicks.\n",
              "      quickchartButtonEl.classList.add('colab-df-spinner');\n",
              "      try {\n",
              "        const charts = await google.colab.kernel.invokeFunction(\n",
              "            'suggestCharts', [key], {});\n",
              "      } catch (error) {\n",
              "        console.error('Error during call to suggestCharts:', error);\n",
              "      }\n",
              "      quickchartButtonEl.classList.remove('colab-df-spinner');\n",
              "      quickchartButtonEl.classList.add('colab-df-quickchart-complete');\n",
              "    }\n",
              "    (() => {\n",
              "      let quickchartButtonEl =\n",
              "        document.querySelector('#df-e0d96626-3784-4fc9-ae0f-122c1a220106 button');\n",
              "      quickchartButtonEl.style.display =\n",
              "        google.colab.kernel.accessAllowed ? 'block' : 'none';\n",
              "    })();\n",
              "  </script>\n",
              "</div>\n",
              "\n",
              "    </div>\n",
              "  </div>\n"
            ]
          },
          "metadata": {},
          "execution_count": 81
        }
      ]
    },
    {
      "cell_type": "code",
      "source": [
        "# Correcting outliers from medians\n",
        "def replace_outliers_with_median(column,value):\n",
        "  indices = leads[leads[column] > value].TotalVisits.index\n",
        "  leads.loc[indices,column] = leads[column].median()\n",
        "\n"
      ],
      "metadata": {
        "id": "29Fbyp5Hex4x"
      },
      "execution_count": 82,
      "outputs": []
    },
    {
      "cell_type": "code",
      "source": [
        "replace_outliers_with_median('Page Views Per Visit',9)\n",
        "replace_outliers_with_median('TotalVisits',9)"
      ],
      "metadata": {
        "id": "3tG_-5ajjUBY"
      },
      "execution_count": 83,
      "outputs": []
    },
    {
      "cell_type": "code",
      "source": [
        "# Box Plots after outlier treatment\n",
        "plt.figure(figsize=(22,10))\n",
        "plt.subplot(2,4,1)\n",
        "plt.title('TotalVisits')\n",
        "sns.boxplot(leads.TotalVisits)\n",
        "plt.subplot(2,4,2)\n",
        "plt.title('Page Views Per Visit')\n",
        "sns.boxplot(leads['Page Views Per Visit'])\n",
        "plt.show()"
      ],
      "metadata": {
        "colab": {
          "base_uri": "https://localhost:8080/",
          "height": 431
        },
        "id": "9p25oL0Mj8kS",
        "outputId": "d2923af9-d042-43b2-ba2a-abbdbbf47bbe"
      },
      "execution_count": 84,
      "outputs": [
        {
          "output_type": "display_data",
          "data": {
            "text/plain": [
              "<Figure size 2200x1000 with 2 Axes>"
            ],
            "image/png": "[encoded data removed]"
          },
          "metadata": {}
        }
      ]
    },
    {
      "cell_type": "markdown",
      "source": [
        "#### Categorical Data"
      ],
      "metadata": {
        "id": "oMKsB_ynEKY5"
      }
    },
    {
      "cell_type": "code",
      "source": [
        "# User defined function Used for visualisation\n",
        "\n",
        "#Sub Plot\n",
        "\n",
        "def subplot(features):\n",
        "    for i in range(0,len(features)):\n",
        "        #print(features[i])\n",
        "        plt.subplot(2, 2,i+1)\n",
        "        chart = (sns.countplot(x=leads[features[i]],hue=leads.Converted))\n",
        "\n",
        "        chart.set_xticklabels(chart.get_xticklabels(), rotation=90)\n",
        "\n",
        "         # Adding and formatting title\n",
        "         #plt.title(features[i], fontdict={'fontsize': 20, 'fontweight' : 20, 'color' : 'Black'})\n",
        "\n",
        "        # Labeling Axes\n",
        "        plt.xlabel(features[i], fontdict={'fontsize': 12, 'fontweight' : 20, 'color' : 'Brown'})\n",
        "        plt.ylabel(\"Count\", fontdict={'fontsize': 12, 'fontweight' : 20, 'color' : 'Brown'})\n",
        "        plt.show()\n",
        "\n",
        "\n",
        "#Count Plot\n",
        "\n",
        "def count_plot(feature_name,hue,plot_title,x_lablel,y_lablel):\n",
        "    chart = (sns.countplot(x=leads[feature_name],hue=hue))\n",
        "    chart.set_xticklabels(chart.get_xticklabels(), rotation=90)\n",
        "\n",
        "    # Adding and formatting title\n",
        "    plt.title(plot_title, fontdict={'fontsize': 10, 'fontweight' : 10, 'color' : 'Black'})\n",
        "\n",
        "    # Labeling Axes\n",
        "    plt.xlabel(x_lablel, fontdict={'fontsize': 8, 'fontweight' : 8, 'color' : 'Brown'})\n",
        "    plt.ylabel(y_lablel, fontdict={'fontsize': 8, 'fontweight' : 8, 'color' : 'Brown'})\n",
        "    plt.show()"
      ],
      "metadata": {
        "id": "dYiZ14Ms8uok"
      },
      "execution_count": 85,
      "outputs": []
    },
    {
      "cell_type": "code",
      "source": [
        "features = ['Lead Source','Lead Origin','Do Not Email','Do Not Call']\n",
        "subplot(features)\n",
        "\n",
        "# Data is highly skwed for Do Not call, Mostly all the data is pointing to No, hence will not make sense evaluating this feature\n",
        "leads.drop('Do Not Call',axis=1,inplace=True)"
      ],
      "metadata": {
        "colab": {
          "base_uri": "https://localhost:8080/",
          "height": 1000
        },
        "id": "c3HjLLm1HJBW",
        "outputId": "0470ae2b-37ad-476d-86c2-ca0ae9291ce4"
      },
      "execution_count": 86,
      "outputs": [
        {
          "output_type": "display_data",
          "data": {
            "text/plain": [
              "<Figure size 800x550 with 1 Axes>"
            ],
            "image/png": "[encoded data removed]"
          },
          "metadata": {}
        },
        {
          "output_type": "display_data",
          "data": {
            "text/plain": [
              "<Figure size 800x550 with 1 Axes>"
            ],
            "image/png": "[encoded data removed]"
          },
          "metadata": {}
        },
        {
          "output_type": "display_data",
          "data": {
            "text/plain": [
              "<Figure size 800x550 with 1 Axes>"
            ],
            "image/png": "[encoded data removed]"
          },
          "metadata": {}
        },
        {
          "output_type": "display_data",
          "data": {
            "text/plain": [
              "<Figure size 800x550 with 1 Axes>"
            ],
            "image/png": "[encoded data removed]"
          },
          "metadata": {}
        }
      ]
    },
    {
      "cell_type": "code",
      "source": [
        "count_plot('Country',leads.Converted,'Country vs Converted',\n",
        "           'Converted and Country','Count')\n",
        "\n",
        "# Data is highly skwed for India, Mostly all the data is pointing to India, hence will not make sense evaluating this feature\n",
        "leads.drop('Country',axis=1,inplace=True)"
      ],
      "metadata": {
        "colab": {
          "base_uri": "https://localhost:8080/",
          "height": 636
        },
        "id": "LZaXQ9ZjH2H1",
        "outputId": "d1714b7f-5e2f-46cc-d89d-c9b404c45346"
      },
      "execution_count": 87,
      "outputs": [
        {
          "output_type": "display_data",
          "data": {
            "text/plain": [
              "<Figure size 800x550 with 1 Axes>"
            ],
            "image/png": "[encoded data removed]"
          },
          "metadata": {}
        }
      ]
    },
    {
      "cell_type": "code",
      "source": [
        "count_plot('City',leads.Converted,'City vs Converted',\n",
        "           'Converted and City','Count')"
      ],
      "metadata": {
        "colab": {
          "base_uri": "https://localhost:8080/",
          "height": 676
        },
        "id": "ZCdNwUL4Pka0",
        "outputId": "09c70c40-31b4-49ee-c97e-d7e5c07c5df3"
      },
      "execution_count": 88,
      "outputs": [
        {
          "output_type": "display_data",
          "data": {
            "text/plain": [
              "<Figure size 800x550 with 1 Axes>"
            ],
            "image/png": "[encoded data removed]"
          },
          "metadata": {}
        }
      ]
    },
    {
      "cell_type": "code",
      "source": [
        "\n",
        "count_plot('Specialization',leads.Converted,'Specialization vs Converted',\n",
        "           'Converted and Specialization','Count')"
      ],
      "metadata": {
        "colab": {
          "base_uri": "https://localhost:8080/",
          "height": 724
        },
        "id": "uItjD8OxSBFU",
        "outputId": "e9332e6f-7969-458a-dcf8-519d4e670231"
      },
      "execution_count": 89,
      "outputs": [
        {
          "output_type": "display_data",
          "data": {
            "text/plain": [
              "<Figure size 800x550 with 1 Axes>"
            ],
            "image/png": "[encoded data removed]"
          },
          "metadata": {}
        }
      ]
    },
    {
      "cell_type": "code",
      "source": [
        "leads.info()"
      ],
      "metadata": {
        "colab": {
          "base_uri": "https://localhost:8080/"
        },
        "id": "T4optsBt2Oc0",
        "outputId": "415af44c-30e1-4e93-f5b8-d88ac525d44c"
      },
      "execution_count": 91,
      "outputs": [
        {
          "output_type": "stream",
          "name": "stdout",
          "text": [
            "<class 'pandas.core.frame.DataFrame'>\n",
            "RangeIndex: 9240 entries, 0 to 9239\n",
            "Data columns (total 23 columns):\n",
            " #   Column                                  Non-Null Count  Dtype  \n",
            "---  ------                                  --------------  -----  \n",
            " 0   Lead Origin                             9240 non-null   object \n",
            " 1   Lead Source                             9240 non-null   object \n",
            " 2   Do Not Email                            9240 non-null   object \n",
            " 3   Converted                               9240 non-null   int64  \n",
            " 4   TotalVisits                             9240 non-null   float64\n",
            " 5   Total Time Spent on Website             9240 non-null   int64  \n",
            " 6   Page Views Per Visit                    9240 non-null   float64\n",
            " 7   Last Activity                           9240 non-null   object \n",
            " 8   Specialization                          9240 non-null   object \n",
            " 9   Occupation                              9240 non-null   object \n",
            " 10  Motto                                   9240 non-null   object \n",
            " 11  Search                                  9240 non-null   object \n",
            " 12  Magazine                                9240 non-null   object \n",
            " 13  Newspaper Article                       9240 non-null   object \n",
            " 14  X Education Forums                      9240 non-null   object \n",
            " 15  Newspaper                               9240 non-null   object \n",
            " 16  Digital Advertisement                   9240 non-null   object \n",
            " 17  Through Recommendations                 9240 non-null   object \n",
            " 18  GetUpdates                              9240 non-null   object \n",
            " 19  Tags                                    9240 non-null   object \n",
            " 20  City                                    9240 non-null   object \n",
            " 21  A free copy of Mastering The Interview  9240 non-null   object \n",
            " 22  Last Notable Activity                   9240 non-null   object \n",
            "dtypes: float64(2), int64(2), object(19)\n",
            "memory usage: 1.6+ MB\n"
          ]
        }
      ]
    },
    {
      "cell_type": "code",
      "source": [
        "count_plot('GetUpdates',leads.Converted,'City vs Course updates',\n",
        "           'Converted and Course updates','Count')\n",
        "\n",
        "\n",
        "# Receive More Updates About Our Courses can be droped because of skewness in the data\n",
        "leads.drop('GetUpdates',axis=1,inplace=True)"
      ],
      "metadata": {
        "colab": {
          "base_uri": "https://localhost:8080/",
          "height": 522
        },
        "id": "cVYQLtOUTvIA",
        "outputId": "8261ef07-58ee-4f53-e0d5-6d743576b7b0"
      },
      "execution_count": 94,
      "outputs": [
        {
          "output_type": "display_data",
          "data": {
            "text/plain": [
              "<Figure size 800x550 with 1 Axes>"
            ],
            "image/png": "[encoded data removed]"
          },
          "metadata": {}
        }
      ]
    },
    {
      "cell_type": "code",
      "source": [
        "features = ['A free copy of Mastering The Interview','Last Notable Activity','Last Activity']\n",
        "subplot(features)\n",
        "\n",
        "# droping the columns - A free copy of Mastering The Interview because it is not putting any value in the analysis\n",
        "# Last Notable Activity','Last Activity both are same, hence dropping Last Notable Activity\n",
        "leads.drop(['A free copy of Mastering The Interview','Last Notable Activity'],axis=1,inplace=True)"
      ],
      "metadata": {
        "colab": {
          "base_uri": "https://localhost:8080/",
          "height": 1000
        },
        "id": "_BDVJcOLYdqN",
        "outputId": "4a2cf418-01d6-4698-a647-9b6cacfce0fe"
      },
      "execution_count": 96,
      "outputs": [
        {
          "output_type": "display_data",
          "data": {
            "text/plain": [
              "<Figure size 800x550 with 1 Axes>"
            ],
            "image/png": "[encoded data removed]"
          },
          "metadata": {}
        },
        {
          "output_type": "display_data",
          "data": {
            "text/plain": [
              "<Figure size 800x550 with 1 Axes>"
            ],
            "image/png": "[encoded data removed]"
          },
          "metadata": {}
        },
        {
          "output_type": "display_data",
          "data": {
            "text/plain": [
              "<Figure size 800x550 with 1 Axes>"
            ],
            "image/png": "[encoded data removed]"
          },
          "metadata": {}
        }
      ]
    },
    {
      "cell_type": "markdown",
      "source": [
        "# <h2 align=\"left\"> <font color='brown'>Data Preperation</font></h2>"
      ],
      "metadata": {
        "id": "jb3upXFJk6Qe"
      }
    },
    {
      "cell_type": "markdown",
      "source": [
        "#### Dummy value creation"
      ],
      "metadata": {
        "id": "6lpAIjb0lBCN"
      }
    },
    {
      "cell_type": "code",
      "source": [
        "leads.info()"
      ],
      "metadata": {
        "colab": {
          "base_uri": "https://localhost:8080/"
        },
        "id": "Aro-IuVxk-ZI",
        "outputId": "e481ca5c-09cf-4061-b4d5-f1b1b042c144"
      },
      "execution_count": 97,
      "outputs": [
        {
          "output_type": "stream",
          "name": "stdout",
          "text": [
            "<class 'pandas.core.frame.DataFrame'>\n",
            "RangeIndex: 9240 entries, 0 to 9239\n",
            "Data columns (total 20 columns):\n",
            " #   Column                       Non-Null Count  Dtype  \n",
            "---  ------                       --------------  -----  \n",
            " 0   Lead Origin                  9240 non-null   object \n",
            " 1   Lead Source                  9240 non-null   object \n",
            " 2   Do Not Email                 9240 non-null   object \n",
            " 3   Converted                    9240 non-null   int64  \n",
            " 4   TotalVisits                  9240 non-null   float64\n",
            " 5   Total Time Spent on Website  9240 non-null   int64  \n",
            " 6   Page Views Per Visit         9240 non-null   float64\n",
            " 7   Last Activity                9240 non-null   object \n",
            " 8   Specialization               9240 non-null   object \n",
            " 9   Occupation                   9240 non-null   object \n",
            " 10  Motto                        9240 non-null   object \n",
            " 11  Search                       9240 non-null   object \n",
            " 12  Magazine                     9240 non-null   object \n",
            " 13  Newspaper Article            9240 non-null   object \n",
            " 14  X Education Forums           9240 non-null   object \n",
            " 15  Newspaper                    9240 non-null   object \n",
            " 16  Digital Advertisement        9240 non-null   object \n",
            " 17  Through Recommendations      9240 non-null   object \n",
            " 18  Tags                         9240 non-null   object \n",
            " 19  City                         9240 non-null   object \n",
            "dtypes: float64(2), int64(2), object(16)\n",
            "memory usage: 1.4+ MB\n"
          ]
        }
      ]
    },
    {
      "cell_type": "code",
      "source": [
        "categorical = leads.select_dtypes(include=['object']).columns"
      ],
      "metadata": {
        "id": "yuQT8h6cmQGV"
      },
      "execution_count": 98,
      "outputs": []
    },
    {
      "cell_type": "code",
      "source": [
        "def make_binary_dummy(columlist):\n",
        "  return columlist.map({'No':0,'Yes':1})\n",
        "\n",
        "\n",
        "catergory_list = ['Do Not Email','Search','Magazine','Newspaper Article',\n",
        "                  'X Education Forums','Newspaper','Digital Advertisement','Through Recommendations']\n",
        "\n",
        "leads[catergory_list] = leads[catergory_list].apply(make_binary_dummy)"
      ],
      "metadata": {
        "id": "3HQgDKXhnu-H"
      },
      "execution_count": 99,
      "outputs": []
    },
    {
      "cell_type": "code",
      "source": [
        "lead_origin = pd.get_dummies(leads['Lead Origin'],drop_first=True)\n",
        "lead_source = pd.get_dummies(leads['Lead Source'],drop_first = True)\n",
        "last_activity = pd.get_dummies(leads['Last Activity'],drop_first = True)\n",
        "speciality = pd.get_dummies(leads['Specialization'],drop_first = True)\n",
        "current_occu = pd.get_dummies(leads['Occupation'],drop_first = True)\n",
        "reason_choose_course = pd.get_dummies(leads['Motto'],drop_first = True)\n",
        "tag = pd.get_dummies(leads['Tags'],drop_first = True)\n",
        "location = pd.get_dummies(leads['City'],drop_first = True)"
      ],
      "metadata": {
        "id": "peE1eH2xo2jJ"
      },
      "execution_count": 101,
      "outputs": []
    },
    {
      "cell_type": "code",
      "source": [
        "leads = pd.concat([leads,lead_origin,lead_source,last_activity,current_occu,reason_choose_course,tag,location], axis = 1)"
      ],
      "metadata": {
        "id": "b5zOiV8RqD2H"
      },
      "execution_count": 102,
      "outputs": []
    },
    {
      "cell_type": "code",
      "source": [
        "leads.shape"
      ],
      "metadata": {
        "colab": {
          "base_uri": "https://localhost:8080/"
        },
        "id": "TCxnr2azrsjd",
        "outputId": "e53d089d-1f1b-4054-9379-4aa5a076ed30"
      },
      "execution_count": 103,
      "outputs": [
        {
          "output_type": "execute_result",
          "data": {
            "text/plain": [
              "(9240, 97)"
            ]
          },
          "metadata": {},
          "execution_count": 103
        }
      ]
    },
    {
      "cell_type": "code",
      "source": [
        "leads.drop(['Lead Origin','Lead Source','Last Activity','Specialization','Occupation',\n",
        "            'Motto','Tags','City'],axis = 1,inplace = True )"
      ],
      "metadata": {
        "id": "gKxeGK7Yryu1"
      },
      "execution_count": 104,
      "outputs": []
    },
    {
      "cell_type": "markdown",
      "source": [
        "#### Scale variable"
      ],
      "metadata": {
        "id": "T9esiNgStvc1"
      }
    },
    {
      "cell_type": "code",
      "source": [
        "columns_to_scale = ['Total Time Spent on Website','Page Views Per Visit','TotalVisits']\n",
        "scale = MinMaxScaler()\n",
        "leads[columns_to_scale] = scale.fit_transform(leads[columns_to_scale])"
      ],
      "metadata": {
        "id": "OZj7RpLbss3i"
      },
      "execution_count": 105,
      "outputs": []
    },
    {
      "cell_type": "code",
      "source": [
        "leads[columns_to_scale]"
      ],
      "metadata": {
        "colab": {
          "base_uri": "https://localhost:8080/",
          "height": 424
        },
        "id": "spVeGyObu3Oz",
        "outputId": "9dcc3a2e-5381-40c9-ab4b-4e5999ad6967"
      },
      "execution_count": 106,
      "outputs": [
        {
          "output_type": "execute_result",
          "data": {
            "text/plain": [
              "      Total Time Spent on Website  Page Views Per Visit  TotalVisits\n",
              "0                        0.000000              0.000000     0.000000\n",
              "1                        0.296655              0.277778     0.555556\n",
              "2                        0.674296              0.222222     0.222222\n",
              "3                        0.134243              0.111111     0.111111\n",
              "4                        0.628521              0.111111     0.222222\n",
              "...                           ...                   ...          ...\n",
              "9235                     0.812060              0.296667     0.888889\n",
              "9236                     0.104754              0.222222     0.222222\n",
              "9237                     0.087588              0.222222     0.222222\n",
              "9238                     0.219630              0.333333     0.333333\n",
              "9239                     0.562940              0.333333     0.666667\n",
              "\n",
              "[9240 rows x 3 columns]"
            ],
            "text/html": [
              "\n",
              "  <div id=\"df-0b18e853-b127-4b76-bb69-a8e85aa7d397\" class=\"colab-df-container\">\n",
              "    <div>\n",
              "<style scoped>\n",
              "    .dataframe tbody tr th:only-of-type {\n",
              "        vertical-align: middle;\n",
              "    }\n",
              "\n",
              "    .dataframe tbody tr th {\n",
              "        vertical-align: top;\n",
              "    }\n",
              "\n",
              "    .dataframe thead th {\n",
              "        text-align: right;\n",
              "    }\n",
              "</style>\n",
              "<table border=\"1\" class=\"dataframe\">\n",
              "  <thead>\n",
              "    <tr style=\"text-align: right;\">\n",
              "      <th></th>\n",
              "      <th>Total Time Spent on Website</th>\n",
              "      <th>Page Views Per Visit</th>\n",
              "      <th>TotalVisits</th>\n",
              "    </tr>\n",
              "  </thead>\n",
              "  <tbody>\n",
              "    <tr>\n",
              "      <th>0</th>\n",
              "      <td>0.000000</td>\n",
              "      <td>0.000000</td>\n",
              "      <td>0.000000</td>\n",
              "    </tr>\n",
              "    <tr>\n",
              "      <th>1</th>\n",
              "      <td>0.296655</td>\n",
              "      <td>0.277778</td>\n",
              "      <td>0.555556</td>\n",
              "    </tr>\n",
              "    <tr>\n",
              "      <th>2</th>\n",
              "      <td>0.674296</td>\n",
              "      <td>0.222222</td>\n",
              "      <td>0.222222</td>\n",
              "    </tr>\n",
              "    <tr>\n",
              "      <th>3</th>\n",
              "      <td>0.134243</td>\n",
              "      <td>0.111111</td>\n",
              "      <td>0.111111</td>\n",
              "    </tr>\n",
              "    <tr>\n",
              "      <th>4</th>\n",
              "      <td>0.628521</td>\n",
              "      <td>0.111111</td>\n",
              "      <td>0.222222</td>\n",
              "    </tr>\n",
              "    <tr>\n",
              "      <th>...</th>\n",
              "      <td>...</td>\n",
              "      <td>...</td>\n",
              "      <td>...</td>\n",
              "    </tr>\n",
              "    <tr>\n",
              "      <th>9235</th>\n",
              "      <td>0.812060</td>\n",
              "      <td>0.296667</td>\n",
              "      <td>0.888889</td>\n",
              "    </tr>\n",
              "    <tr>\n",
              "      <th>9236</th>\n",
              "      <td>0.104754</td>\n",
              "      <td>0.222222</td>\n",
              "      <td>0.222222</td>\n",
              "    </tr>\n",
              "    <tr>\n",
              "      <th>9237</th>\n",
              "      <td>0.087588</td>\n",
              "      <td>0.222222</td>\n",
              "      <td>0.222222</td>\n",
              "    </tr>\n",
              "    <tr>\n",
              "      <th>9238</th>\n",
              "      <td>0.219630</td>\n",
              "      <td>0.333333</td>\n",
              "      <td>0.333333</td>\n",
              "    </tr>\n",
              "    <tr>\n",
              "      <th>9239</th>\n",
              "      <td>0.562940</td>\n",
              "      <td>0.333333</td>\n",
              "      <td>0.666667</td>\n",
              "    </tr>\n",
              "  </tbody>\n",
              "</table>\n",
              "<p>9240 rows × 3 columns</p>\n",
              "</div>\n",
              "    <div class=\"colab-df-buttons\">\n",
              "\n",
              "  <div class=\"colab-df-container\">\n",
              "    <button class=\"colab-df-convert\" onclick=\"convertToInteractive('df-0b18e853-b127-4b76-bb69-a8e85aa7d397')\"\n",
              "            title=\"Convert this dataframe to an interactive table.\"\n",
              "            style=\"display:none;\">\n",
              "\n",
              "  <svg xmlns=\"http://www.w3.org/2000/svg\" height=\"24px\" viewBox=\"0 -960 960 960\">\n",
              "    <path d=\"M120-120v-720h720v720H120Zm60-500h600v-160H180v160Zm220 220h160v-160H400v160Zm0 220h160v-160H400v160ZM180-400h160v-160H180v160Zm440 0h160v-160H620v160ZM180-180h160v-160H180v160Zm440 0h160v-160H620v160Z\"/>\n",
              "  </svg>\n",
              "    </button>\n",
              "\n",
              "  <style>\n",
              "    .colab-df-container {\n",
              "      display:flex;\n",
              "      gap: 12px;\n",
              "    }\n",
              "\n",
              "    .colab-df-convert {\n",
              "      background-color: #E8F0FE;\n",
              "      border: none;\n",
              "      border-radius: 50%;\n",
              "      cursor: pointer;\n",
              "      display: none;\n",
              "      fill: #1967D2;\n",
              "      height: 32px;\n",
              "      padding: 0 0 0 0;\n",
              "      width: 32px;\n",
              "    }\n",
              "\n",
              "    .colab-df-convert:hover {\n",
              "      background-color: #E2EBFA;\n",
              "      box-shadow: 0px 1px 2px rgba(60, 64, 67, 0.3), 0px 1px 3px 1px rgba(60, 64, 67, 0.15);\n",
              "      fill: #174EA6;\n",
              "    }\n",
              "\n",
              "    .colab-df-buttons div {\n",
              "      margin-bottom: 4px;\n",
              "    }\n",
              "\n",
              "    [theme=dark] .colab-df-convert {\n",
              "      background-color: #3B4455;\n",
              "      fill: #D2E3FC;\n",
              "    }\n",
              "\n",
              "    [theme=dark] .colab-df-convert:hover {\n",
              "      background-color: #434B5C;\n",
              "      box-shadow: 0px 1px 3px 1px rgba(0, 0, 0, 0.15);\n",
              "      filter: drop-shadow(0px 1px 2px rgba(0, 0, 0, 0.3));\n",
              "      fill: #FFFFFF;\n",
              "    }\n",
              "  </style>\n",
              "\n",
              "    <script>\n",
              "      const buttonEl =\n",
              "        document.querySelector('#df-0b18e853-b127-4b76-bb69-a8e85aa7d397 button.colab-df-convert');\n",
              "      buttonEl.style.display =\n",
              "        google.colab.kernel.accessAllowed ? 'block' : 'none';\n",
              "\n",
              "      async function convertToInteractive(key) {\n",
              "        const element = document.querySelector('#df-0b18e853-b127-4b76-bb69-a8e85aa7d397');\n",
              "        const dataTable =\n",
              "          await google.colab.kernel.invokeFunction('convertToInteractive',\n",
              "                                                    [key], {});\n",
              "        if (!dataTable) return;\n",
              "\n",
              "        const docLinkHtml = 'Like what you see? Visit the ' +\n",
              "          '<a target=\"_blank\" href=https://colab.research.google.com/notebooks/data_table.ipynb>data table notebook</a>'\n",
              "          + ' to learn more about interactive tables.';\n",
              "        element.innerHTML = '';\n",
              "        dataTable['output_type'] = 'display_data';\n",
              "        await google.colab.output.renderOutput(dataTable, element);\n",
              "        const docLink = document.createElement('div');\n",
              "        docLink.innerHTML = docLinkHtml;\n",
              "        element.appendChild(docLink);\n",
              "      }\n",
              "    </script>\n",
              "  </div>\n",
              "\n",
              "\n",
              "<div id=\"df-a5d31c78-fe90-4837-b95a-a17886c5202b\">\n",
              "  <button class=\"colab-df-quickchart\" onclick=\"quickchart('df-a5d31c78-fe90-4837-b95a-a17886c5202b')\"\n",
              "            title=\"Suggest charts\"\n",
              "            style=\"display:none;\">\n",
              "\n",
              "<svg xmlns=\"http://www.w3.org/2000/svg\" height=\"24px\"viewBox=\"0 0 24 24\"\n",
              "     width=\"24px\">\n",
              "    <g>\n",
              "        <path d=\"M19 3H5c-1.1 0-2 .9-2 2v14c0 1.1.9 2 2 2h14c1.1 0 2-.9 2-2V5c0-1.1-.9-2-2-2zM9 17H7v-7h2v7zm4 0h-2V7h2v10zm4 0h-2v-4h2v4z\"/>\n",
              "    </g>\n",
              "</svg>\n",
              "  </button>\n",
              "\n",
              "<style>\n",
              "  .colab-df-quickchart {\n",
              "      --bg-color: #E8F0FE;\n",
              "      --fill-color: #1967D2;\n",
              "      --hover-bg-color: #E2EBFA;\n",
              "      --hover-fill-color: #174EA6;\n",
              "      --disabled-fill-color: #AAA;\n",
              "      --disabled-bg-color: #DDD;\n",
              "  }\n",
              "\n",
              "  [theme=dark] .colab-df-quickchart {\n",
              "      --bg-color: #3B4455;\n",
              "      --fill-color: #D2E3FC;\n",
              "      --hover-bg-color: #434B5C;\n",
              "      --hover-fill-color: #FFFFFF;\n",
              "      --disabled-bg-color: #3B4455;\n",
              "      --disabled-fill-color: #666;\n",
              "  }\n",
              "\n",
              "  .colab-df-quickchart {\n",
              "    background-color: var(--bg-color);\n",
              "    border: none;\n",
              "    border-radius: 50%;\n",
              "    cursor: pointer;\n",
              "    display: none;\n",
              "    fill: var(--fill-color);\n",
              "    height: 32px;\n",
              "    padding: 0;\n",
              "    width: 32px;\n",
              "  }\n",
              "\n",
              "  .colab-df-quickchart:hover {\n",
              "    background-color: var(--hover-bg-color);\n",
              "    box-shadow: 0 1px 2px rgba(60, 64, 67, 0.3), 0 1px 3px 1px rgba(60, 64, 67, 0.15);\n",
              "    fill: var(--button-hover-fill-color);\n",
              "  }\n",
              "\n",
              "  .colab-df-quickchart-complete:disabled,\n",
              "  .colab-df-quickchart-complete:disabled:hover {\n",
              "    background-color: var(--disabled-bg-color);\n",
              "    fill: var(--disabled-fill-color);\n",
              "    box-shadow: none;\n",
              "  }\n",
              "\n",
              "  .colab-df-spinner {\n",
              "    border: 2px solid var(--fill-color);\n",
              "    border-color: transparent;\n",
              "    border-bottom-color: var(--fill-color);\n",
              "    animation:\n",
              "      spin 1s steps(1) infinite;\n",
              "  }\n",
              "\n",
              "  @keyframes spin {\n",
              "    0% {\n",
              "      border-color: transparent;\n",
              "      border-bottom-color: var(--fill-color);\n",
              "      border-left-color: var(--fill-color);\n",
              "    }\n",
              "    20% {\n",
              "      border-color: transparent;\n",
              "      border-left-color: var(--fill-color);\n",
              "      border-top-color: var(--fill-color);\n",
              "    }\n",
              "    30% {\n",
              "      border-color: transparent;\n",
              "      border-left-color: var(--fill-color);\n",
              "      border-top-color: var(--fill-color);\n",
              "      border-right-color: var(--fill-color);\n",
              "    }\n",
              "    40% {\n",
              "      border-color: transparent;\n",
              "      border-right-color: var(--fill-color);\n",
              "      border-top-color: var(--fill-color);\n",
              "    }\n",
              "    60% {\n",
              "      border-color: transparent;\n",
              "      border-right-color: var(--fill-color);\n",
              "    }\n",
              "    80% {\n",
              "      border-color: transparent;\n",
              "      border-right-color: var(--fill-color);\n",
              "      border-bottom-color: var(--fill-color);\n",
              "    }\n",
              "    90% {\n",
              "      border-color: transparent;\n",
              "      border-bottom-color: var(--fill-color);\n",
              "    }\n",
              "  }\n",
              "</style>\n",
              "\n",
              "  <script>\n",
              "    async function quickchart(key) {\n",
              "      const quickchartButtonEl =\n",
              "        document.querySelector('#' + key + ' button');\n",
              "      quickchartButtonEl.disabled = true;  // To prevent multiple clicks.\n",
              "      quickchartButtonEl.classList.add('colab-df-spinner');\n",
              "      try {\n",
              "        const charts = await google.colab.kernel.invokeFunction(\n",
              "            'suggestCharts', [key], {});\n",
              "      } catch (error) {\n",
              "        console.error('Error during call to suggestCharts:', error);\n",
              "      }\n",
              "      quickchartButtonEl.classList.remove('colab-df-spinner');\n",
              "      quickchartButtonEl.classList.add('colab-df-quickchart-complete');\n",
              "    }\n",
              "    (() => {\n",
              "      let quickchartButtonEl =\n",
              "        document.querySelector('#df-a5d31c78-fe90-4837-b95a-a17886c5202b button');\n",
              "      quickchartButtonEl.style.display =\n",
              "        google.colab.kernel.accessAllowed ? 'block' : 'none';\n",
              "    })();\n",
              "  </script>\n",
              "</div>\n",
              "\n",
              "    </div>\n",
              "  </div>\n"
            ]
          },
          "metadata": {},
          "execution_count": 106
        }
      ]
    },
    {
      "cell_type": "markdown",
      "source": [
        "## <h2 align=\"left\"> <font color='brown'>Model Preperation</font></h2>"
      ],
      "metadata": {
        "id": "1VaBEwoFw7F2"
      }
    },
    {
      "cell_type": "code",
      "source": [
        "leads_train,leads_test = train_test_split(leads,train_size=0.7,test_size=0.3,\n",
        "                                          random_state=100)"
      ],
      "metadata": {
        "id": "P-EJpf-ww8jr"
      },
      "execution_count": 107,
      "outputs": []
    },
    {
      "cell_type": "code",
      "source": [
        "leads_train.shape"
      ],
      "metadata": {
        "colab": {
          "base_uri": "https://localhost:8080/"
        },
        "id": "mSlVfJZY7d5d",
        "outputId": "57c92af6-10a1-4954-8fb9-607b8124beaf"
      },
      "execution_count": 108,
      "outputs": [
        {
          "output_type": "execute_result",
          "data": {
            "text/plain": [
              "(6468, 89)"
            ]
          },
          "metadata": {},
          "execution_count": 108
        }
      ]
    },
    {
      "cell_type": "code",
      "source": [
        "y_train = leads_train.pop('Converted')\n",
        "X_train = leads_train"
      ],
      "metadata": {
        "id": "OPut_t43yHrt"
      },
      "execution_count": 109,
      "outputs": []
    },
    {
      "cell_type": "code",
      "source": [
        "y_test = leads_test.pop('Converted')\n",
        "X_test = leads_test\n"
      ],
      "metadata": {
        "id": "jLx9ombVynWf"
      },
      "execution_count": 110,
      "outputs": []
    },
    {
      "cell_type": "code",
      "source": [
        "X_train.shape"
      ],
      "metadata": {
        "colab": {
          "base_uri": "https://localhost:8080/"
        },
        "id": "MoQIMDzf8Z5U",
        "outputId": "ed1648f5-5faa-40ad-cf82-ea5c76dea368"
      },
      "execution_count": 111,
      "outputs": [
        {
          "output_type": "execute_result",
          "data": {
            "text/plain": [
              "(6468, 88)"
            ]
          },
          "metadata": {},
          "execution_count": 111
        }
      ]
    },
    {
      "cell_type": "markdown",
      "source": [
        "# <h2 align=\"left\"> <font color='brown'>Model Training</font></h2>\n",
        "\n",
        "#### Model 1"
      ],
      "metadata": {
        "id": "R4vh2fzI0GUg"
      }
    },
    {
      "cell_type": "code",
      "source": [
        "# Function to create model\n",
        "def model_creation(X,y):\n",
        "    model = sm.GLM(y,X,family = sm.families.Binomial()).fit()\n",
        "    print(model.summary())\n",
        "    return model\n",
        "\n",
        "# Function to calculate VIF\n",
        "def vif_calculator (X):\n",
        "    vif = pd.DataFrame()\n",
        "    vif['Variables'] = X.columns\n",
        "    vif['VIF'] = [variance_inflation_factor(X.values,i) for i in range(X.shape[1])]\n",
        "    vif = vif.sort_values(by = \"VIF\", ascending = False)\n",
        "    print(vif)"
      ],
      "metadata": {
        "id": "1-aQ7Y5404Gp"
      },
      "execution_count": 137,
      "outputs": []
    },
    {
      "cell_type": "code",
      "source": [
        "lm = LogisticRegression()\n",
        "lm.fit(X_train, y_train)\n",
        "\n",
        "rfe = RFE(lm,n_features_to_select=20)\n",
        "rfe = rfe.fit(X_train, y_train)"
      ],
      "metadata": {
        "id": "Bmyj9TorFPP5"
      },
      "execution_count": 138,
      "outputs": []
    },
    {
      "cell_type": "code",
      "source": [
        "list(zip(X_train.columns,rfe.support_,rfe.ranking_))"
      ],
      "metadata": {
        "colab": {
          "base_uri": "https://localhost:8080/"
        },
        "id": "ulWyXm40F2vc",
        "outputId": "253798f1-19cd-490c-da26-7d1222523825"
      },
      "execution_count": 139,
      "outputs": [
        {
          "output_type": "execute_result",
          "data": {
            "text/plain": [
              "[('Do Not Email', True, 1),\n",
              " ('TotalVisits', False, 10),\n",
              " ('Total Time Spent on Website', True, 1),\n",
              " ('Page Views Per Visit', False, 9),\n",
              " ('Search', False, 25),\n",
              " ('Magazine', False, 68),\n",
              " ('Newspaper Article', False, 43),\n",
              " ('X Education Forums', False, 27),\n",
              " ('Newspaper', False, 46),\n",
              " ('Digital Advertisement', False, 15),\n",
              " ('Through Recommendations', False, 47),\n",
              " ('Landing Page Submission', False, 18),\n",
              " ('Lead Add Form', True, 1),\n",
              " ('Lead Import', True, 1),\n",
              " ('Quick Add Form', False, 34),\n",
              " ('Direct Traffic', False, 39),\n",
              " ('Facebook', True, 1),\n",
              " ('Google', False, 54),\n",
              " ('Live Chat', False, 65),\n",
              " ('NC_EDM', False, 17),\n",
              " ('Olark Chat', True, 1),\n",
              " ('Organic Search', False, 53),\n",
              " ('Pay per Click Ads', False, 66),\n",
              " ('Press_Release', False, 55),\n",
              " ('Reference', False, 60),\n",
              " ('Referral Sites', False, 26),\n",
              " ('Social Media', False, 44),\n",
              " ('WeLearn', False, 64),\n",
              " ('Welingak Website', True, 1),\n",
              " ('bing', False, 20),\n",
              " ('blog', False, 11),\n",
              " ('google', False, 38),\n",
              " ('testone', False, 69),\n",
              " ('welearnblog_Home', False, 67),\n",
              " ('youtubechannel', False, 56),\n",
              " ('Converted to Lead', True, 1),\n",
              " ('Email Bounced', False, 6),\n",
              " ('Email Link Clicked', False, 40),\n",
              " ('Email Marked Spam', False, 61),\n",
              " ('Email Opened', False, 22),\n",
              " ('Email Received', False, 48),\n",
              " ('Form Submitted on Website', False, 32),\n",
              " ('Had a Phone Conversation', False, 21),\n",
              " ('Olark Chat Conversation', True, 1),\n",
              " ('Page Visited on Website', False, 41),\n",
              " ('Resubscribed to emails', False, 45),\n",
              " ('SMS Sent', True, 1),\n",
              " ('Unreachable', False, 23),\n",
              " ('Unsubscribed', False, 24),\n",
              " ('View in browser link Clicked', False, 29),\n",
              " ('Visited Booth in Tradeshow', False, 62),\n",
              " ('Housewife', True, 1),\n",
              " ('Other', False, 2),\n",
              " ('Student', False, 8),\n",
              " ('Unemployed', True, 1),\n",
              " ('Working Professional', True, 1),\n",
              " ('Flexibility & Convenience', False, 50),\n",
              " ('Other', False, 59),\n",
              " ('Busy', False, 5),\n",
              " ('Closed by Horizzon', True, 1),\n",
              " ('Diploma holder (Not Eligible)', False, 42),\n",
              " ('Graduation in progress', False, 3),\n",
              " ('In confusion whether part time or DLP', True, 1),\n",
              " ('Interested  in full time MBA', False, 36),\n",
              " ('Interested in Next batch', False, 4),\n",
              " ('Interested in other courses', True, 1),\n",
              " ('Lateral student', False, 7),\n",
              " ('Lost to EINS', True, 1),\n",
              " ('Lost to Others', False, 13),\n",
              " ('Not doing further education', False, 35),\n",
              " ('Recognition issue (DEC approval)', False, 57),\n",
              " ('Ringing', True, 1),\n",
              " ('Shall take in the next coming month', False, 12),\n",
              " ('Still Thinking', False, 14),\n",
              " ('University not recognized', False, 49),\n",
              " ('Want to take admission but has financial problems', False, 30),\n",
              " ('Will revert after reading the email', True, 1),\n",
              " ('in touch with EINS', False, 52),\n",
              " ('invalid number', False, 31),\n",
              " ('number not provided', False, 19),\n",
              " ('opp hangup', False, 16),\n",
              " ('switched off', True, 1),\n",
              " ('wrong number given', False, 63),\n",
              " ('Other Cities', False, 58),\n",
              " ('Other Cities of Maharashtra', False, 51),\n",
              " ('Other Metro Cities', False, 28),\n",
              " ('Thane & Outskirts', False, 33),\n",
              " ('Tier II Cities', False, 37)]"
            ]
          },
          "metadata": {},
          "execution_count": 139
        }
      ]
    },
    {
      "cell_type": "code",
      "source": [
        "selected_column = X_train.columns[rfe.support_]\n",
        "not_selected_column = X_train.columns[~rfe.support_]"
      ],
      "metadata": {
        "id": "ia6v3wIGF9q1"
      },
      "execution_count": 140,
      "outputs": []
    },
    {
      "cell_type": "code",
      "source": [
        "selected_column"
      ],
      "metadata": {
        "colab": {
          "base_uri": "https://localhost:8080/"
        },
        "id": "74G9RLdxGM8a",
        "outputId": "187d0996-1630-47ef-f255-d8bf1ca3186f"
      },
      "execution_count": 141,
      "outputs": [
        {
          "output_type": "execute_result",
          "data": {
            "text/plain": [
              "Index(['Do Not Email', 'Total Time Spent on Website', 'Lead Add Form',\n",
              "       'Lead Import', 'Facebook', 'Olark Chat', 'Welingak Website',\n",
              "       'Converted to Lead', 'Olark Chat Conversation', 'SMS Sent', 'Housewife',\n",
              "       'Unemployed', 'Working Professional', 'Closed by Horizzon',\n",
              "       'In confusion whether part time or DLP', 'Interested in other courses',\n",
              "       'Lost to EINS', 'Ringing', 'Will revert after reading the email',\n",
              "       'switched off'],\n",
              "      dtype='object')"
            ]
          },
          "metadata": {},
          "execution_count": 141
        }
      ]
    },
    {
      "cell_type": "code",
      "source": [
        "not_selected_column"
      ],
      "metadata": {
        "colab": {
          "base_uri": "https://localhost:8080/"
        },
        "id": "jJfkAroKGOnK",
        "outputId": "bbe680bb-939b-410a-b9e7-5194f50eee42"
      },
      "execution_count": 142,
      "outputs": [
        {
          "output_type": "execute_result",
          "data": {
            "text/plain": [
              "Index(['TotalVisits', 'Page Views Per Visit', 'Search', 'Magazine',\n",
              "       'Newspaper Article', 'X Education Forums', 'Newspaper',\n",
              "       'Digital Advertisement', 'Through Recommendations',\n",
              "       'Landing Page Submission', 'Quick Add Form', 'Direct Traffic', 'Google',\n",
              "       'Live Chat', 'NC_EDM', 'Organic Search', 'Pay per Click Ads',\n",
              "       'Press_Release', 'Reference', 'Referral Sites', 'Social Media',\n",
              "       'WeLearn', 'bing', 'blog', 'google', 'testone', 'welearnblog_Home',\n",
              "       'youtubechannel', 'Email Bounced', 'Email Link Clicked',\n",
              "       'Email Marked Spam', 'Email Opened', 'Email Received',\n",
              "       'Form Submitted on Website', 'Had a Phone Conversation',\n",
              "       'Page Visited on Website', 'Resubscribed to emails', 'Unreachable',\n",
              "       'Unsubscribed', 'View in browser link Clicked',\n",
              "       'Visited Booth in Tradeshow', 'Other', 'Student',\n",
              "       'Flexibility & Convenience', 'Other', 'Busy',\n",
              "       'Diploma holder (Not Eligible)', 'Graduation in progress',\n",
              "       'Interested  in full time MBA', 'Interested in Next batch',\n",
              "       'Lateral student', 'Lost to Others', 'Not doing further education',\n",
              "       'Recognition issue (DEC approval)',\n",
              "       'Shall take in the next coming month', 'Still Thinking',\n",
              "       'University not recognized',\n",
              "       'Want to take admission but has financial problems',\n",
              "       'in touch with EINS', 'invalid number', 'number not provided',\n",
              "       'opp hangup', 'wrong number given', 'Other Cities',\n",
              "       'Other Cities of Maharashtra', 'Other Metro Cities',\n",
              "       'Thane & Outskirts', 'Tier II Cities'],\n",
              "      dtype='object')"
            ]
          },
          "metadata": {},
          "execution_count": 142
        }
      ]
    },
    {
      "cell_type": "code",
      "source": [
        "X_train_rfe_selected = X_train[selected_column]\n",
        "X_train_rfe_selected.shape"
      ],
      "metadata": {
        "colab": {
          "base_uri": "https://localhost:8080/"
        },
        "id": "7T8k0Nb5-YDr",
        "outputId": "a698797b-4466-47c8-81df-415656c652f8"
      },
      "execution_count": 151,
      "outputs": [
        {
          "output_type": "execute_result",
          "data": {
            "text/plain": [
              "(6468, 20)"
            ]
          },
          "metadata": {},
          "execution_count": 151
        }
      ]
    },
    {
      "cell_type": "code",
      "source": [
        "X_train_rfe_selected_with_constant = sm.add_constant(X_train_rfe_selected)\n",
        "model_1 = model_creation(X_train_rfe_selected_with_constant,y_train)"
      ],
      "metadata": {
        "colab": {
          "base_uri": "https://localhost:8080/"
        },
        "id": "HbfUYwJJ-lST",
        "outputId": "3ee0e3b6-4e8c-4535-91d9-8eb809f06c5a"
      },
      "execution_count": 153,
      "outputs": [
        {
          "output_type": "stream",
          "name": "stdout",
          "text": [
            "                 Generalized Linear Model Regression Results                  \n",
            "==============================================================================\n",
            "Dep. Variable:              Converted   No. Observations:                 6468\n",
            "Model:                            GLM   Df Residuals:                     6447\n",
            "Model Family:                Binomial   Df Model:                           20\n",
            "Link Function:                  Logit   Scale:                          1.0000\n",
            "Method:                          IRLS   Log-Likelihood:                -1656.0\n",
            "Date:                Fri, 12 Jan 2024   Deviance:                       3312.1\n",
            "Time:                        16:19:01   Pearson chi2:                 9.59e+03\n",
            "No. Iterations:                     7   Pseudo R-squ. (CS):             0.5584\n",
            "Covariance Type:            nonrobust                                         \n",
            "=========================================================================================================\n",
            "                                            coef    std err          z      P>|z|      [0.025      0.975]\n",
            "---------------------------------------------------------------------------------------------------------\n",
            "const                                    -4.1431      0.160    -25.862      0.000      -4.457      -3.829\n",
            "Do Not Email                             -1.3388      0.203     -6.581      0.000      -1.738      -0.940\n",
            "Total Time Spent on Website               4.4001      0.215     20.475      0.000       3.979       4.821\n",
            "Lead Add Form                             2.4503      0.260      9.412      0.000       1.940       2.961\n",
            "Lead Import                              -0.7152      4.137     -0.173      0.863      -8.824       7.393\n",
            "Facebook                                 -1.8259      4.137     -0.441      0.659      -9.934       6.283\n",
            "Olark Chat                                1.1707      0.132      8.884      0.000       0.912       1.429\n",
            "Welingak Website                          2.7262      0.615      4.431      0.000       1.520       3.932\n",
            "Converted to Lead                        -1.1255      0.266     -4.236      0.000      -1.646      -0.605\n",
            "Olark Chat Conversation                  -1.6352      0.199     -8.222      0.000      -2.025      -1.245\n",
            "SMS Sent                                  1.7522      0.105     16.667      0.000       1.546       1.958\n",
            "Housewife                                 1.2083      0.208      5.817      0.000       0.801       1.615\n",
            "Unemployed                                1.3929      0.130     10.714      0.000       1.138       1.648\n",
            "Working Professional                      1.4843      0.177      8.385      0.000       1.137       1.831\n",
            "Closed by Horizzon                        2.7520      0.186     14.801      0.000       2.388       3.116\n",
            "In confusion whether part time or DLP     0.9807      0.256      3.838      0.000       0.480       1.482\n",
            "Interested in other courses              -1.3971      0.241     -5.791      0.000      -1.870      -0.924\n",
            "Lost to EINS                              2.4378      0.198     12.305      0.000       2.049       2.826\n",
            "Ringing                                  -2.7331      0.195    -14.052      0.000      -3.114      -2.352\n",
            "Will revert after reading the email       3.4393      0.132     26.093      0.000       3.181       3.698\n",
            "switched off                             -1.7076      0.261     -6.537      0.000      -2.220      -1.196\n",
            "=========================================================================================================\n"
          ]
        }
      ]
    },
    {
      "cell_type": "code",
      "source": [
        "vif_calculator(X_train_rfe_selected_with_constant)"
      ],
      "metadata": {
        "colab": {
          "base_uri": "https://localhost:8080/"
        },
        "id": "DAvD1xcCeI8U",
        "outputId": "2112c9f7-232c-4070-b85b-1e369c9054e3"
      },
      "execution_count": 154,
      "outputs": [
        {
          "output_type": "stream",
          "name": "stdout",
          "text": [
            "                                Variables        VIF\n",
            "4                             Lead Import  16.699061\n",
            "5                                Facebook  16.686685\n",
            "0                                   const  10.147471\n",
            "12                             Unemployed   2.121567\n",
            "13                   Working Professional   1.740100\n",
            "19    Will revert after reading the email   1.693762\n",
            "3                           Lead Add Form   1.551051\n",
            "6                              Olark Chat   1.487783\n",
            "18                                Ringing   1.456612\n",
            "2             Total Time Spent on Website   1.366772\n",
            "9                 Olark Chat Conversation   1.310172\n",
            "11                              Housewife   1.281511\n",
            "7                        Welingak Website   1.263440\n",
            "14                     Closed by Horizzon   1.254487\n",
            "16            Interested in other courses   1.248131\n",
            "10                               SMS Sent   1.163480\n",
            "20                           switched off   1.108686\n",
            "17                           Lost to EINS   1.083664\n",
            "8                       Converted to Lead   1.072493\n",
            "15  In confusion whether part time or DLP   1.055775\n",
            "1                            Do Not Email   1.048772\n"
          ]
        }
      ]
    },
    {
      "cell_type": "markdown",
      "source": [
        "## Model 2"
      ],
      "metadata": {
        "id": "xEaCPFQjeVCJ"
      }
    },
    {
      "cell_type": "code",
      "source": [
        "# Facebook is having figh VIF and high p value\n",
        "X_train_rfe_selected_with_constant_revised = X_train_rfe_selected_with_constant.drop('Facebook',axis=1)"
      ],
      "metadata": {
        "id": "q7SV_zvMi4BG"
      },
      "execution_count": 155,
      "outputs": []
    },
    {
      "cell_type": "code",
      "source": [
        "model_2 = model_creation(X_train_rfe_selected_with_constant_revised,y_train)"
      ],
      "metadata": {
        "colab": {
          "base_uri": "https://localhost:8080/"
        },
        "id": "u-Mi8c6Ej1lM",
        "outputId": "75c45ef3-53c5-45e1-d3e7-af57dc53adbb"
      },
      "execution_count": 156,
      "outputs": [
        {
          "output_type": "stream",
          "name": "stdout",
          "text": [
            "                 Generalized Linear Model Regression Results                  \n",
            "==============================================================================\n",
            "Dep. Variable:              Converted   No. Observations:                 6468\n",
            "Model:                            GLM   Df Residuals:                     6448\n",
            "Model Family:                Binomial   Df Model:                           19\n",
            "Link Function:                  Logit   Scale:                          1.0000\n",
            "Method:                          IRLS   Log-Likelihood:                -1656.2\n",
            "Date:                Fri, 12 Jan 2024   Deviance:                       3312.3\n",
            "Time:                        16:44:33   Pearson chi2:                 9.59e+03\n",
            "No. Iterations:                     7   Pseudo R-squ. (CS):             0.5584\n",
            "Covariance Type:            nonrobust                                         \n",
            "=========================================================================================================\n",
            "                                            coef    std err          z      P>|z|      [0.025      0.975]\n",
            "---------------------------------------------------------------------------------------------------------\n",
            "const                                    -4.1449      0.160    -25.878      0.000      -4.459      -3.831\n",
            "Do Not Email                             -1.3384      0.203     -6.579      0.000      -1.737      -0.940\n",
            "Total Time Spent on Website               4.4008      0.215     20.477      0.000       3.980       4.822\n",
            "Lead Add Form                             2.4505      0.260      9.413      0.000       1.940       2.961\n",
            "Lead Import                              -2.5309      0.629     -4.023      0.000      -3.764      -1.298\n",
            "Olark Chat                                1.1712      0.132      8.888      0.000       0.913       1.430\n",
            "Welingak Website                          2.7263      0.615      4.431      0.000       1.520       3.932\n",
            "Converted to Lead                        -1.1255      0.266     -4.236      0.000      -1.646      -0.605\n",
            "Olark Chat Conversation                  -1.6354      0.199     -8.222      0.000      -2.025      -1.246\n",
            "SMS Sent                                  1.7514      0.105     16.662      0.000       1.545       1.957\n",
            "Housewife                                 1.2100      0.208      5.826      0.000       0.803       1.617\n",
            "Unemployed                                1.3945      0.130     10.730      0.000       1.140       1.649\n",
            "Working Professional                      1.4858      0.177      8.395      0.000       1.139       1.833\n",
            "Closed by Horizzon                        2.7528      0.186     14.804      0.000       2.388       3.117\n",
            "In confusion whether part time or DLP     0.9815      0.256      3.841      0.000       0.481       1.482\n",
            "Interested in other courses              -1.3972      0.241     -5.791      0.000      -1.870      -0.924\n",
            "Lost to EINS                              2.4385      0.198     12.308      0.000       2.050       2.827\n",
            "Ringing                                  -2.7327      0.194    -14.050      0.000      -3.114      -2.351\n",
            "Will revert after reading the email       3.4392      0.132     26.091      0.000       3.181       3.698\n",
            "switched off                             -1.7071      0.261     -6.535      0.000      -2.219      -1.195\n",
            "=========================================================================================================\n"
          ]
        }
      ]
    },
    {
      "cell_type": "markdown",
      "source": [
        "### <h2 align=\"left\"> <font color='brown'>Model Evaluation</font></h2>"
      ],
      "metadata": {
        "id": "dokgzeCNIqIB"
      }
    },
    {
      "cell_type": "code",
      "source": [
        "y_train_pred = model_2.predict(X_train_rfe_selected_with_constant_revised)"
      ],
      "metadata": {
        "id": "iu5SKtWEIwY4"
      },
      "execution_count": 157,
      "outputs": []
    },
    {
      "cell_type": "code",
      "source": [
        "y_train_pred.head()"
      ],
      "metadata": {
        "colab": {
          "base_uri": "https://localhost:8080/"
        },
        "id": "LIzPMImnJHQj",
        "outputId": "dd149460-9bbd-42ce-ac64-9260bdcabc7d"
      },
      "execution_count": 158,
      "outputs": [
        {
          "output_type": "execute_result",
          "data": {
            "text/plain": [
              "1871    0.013232\n",
              "6795    0.140993\n",
              "3516    0.016199\n",
              "8105    0.206009\n",
              "3934    0.170919\n",
              "dtype: float64"
            ]
          },
          "metadata": {},
          "execution_count": 158
        }
      ]
    },
    {
      "cell_type": "code",
      "source": [
        "y_train_pred_final = pd.DataFrame()\n",
        "y_train_pred_final['Converted'] = y_train.values\n",
        "y_train_pred_final['Converted_prob'] = y_train_pred\n",
        "y_train_pred_final['ID'] = y_train_pred.index"
      ],
      "metadata": {
        "id": "q1DtcafSJTua"
      },
      "execution_count": 159,
      "outputs": []
    },
    {
      "cell_type": "code",
      "source": [
        "y_train_pred_final[:10]"
      ],
      "metadata": {
        "colab": {
          "base_uri": "https://localhost:8080/",
          "height": 363
        },
        "id": "C-pErJYNKWUJ",
        "outputId": "234a5569-d4e3-48cb-bf5f-569acee7b022"
      },
      "execution_count": 160,
      "outputs": [
        {
          "output_type": "execute_result",
          "data": {
            "text/plain": [
              "   Converted  Converted_prob    ID\n",
              "0          0             NaN  1871\n",
              "1          0        0.015105  6795\n",
              "2          0        0.905661  3516\n",
              "3          0             NaN  8105\n",
              "4          0        0.911279  3934\n",
              "5          1        0.009838  4844\n",
              "6          0        0.979477  3297\n",
              "7          1        0.009838  8071\n",
              "8          0        0.017810   987\n",
              "9          1        0.017375  7423"
            ],
            "text/html": [
              "\n",
              "  <div id=\"df-2e3741e0-b332-4c09-8c12-caed109b0828\" class=\"colab-df-container\">\n",
              "    <div>\n",
              "<style scoped>\n",
              "    .dataframe tbody tr th:only-of-type {\n",
              "        vertical-align: middle;\n",
              "    }\n",
              "\n",
              "    .dataframe tbody tr th {\n",
              "        vertical-align: top;\n",
              "    }\n",
              "\n",
              "    .dataframe thead th {\n",
              "        text-align: right;\n",
              "    }\n",
              "</style>\n",
              "<table border=\"1\" class=\"dataframe\">\n",
              "  <thead>\n",
              "    <tr style=\"text-align: right;\">\n",
              "      <th></th>\n",
              "      <th>Converted</th>\n",
              "      <th>Converted_prob</th>\n",
              "      <th>ID</th>\n",
              "    </tr>\n",
              "  </thead>\n",
              "  <tbody>\n",
              "    <tr>\n",
              "      <th>0</th>\n",
              "      <td>0</td>\n",
              "      <td>NaN</td>\n",
              "      <td>1871</td>\n",
              "    </tr>\n",
              "    <tr>\n",
              "      <th>1</th>\n",
              "      <td>0</td>\n",
              "      <td>0.015105</td>\n",
              "      <td>6795</td>\n",
              "    </tr>\n",
              "    <tr>\n",
              "      <th>2</th>\n",
              "      <td>0</td>\n",
              "      <td>0.905661</td>\n",
              "      <td>3516</td>\n",
              "    </tr>\n",
              "    <tr>\n",
              "      <th>3</th>\n",
              "      <td>0</td>\n",
              "      <td>NaN</td>\n",
              "      <td>8105</td>\n",
              "    </tr>\n",
              "    <tr>\n",
              "      <th>4</th>\n",
              "      <td>0</td>\n",
              "      <td>0.911279</td>\n",
              "      <td>3934</td>\n",
              "    </tr>\n",
              "    <tr>\n",
              "      <th>5</th>\n",
              "      <td>1</td>\n",
              "      <td>0.009838</td>\n",
              "      <td>4844</td>\n",
              "    </tr>\n",
              "    <tr>\n",
              "      <th>6</th>\n",
              "      <td>0</td>\n",
              "      <td>0.979477</td>\n",
              "      <td>3297</td>\n",
              "    </tr>\n",
              "    <tr>\n",
              "      <th>7</th>\n",
              "      <td>1</td>\n",
              "      <td>0.009838</td>\n",
              "      <td>8071</td>\n",
              "    </tr>\n",
              "    <tr>\n",
              "      <th>8</th>\n",
              "      <td>0</td>\n",
              "      <td>0.017810</td>\n",
              "      <td>987</td>\n",
              "    </tr>\n",
              "    <tr>\n",
              "      <th>9</th>\n",
              "      <td>1</td>\n",
              "      <td>0.017375</td>\n",
              "      <td>7423</td>\n",
              "    </tr>\n",
              "  </tbody>\n",
              "</table>\n",
              "</div>\n",
              "    <div class=\"colab-df-buttons\">\n",
              "\n",
              "  <div class=\"colab-df-container\">\n",
              "    <button class=\"colab-df-convert\" onclick=\"convertToInteractive('df-2e3741e0-b332-4c09-8c12-caed109b0828')\"\n",
              "            title=\"Convert this dataframe to an interactive table.\"\n",
              "            style=\"display:none;\">\n",
              "\n",
              "  <svg xmlns=\"http://www.w3.org/2000/svg\" height=\"24px\" viewBox=\"0 -960 960 960\">\n",
              "    <path d=\"M120-120v-720h720v720H120Zm60-500h600v-160H180v160Zm220 220h160v-160H400v160Zm0 220h160v-160H400v160ZM180-400h160v-160H180v160Zm440 0h160v-160H620v160ZM180-180h160v-160H180v160Zm440 0h160v-160H620v160Z\"/>\n",
              "  </svg>\n",
              "    </button>\n",
              "\n",
              "  <style>\n",
              "    .colab-df-container {\n",
              "      display:flex;\n",
              "      gap: 12px;\n",
              "    }\n",
              "\n",
              "    .colab-df-convert {\n",
              "      background-color: #E8F0FE;\n",
              "      border: none;\n",
              "      border-radius: 50%;\n",
              "      cursor: pointer;\n",
              "      display: none;\n",
              "      fill: #1967D2;\n",
              "      height: 32px;\n",
              "      padding: 0 0 0 0;\n",
              "      width: 32px;\n",
              "    }\n",
              "\n",
              "    .colab-df-convert:hover {\n",
              "      background-color: #E2EBFA;\n",
              "      box-shadow: 0px 1px 2px rgba(60, 64, 67, 0.3), 0px 1px 3px 1px rgba(60, 64, 67, 0.15);\n",
              "      fill: #174EA6;\n",
              "    }\n",
              "\n",
              "    .colab-df-buttons div {\n",
              "      margin-bottom: 4px;\n",
              "    }\n",
              "\n",
              "    [theme=dark] .colab-df-convert {\n",
              "      background-color: #3B4455;\n",
              "      fill: #D2E3FC;\n",
              "    }\n",
              "\n",
              "    [theme=dark] .colab-df-convert:hover {\n",
              "      background-color: #434B5C;\n",
              "      box-shadow: 0px 1px 3px 1px rgba(0, 0, 0, 0.15);\n",
              "      filter: drop-shadow(0px 1px 2px rgba(0, 0, 0, 0.3));\n",
              "      fill: #FFFFFF;\n",
              "    }\n",
              "  </style>\n",
              "\n",
              "    <script>\n",
              "      const buttonEl =\n",
              "        document.querySelector('#df-2e3741e0-b332-4c09-8c12-caed109b0828 button.colab-df-convert');\n",
              "      buttonEl.style.display =\n",
              "        google.colab.kernel.accessAllowed ? 'block' : 'none';\n",
              "\n",
              "      async function convertToInteractive(key) {\n",
              "        const element = document.querySelector('#df-2e3741e0-b332-4c09-8c12-caed109b0828');\n",
              "        const dataTable =\n",
              "          await google.colab.kernel.invokeFunction('convertToInteractive',\n",
              "                                                    [key], {});\n",
              "        if (!dataTable) return;\n",
              "\n",
              "        const docLinkHtml = 'Like what you see? Visit the ' +\n",
              "          '<a target=\"_blank\" href=https://colab.research.google.com/notebooks/data_table.ipynb>data table notebook</a>'\n",
              "          + ' to learn more about interactive tables.';\n",
              "        element.innerHTML = '';\n",
              "        dataTable['output_type'] = 'display_data';\n",
              "        await google.colab.output.renderOutput(dataTable, element);\n",
              "        const docLink = document.createElement('div');\n",
              "        docLink.innerHTML = docLinkHtml;\n",
              "        element.appendChild(docLink);\n",
              "      }\n",
              "    </script>\n",
              "  </div>\n",
              "\n",
              "\n",
              "<div id=\"df-d239c697-9955-44c0-aaac-339f8126f76c\">\n",
              "  <button class=\"colab-df-quickchart\" onclick=\"quickchart('df-d239c697-9955-44c0-aaac-339f8126f76c')\"\n",
              "            title=\"Suggest charts\"\n",
              "            style=\"display:none;\">\n",
              "\n",
              "<svg xmlns=\"http://www.w3.org/2000/svg\" height=\"24px\"viewBox=\"0 0 24 24\"\n",
              "     width=\"24px\">\n",
              "    <g>\n",
              "        <path d=\"M19 3H5c-1.1 0-2 .9-2 2v14c0 1.1.9 2 2 2h14c1.1 0 2-.9 2-2V5c0-1.1-.9-2-2-2zM9 17H7v-7h2v7zm4 0h-2V7h2v10zm4 0h-2v-4h2v4z\"/>\n",
              "    </g>\n",
              "</svg>\n",
              "  </button>\n",
              "\n",
              "<style>\n",
              "  .colab-df-quickchart {\n",
              "      --bg-color: #E8F0FE;\n",
              "      --fill-color: #1967D2;\n",
              "      --hover-bg-color: #E2EBFA;\n",
              "      --hover-fill-color: #174EA6;\n",
              "      --disabled-fill-color: #AAA;\n",
              "      --disabled-bg-color: #DDD;\n",
              "  }\n",
              "\n",
              "  [theme=dark] .colab-df-quickchart {\n",
              "      --bg-color: #3B4455;\n",
              "      --fill-color: #D2E3FC;\n",
              "      --hover-bg-color: #434B5C;\n",
              "      --hover-fill-color: #FFFFFF;\n",
              "      --disabled-bg-color: #3B4455;\n",
              "      --disabled-fill-color: #666;\n",
              "  }\n",
              "\n",
              "  .colab-df-quickchart {\n",
              "    background-color: var(--bg-color);\n",
              "    border: none;\n",
              "    border-radius: 50%;\n",
              "    cursor: pointer;\n",
              "    display: none;\n",
              "    fill: var(--fill-color);\n",
              "    height: 32px;\n",
              "    padding: 0;\n",
              "    width: 32px;\n",
              "  }\n",
              "\n",
              "  .colab-df-quickchart:hover {\n",
              "    background-color: var(--hover-bg-color);\n",
              "    box-shadow: 0 1px 2px rgba(60, 64, 67, 0.3), 0 1px 3px 1px rgba(60, 64, 67, 0.15);\n",
              "    fill: var(--button-hover-fill-color);\n",
              "  }\n",
              "\n",
              "  .colab-df-quickchart-complete:disabled,\n",
              "  .colab-df-quickchart-complete:disabled:hover {\n",
              "    background-color: var(--disabled-bg-color);\n",
              "    fill: var(--disabled-fill-color);\n",
              "    box-shadow: none;\n",
              "  }\n",
              "\n",
              "  .colab-df-spinner {\n",
              "    border: 2px solid var(--fill-color);\n",
              "    border-color: transparent;\n",
              "    border-bottom-color: var(--fill-color);\n",
              "    animation:\n",
              "      spin 1s steps(1) infinite;\n",
              "  }\n",
              "\n",
              "  @keyframes spin {\n",
              "    0% {\n",
              "      border-color: transparent;\n",
              "      border-bottom-color: var(--fill-color);\n",
              "      border-left-color: var(--fill-color);\n",
              "    }\n",
              "    20% {\n",
              "      border-color: transparent;\n",
              "      border-left-color: var(--fill-color);\n",
              "      border-top-color: var(--fill-color);\n",
              "    }\n",
              "    30% {\n",
              "      border-color: transparent;\n",
              "      border-left-color: var(--fill-color);\n",
              "      border-top-color: var(--fill-color);\n",
              "      border-right-color: var(--fill-color);\n",
              "    }\n",
              "    40% {\n",
              "      border-color: transparent;\n",
              "      border-right-color: var(--fill-color);\n",
              "      border-top-color: var(--fill-color);\n",
              "    }\n",
              "    60% {\n",
              "      border-color: transparent;\n",
              "      border-right-color: var(--fill-color);\n",
              "    }\n",
              "    80% {\n",
              "      border-color: transparent;\n",
              "      border-right-color: var(--fill-color);\n",
              "      border-bottom-color: var(--fill-color);\n",
              "    }\n",
              "    90% {\n",
              "      border-color: transparent;\n",
              "      border-bottom-color: var(--fill-color);\n",
              "    }\n",
              "  }\n",
              "</style>\n",
              "\n",
              "  <script>\n",
              "    async function quickchart(key) {\n",
              "      const quickchartButtonEl =\n",
              "        document.querySelector('#' + key + ' button');\n",
              "      quickchartButtonEl.disabled = true;  // To prevent multiple clicks.\n",
              "      quickchartButtonEl.classList.add('colab-df-spinner');\n",
              "      try {\n",
              "        const charts = await google.colab.kernel.invokeFunction(\n",
              "            'suggestCharts', [key], {});\n",
              "      } catch (error) {\n",
              "        console.error('Error during call to suggestCharts:', error);\n",
              "      }\n",
              "      quickchartButtonEl.classList.remove('colab-df-spinner');\n",
              "      quickchartButtonEl.classList.add('colab-df-quickchart-complete');\n",
              "    }\n",
              "    (() => {\n",
              "      let quickchartButtonEl =\n",
              "        document.querySelector('#df-d239c697-9955-44c0-aaac-339f8126f76c button');\n",
              "      quickchartButtonEl.style.display =\n",
              "        google.colab.kernel.accessAllowed ? 'block' : 'none';\n",
              "    })();\n",
              "  </script>\n",
              "</div>\n",
              "\n",
              "    </div>\n",
              "  </div>\n"
            ]
          },
          "metadata": {},
          "execution_count": 160
        }
      ]
    },
    {
      "cell_type": "code",
      "source": [
        "y_train_pred_final['Predicted'] = y_train_pred_final.Converted_prob.map(lambda x: 1 if x > 0.5 else 0)\n",
        "\n",
        "# Let's see the head\n",
        "y_train_pred_final[:10]"
      ],
      "metadata": {
        "colab": {
          "base_uri": "https://localhost:8080/",
          "height": 363
        },
        "id": "uFCLGNyAKXma",
        "outputId": "67eaca9f-1462-4cc3-da6c-1ee07565b3c6"
      },
      "execution_count": 161,
      "outputs": [
        {
          "output_type": "execute_result",
          "data": {
            "text/plain": [
              "   Converted  Converted_prob    ID  Predicted\n",
              "0          0             NaN  1871          0\n",
              "1          0        0.015105  6795          0\n",
              "2          0        0.905661  3516          1\n",
              "3          0             NaN  8105          0\n",
              "4          0        0.911279  3934          1\n",
              "5          1        0.009838  4844          0\n",
              "6          0        0.979477  3297          1\n",
              "7          1        0.009838  8071          0\n",
              "8          0        0.017810   987          0\n",
              "9          1        0.017375  7423          0"
            ],
            "text/html": [
              "\n",
              "  <div id=\"df-bc3c41b2-6e01-41f6-86f3-182eae4f8fc2\" class=\"colab-df-container\">\n",
              "    <div>\n",
              "<style scoped>\n",
              "    .dataframe tbody tr th:only-of-type {\n",
              "        vertical-align: middle;\n",
              "    }\n",
              "\n",
              "    .dataframe tbody tr th {\n",
              "        vertical-align: top;\n",
              "    }\n",
              "\n",
              "    .dataframe thead th {\n",
              "        text-align: right;\n",
              "    }\n",
              "</style>\n",
              "<table border=\"1\" class=\"dataframe\">\n",
              "  <thead>\n",
              "    <tr style=\"text-align: right;\">\n",
              "      <th></th>\n",
              "      <th>Converted</th>\n",
              "      <th>Converted_prob</th>\n",
              "      <th>ID</th>\n",
              "      <th>Predicted</th>\n",
              "    </tr>\n",
              "  </thead>\n",
              "  <tbody>\n",
              "    <tr>\n",
              "      <th>0</th>\n",
              "      <td>0</td>\n",
              "      <td>NaN</td>\n",
              "      <td>1871</td>\n",
              "      <td>0</td>\n",
              "    </tr>\n",
              "    <tr>\n",
              "      <th>1</th>\n",
              "      <td>0</td>\n",
              "      <td>0.015105</td>\n",
              "      <td>6795</td>\n",
              "      <td>0</td>\n",
              "    </tr>\n",
              "    <tr>\n",
              "      <th>2</th>\n",
              "      <td>0</td>\n",
              "      <td>0.905661</td>\n",
              "      <td>3516</td>\n",
              "      <td>1</td>\n",
              "    </tr>\n",
              "    <tr>\n",
              "      <th>3</th>\n",
              "      <td>0</td>\n",
              "      <td>NaN</td>\n",
              "      <td>8105</td>\n",
              "      <td>0</td>\n",
              "    </tr>\n",
              "    <tr>\n",
              "      <th>4</th>\n",
              "      <td>0</td>\n",
              "      <td>0.911279</td>\n",
              "      <td>3934</td>\n",
              "      <td>1</td>\n",
              "    </tr>\n",
              "    <tr>\n",
              "      <th>5</th>\n",
              "      <td>1</td>\n",
              "      <td>0.009838</td>\n",
              "      <td>4844</td>\n",
              "      <td>0</td>\n",
              "    </tr>\n",
              "    <tr>\n",
              "      <th>6</th>\n",
              "      <td>0</td>\n",
              "      <td>0.979477</td>\n",
              "      <td>3297</td>\n",
              "      <td>1</td>\n",
              "    </tr>\n",
              "    <tr>\n",
              "      <th>7</th>\n",
              "      <td>1</td>\n",
              "      <td>0.009838</td>\n",
              "      <td>8071</td>\n",
              "      <td>0</td>\n",
              "    </tr>\n",
              "    <tr>\n",
              "      <th>8</th>\n",
              "      <td>0</td>\n",
              "      <td>0.017810</td>\n",
              "      <td>987</td>\n",
              "      <td>0</td>\n",
              "    </tr>\n",
              "    <tr>\n",
              "      <th>9</th>\n",
              "      <td>1</td>\n",
              "      <td>0.017375</td>\n",
              "      <td>7423</td>\n",
              "      <td>0</td>\n",
              "    </tr>\n",
              "  </tbody>\n",
              "</table>\n",
              "</div>\n",
              "    <div class=\"colab-df-buttons\">\n",
              "\n",
              "  <div class=\"colab-df-container\">\n",
              "    <button class=\"colab-df-convert\" onclick=\"convertToInteractive('df-bc3c41b2-6e01-41f6-86f3-182eae4f8fc2')\"\n",
              "            title=\"Convert this dataframe to an interactive table.\"\n",
              "            style=\"display:none;\">\n",
              "\n",
              "  <svg xmlns=\"http://www.w3.org/2000/svg\" height=\"24px\" viewBox=\"0 -960 960 960\">\n",
              "    <path d=\"M120-120v-720h720v720H120Zm60-500h600v-160H180v160Zm220 220h160v-160H400v160Zm0 220h160v-160H400v160ZM180-400h160v-160H180v160Zm440 0h160v-160H620v160ZM180-180h160v-160H180v160Zm440 0h160v-160H620v160Z\"/>\n",
              "  </svg>\n",
              "    </button>\n",
              "\n",
              "  <style>\n",
              "    .colab-df-container {\n",
              "      display:flex;\n",
              "      gap: 12px;\n",
              "    }\n",
              "\n",
              "    .colab-df-convert {\n",
              "      background-color: #E8F0FE;\n",
              "      border: none;\n",
              "      border-radius: 50%;\n",
              "      cursor: pointer;\n",
              "      display: none;\n",
              "      fill: #1967D2;\n",
              "      height: 32px;\n",
              "      padding: 0 0 0 0;\n",
              "      width: 32px;\n",
              "    }\n",
              "\n",
              "    .colab-df-convert:hover {\n",
              "      background-color: #E2EBFA;\n",
              "      box-shadow: 0px 1px 2px rgba(60, 64, 67, 0.3), 0px 1px 3px 1px rgba(60, 64, 67, 0.15);\n",
              "      fill: #174EA6;\n",
              "    }\n",
              "\n",
              "    .colab-df-buttons div {\n",
              "      margin-bottom: 4px;\n",
              "    }\n",
              "\n",
              "    [theme=dark] .colab-df-convert {\n",
              "      background-color: #3B4455;\n",
              "      fill: #D2E3FC;\n",
              "    }\n",
              "\n",
              "    [theme=dark] .colab-df-convert:hover {\n",
              "      background-color: #434B5C;\n",
              "      box-shadow: 0px 1px 3px 1px rgba(0, 0, 0, 0.15);\n",
              "      filter: drop-shadow(0px 1px 2px rgba(0, 0, 0, 0.3));\n",
              "      fill: #FFFFFF;\n",
              "    }\n",
              "  </style>\n",
              "\n",
              "    <script>\n",
              "      const buttonEl =\n",
              "        document.querySelector('#df-bc3c41b2-6e01-41f6-86f3-182eae4f8fc2 button.colab-df-convert');\n",
              "      buttonEl.style.display =\n",
              "        google.colab.kernel.accessAllowed ? 'block' : 'none';\n",
              "\n",
              "      async function convertToInteractive(key) {\n",
              "        const element = document.querySelector('#df-bc3c41b2-6e01-41f6-86f3-182eae4f8fc2');\n",
              "        const dataTable =\n",
              "          await google.colab.kernel.invokeFunction('convertToInteractive',\n",
              "                                                    [key], {});\n",
              "        if (!dataTable) return;\n",
              "\n",
              "        const docLinkHtml = 'Like what you see? Visit the ' +\n",
              "          '<a target=\"_blank\" href=https://colab.research.google.com/notebooks/data_table.ipynb>data table notebook</a>'\n",
              "          + ' to learn more about interactive tables.';\n",
              "        element.innerHTML = '';\n",
              "        dataTable['output_type'] = 'display_data';\n",
              "        await google.colab.output.renderOutput(dataTable, element);\n",
              "        const docLink = document.createElement('div');\n",
              "        docLink.innerHTML = docLinkHtml;\n",
              "        element.appendChild(docLink);\n",
              "      }\n",
              "    </script>\n",
              "  </div>\n",
              "\n",
              "\n",
              "<div id=\"df-38e6ae8c-c8c0-4664-9d01-235ae012835e\">\n",
              "  <button class=\"colab-df-quickchart\" onclick=\"quickchart('df-38e6ae8c-c8c0-4664-9d01-235ae012835e')\"\n",
              "            title=\"Suggest charts\"\n",
              "            style=\"display:none;\">\n",
              "\n",
              "<svg xmlns=\"http://www.w3.org/2000/svg\" height=\"24px\"viewBox=\"0 0 24 24\"\n",
              "     width=\"24px\">\n",
              "    <g>\n",
              "        <path d=\"M19 3H5c-1.1 0-2 .9-2 2v14c0 1.1.9 2 2 2h14c1.1 0 2-.9 2-2V5c0-1.1-.9-2-2-2zM9 17H7v-7h2v7zm4 0h-2V7h2v10zm4 0h-2v-4h2v4z\"/>\n",
              "    </g>\n",
              "</svg>\n",
              "  </button>\n",
              "\n",
              "<style>\n",
              "  .colab-df-quickchart {\n",
              "      --bg-color: #E8F0FE;\n",
              "      --fill-color: #1967D2;\n",
              "      --hover-bg-color: #E2EBFA;\n",
              "      --hover-fill-color: #174EA6;\n",
              "      --disabled-fill-color: #AAA;\n",
              "      --disabled-bg-color: #DDD;\n",
              "  }\n",
              "\n",
              "  [theme=dark] .colab-df-quickchart {\n",
              "      --bg-color: #3B4455;\n",
              "      --fill-color: #D2E3FC;\n",
              "      --hover-bg-color: #434B5C;\n",
              "      --hover-fill-color: #FFFFFF;\n",
              "      --disabled-bg-color: #3B4455;\n",
              "      --disabled-fill-color: #666;\n",
              "  }\n",
              "\n",
              "  .colab-df-quickchart {\n",
              "    background-color: var(--bg-color);\n",
              "    border: none;\n",
              "    border-radius: 50%;\n",
              "    cursor: pointer;\n",
              "    display: none;\n",
              "    fill: var(--fill-color);\n",
              "    height: 32px;\n",
              "    padding: 0;\n",
              "    width: 32px;\n",
              "  }\n",
              "\n",
              "  .colab-df-quickchart:hover {\n",
              "    background-color: var(--hover-bg-color);\n",
              "    box-shadow: 0 1px 2px rgba(60, 64, 67, 0.3), 0 1px 3px 1px rgba(60, 64, 67, 0.15);\n",
              "    fill: var(--button-hover-fill-color);\n",
              "  }\n",
              "\n",
              "  .colab-df-quickchart-complete:disabled,\n",
              "  .colab-df-quickchart-complete:disabled:hover {\n",
              "    background-color: var(--disabled-bg-color);\n",
              "    fill: var(--disabled-fill-color);\n",
              "    box-shadow: none;\n",
              "  }\n",
              "\n",
              "  .colab-df-spinner {\n",
              "    border: 2px solid var(--fill-color);\n",
              "    border-color: transparent;\n",
              "    border-bottom-color: var(--fill-color);\n",
              "    animation:\n",
              "      spin 1s steps(1) infinite;\n",
              "  }\n",
              "\n",
              "  @keyframes spin {\n",
              "    0% {\n",
              "      border-color: transparent;\n",
              "      border-bottom-color: var(--fill-color);\n",
              "      border-left-color: var(--fill-color);\n",
              "    }\n",
              "    20% {\n",
              "      border-color: transparent;\n",
              "      border-left-color: var(--fill-color);\n",
              "      border-top-color: var(--fill-color);\n",
              "    }\n",
              "    30% {\n",
              "      border-color: transparent;\n",
              "      border-left-color: var(--fill-color);\n",
              "      border-top-color: var(--fill-color);\n",
              "      border-right-color: var(--fill-color);\n",
              "    }\n",
              "    40% {\n",
              "      border-color: transparent;\n",
              "      border-right-color: var(--fill-color);\n",
              "      border-top-color: var(--fill-color);\n",
              "    }\n",
              "    60% {\n",
              "      border-color: transparent;\n",
              "      border-right-color: var(--fill-color);\n",
              "    }\n",
              "    80% {\n",
              "      border-color: transparent;\n",
              "      border-right-color: var(--fill-color);\n",
              "      border-bottom-color: var(--fill-color);\n",
              "    }\n",
              "    90% {\n",
              "      border-color: transparent;\n",
              "      border-bottom-color: var(--fill-color);\n",
              "    }\n",
              "  }\n",
              "</style>\n",
              "\n",
              "  <script>\n",
              "    async function quickchart(key) {\n",
              "      const quickchartButtonEl =\n",
              "        document.querySelector('#' + key + ' button');\n",
              "      quickchartButtonEl.disabled = true;  // To prevent multiple clicks.\n",
              "      quickchartButtonEl.classList.add('colab-df-spinner');\n",
              "      try {\n",
              "        const charts = await google.colab.kernel.invokeFunction(\n",
              "            'suggestCharts', [key], {});\n",
              "      } catch (error) {\n",
              "        console.error('Error during call to suggestCharts:', error);\n",
              "      }\n",
              "      quickchartButtonEl.classList.remove('colab-df-spinner');\n",
              "      quickchartButtonEl.classList.add('colab-df-quickchart-complete');\n",
              "    }\n",
              "    (() => {\n",
              "      let quickchartButtonEl =\n",
              "        document.querySelector('#df-38e6ae8c-c8c0-4664-9d01-235ae012835e button');\n",
              "      quickchartButtonEl.style.display =\n",
              "        google.colab.kernel.accessAllowed ? 'block' : 'none';\n",
              "    })();\n",
              "  </script>\n",
              "</div>\n",
              "\n",
              "    </div>\n",
              "  </div>\n"
            ]
          },
          "metadata": {},
          "execution_count": 161
        }
      ]
    },
    {
      "cell_type": "code",
      "source": [
        "from sklearn import metrics\n",
        "\n",
        "# Confusion matrix\n",
        "confusion = metrics.confusion_matrix(y_train_pred_final.Converted, y_train_pred_final.Predicted )\n",
        "print(confusion)"
      ],
      "metadata": {
        "colab": {
          "base_uri": "https://localhost:8080/"
        },
        "id": "1RXuV20ELHZG",
        "outputId": "01a69479-7744-41bf-f31a-5bf0cec25a62"
      },
      "execution_count": 162,
      "outputs": [
        {
          "output_type": "stream",
          "name": "stdout",
          "text": [
            "[[2920 1082]\n",
            " [1818  648]]\n"
          ]
        }
      ]
    },
    {
      "cell_type": "code",
      "source": [
        "# Let's check the overall accuracy.\n",
        "print(metrics.accuracy_score(y_train_pred_final.Converted, y_train_pred_final.Predicted))"
      ],
      "metadata": {
        "colab": {
          "base_uri": "https://localhost:8080/"
        },
        "id": "o9-4ZK7HLxBB",
        "outputId": "9994a410-c395-4f68-876e-ff9d4acd9f9b"
      },
      "execution_count": 163,
      "outputs": [
        {
          "output_type": "stream",
          "name": "stdout",
          "text": [
            "0.551638837353123\n"
          ]
        }
      ]
    },
    {
      "cell_type": "code",
      "source": [],
      "metadata": {
        "id": "sosfXYTkLzuR"
      },
      "execution_count": 135,
      "outputs": []
    }
  ]
}