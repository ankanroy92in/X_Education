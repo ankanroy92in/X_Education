{
 "cells": [
  {
   "cell_type": "markdown",
   "metadata": {
    "id": "jCnPCxzkHm9d"
   },
   "source": [
    "<h1 align=\"center\"><font color='green'>X Education</font></h1>\n",
    "\n",
    "#### Porblem Statement :\n",
    "X Education sells online courses to industry professionals.\n",
    "\n",
    "Everyday many professionals who are interested in the courses land on their website and browse for courses.These users are classified as potential leads to take the course.\n",
    "\n",
    "Currently the conversion rate is very poor. The company wishes to identify the most potential leads, also known as ‘Hot Leads’.\n",
    "\n",
    "With the Hot Leads, the Sales team will focus more on communicating with the them rather than making calls to everyone.\n",
    "\n",
    "\n",
    "#### Business Goal :\n",
    "Help the X Education to select the most promising leads i.e. Hot Leads.\n",
    "\n",
    "This can be achieved by building a logistic regression model and assigning lead score between 0 and 100 to each of the leads.\n",
    "\n",
    "A higher score would mean that the lead is hot, i.e. is most likely to convert whereas a lower score would mean that the lead is cold and will mostly not get converted."
   ]
  },
  {
   "cell_type": "markdown",
   "metadata": {
    "id": "6zZnHUfNQpuu"
   },
   "source": [
    "## <h2 align=\"left\"> <font color='brown'>Importing the libraries</font></h2>"
   ]
  },
  {
   "cell_type": "code",
   "execution_count": 76,
   "metadata": {
    "id": "-D-ovLamQtc7"
   },
   "outputs": [],
   "source": [
    "import warnings\n",
    "warnings.filterwarnings('ignore')"
   ]
  },
  {
   "cell_type": "code",
   "execution_count": 77,
   "metadata": {
    "id": "fl7Nudp6Hpph"
   },
   "outputs": [],
   "source": [
    "# import header\n",
    "import pandas as pd\n",
    "import numpy as np\n",
    "import matplotlib.pyplot as plt\n",
    "import seaborn as sns\n",
    "\n",
    "from matplotlib import style\n",
    "plt.style.use('seaborn')\n",
    "\n",
    "from sklearn.preprocessing import MinMaxScaler\n",
    "from sklearn.model_selection import train_test_split\n",
    "\n",
    "# Libraries for model creation, training and calculating VIF(for Multicollinearity)\n",
    "import statsmodels.api as sm\n",
    "from statsmodels.stats.outliers_influence import variance_inflation_factor\n",
    "\n",
    "from sklearn.linear_model import LogisticRegression\n",
    "from sklearn.feature_selection import RFE"
   ]
  },
  {
   "cell_type": "markdown",
   "metadata": {
    "id": "Aw55hKByekF_"
   },
   "source": [
    "## <h2 align=\"left\"> <font color='brown'>Reading Dataset</font></h2>"
   ]
  },
  {
   "cell_type": "code",
   "execution_count": 78,
   "metadata": {
    "id": "d38lDuBgH-A7"
   },
   "outputs": [],
   "source": [
    "# Read datasets\n",
    "leads = pd.read_csv('Leads.csv')"
   ]
  },
  {
   "cell_type": "code",
   "execution_count": 79,
   "metadata": {
    "colab": {
     "base_uri": "https://localhost:8080/",
     "height": 585
    },
    "id": "eZAPtfZfLrDP",
    "outputId": "3f0646ca-5d5f-406c-f0f0-24ae3f36acbf"
   },
   "outputs": [
    {
     "data": {
      "text/html": [
       "<div>\n",
       "<style scoped>\n",
       "    .dataframe tbody tr th:only-of-type {\n",
       "        vertical-align: middle;\n",
       "    }\n",
       "\n",
       "    .dataframe tbody tr th {\n",
       "        vertical-align: top;\n",
       "    }\n",
       "\n",
       "    .dataframe thead th {\n",
       "        text-align: right;\n",
       "    }\n",
       "</style>\n",
       "<table border=\"1\" class=\"dataframe\">\n",
       "  <thead>\n",
       "    <tr style=\"text-align: right;\">\n",
       "      <th></th>\n",
       "      <th>Prospect ID</th>\n",
       "      <th>Lead Number</th>\n",
       "      <th>Lead Origin</th>\n",
       "      <th>Lead Source</th>\n",
       "      <th>Do Not Email</th>\n",
       "      <th>Do Not Call</th>\n",
       "      <th>Converted</th>\n",
       "      <th>TotalVisits</th>\n",
       "      <th>Total Time Spent on Website</th>\n",
       "      <th>Page Views Per Visit</th>\n",
       "      <th>...</th>\n",
       "      <th>Get updates on DM Content</th>\n",
       "      <th>Lead Profile</th>\n",
       "      <th>City</th>\n",
       "      <th>Asymmetrique Activity Index</th>\n",
       "      <th>Asymmetrique Profile Index</th>\n",
       "      <th>Asymmetrique Activity Score</th>\n",
       "      <th>Asymmetrique Profile Score</th>\n",
       "      <th>I agree to pay the amount through cheque</th>\n",
       "      <th>A free copy of Mastering The Interview</th>\n",
       "      <th>Last Notable Activity</th>\n",
       "    </tr>\n",
       "  </thead>\n",
       "  <tbody>\n",
       "    <tr>\n",
       "      <th>0</th>\n",
       "      <td>7927b2df-8bba-4d29-b9a2-b6e0beafe620</td>\n",
       "      <td>660737</td>\n",
       "      <td>API</td>\n",
       "      <td>Olark Chat</td>\n",
       "      <td>No</td>\n",
       "      <td>No</td>\n",
       "      <td>0</td>\n",
       "      <td>0.0</td>\n",
       "      <td>0</td>\n",
       "      <td>0.0</td>\n",
       "      <td>...</td>\n",
       "      <td>No</td>\n",
       "      <td>Select</td>\n",
       "      <td>Select</td>\n",
       "      <td>02.Medium</td>\n",
       "      <td>02.Medium</td>\n",
       "      <td>15.0</td>\n",
       "      <td>15.0</td>\n",
       "      <td>No</td>\n",
       "      <td>No</td>\n",
       "      <td>Modified</td>\n",
       "    </tr>\n",
       "    <tr>\n",
       "      <th>1</th>\n",
       "      <td>2a272436-5132-4136-86fa-dcc88c88f482</td>\n",
       "      <td>660728</td>\n",
       "      <td>API</td>\n",
       "      <td>Organic Search</td>\n",
       "      <td>No</td>\n",
       "      <td>No</td>\n",
       "      <td>0</td>\n",
       "      <td>5.0</td>\n",
       "      <td>674</td>\n",
       "      <td>2.5</td>\n",
       "      <td>...</td>\n",
       "      <td>No</td>\n",
       "      <td>Select</td>\n",
       "      <td>Select</td>\n",
       "      <td>02.Medium</td>\n",
       "      <td>02.Medium</td>\n",
       "      <td>15.0</td>\n",
       "      <td>15.0</td>\n",
       "      <td>No</td>\n",
       "      <td>No</td>\n",
       "      <td>Email Opened</td>\n",
       "    </tr>\n",
       "    <tr>\n",
       "      <th>2</th>\n",
       "      <td>8cc8c611-a219-4f35-ad23-fdfd2656bd8a</td>\n",
       "      <td>660727</td>\n",
       "      <td>Landing Page Submission</td>\n",
       "      <td>Direct Traffic</td>\n",
       "      <td>No</td>\n",
       "      <td>No</td>\n",
       "      <td>1</td>\n",
       "      <td>2.0</td>\n",
       "      <td>1532</td>\n",
       "      <td>2.0</td>\n",
       "      <td>...</td>\n",
       "      <td>No</td>\n",
       "      <td>Potential Lead</td>\n",
       "      <td>Mumbai</td>\n",
       "      <td>02.Medium</td>\n",
       "      <td>01.High</td>\n",
       "      <td>14.0</td>\n",
       "      <td>20.0</td>\n",
       "      <td>No</td>\n",
       "      <td>Yes</td>\n",
       "      <td>Email Opened</td>\n",
       "    </tr>\n",
       "    <tr>\n",
       "      <th>3</th>\n",
       "      <td>0cc2df48-7cf4-4e39-9de9-19797f9b38cc</td>\n",
       "      <td>660719</td>\n",
       "      <td>Landing Page Submission</td>\n",
       "      <td>Direct Traffic</td>\n",
       "      <td>No</td>\n",
       "      <td>No</td>\n",
       "      <td>0</td>\n",
       "      <td>1.0</td>\n",
       "      <td>305</td>\n",
       "      <td>1.0</td>\n",
       "      <td>...</td>\n",
       "      <td>No</td>\n",
       "      <td>Select</td>\n",
       "      <td>Mumbai</td>\n",
       "      <td>02.Medium</td>\n",
       "      <td>01.High</td>\n",
       "      <td>13.0</td>\n",
       "      <td>17.0</td>\n",
       "      <td>No</td>\n",
       "      <td>No</td>\n",
       "      <td>Modified</td>\n",
       "    </tr>\n",
       "    <tr>\n",
       "      <th>4</th>\n",
       "      <td>3256f628-e534-4826-9d63-4a8b88782852</td>\n",
       "      <td>660681</td>\n",
       "      <td>Landing Page Submission</td>\n",
       "      <td>Google</td>\n",
       "      <td>No</td>\n",
       "      <td>No</td>\n",
       "      <td>1</td>\n",
       "      <td>2.0</td>\n",
       "      <td>1428</td>\n",
       "      <td>1.0</td>\n",
       "      <td>...</td>\n",
       "      <td>No</td>\n",
       "      <td>Select</td>\n",
       "      <td>Mumbai</td>\n",
       "      <td>02.Medium</td>\n",
       "      <td>01.High</td>\n",
       "      <td>15.0</td>\n",
       "      <td>18.0</td>\n",
       "      <td>No</td>\n",
       "      <td>No</td>\n",
       "      <td>Modified</td>\n",
       "    </tr>\n",
       "  </tbody>\n",
       "</table>\n",
       "<p>5 rows × 37 columns</p>\n",
       "</div>"
      ],
      "text/plain": [
       "                            Prospect ID  Lead Number              Lead Origin  \\\n",
       "0  7927b2df-8bba-4d29-b9a2-b6e0beafe620       660737                      API   \n",
       "1  2a272436-5132-4136-86fa-dcc88c88f482       660728                      API   \n",
       "2  8cc8c611-a219-4f35-ad23-fdfd2656bd8a       660727  Landing Page Submission   \n",
       "3  0cc2df48-7cf4-4e39-9de9-19797f9b38cc       660719  Landing Page Submission   \n",
       "4  3256f628-e534-4826-9d63-4a8b88782852       660681  Landing Page Submission   \n",
       "\n",
       "      Lead Source Do Not Email Do Not Call  Converted  TotalVisits  \\\n",
       "0      Olark Chat           No          No          0          0.0   \n",
       "1  Organic Search           No          No          0          5.0   \n",
       "2  Direct Traffic           No          No          1          2.0   \n",
       "3  Direct Traffic           No          No          0          1.0   \n",
       "4          Google           No          No          1          2.0   \n",
       "\n",
       "   Total Time Spent on Website  Page Views Per Visit  ...  \\\n",
       "0                            0                   0.0  ...   \n",
       "1                          674                   2.5  ...   \n",
       "2                         1532                   2.0  ...   \n",
       "3                          305                   1.0  ...   \n",
       "4                         1428                   1.0  ...   \n",
       "\n",
       "  Get updates on DM Content    Lead Profile    City  \\\n",
       "0                        No          Select  Select   \n",
       "1                        No          Select  Select   \n",
       "2                        No  Potential Lead  Mumbai   \n",
       "3                        No          Select  Mumbai   \n",
       "4                        No          Select  Mumbai   \n",
       "\n",
       "  Asymmetrique Activity Index Asymmetrique Profile Index  \\\n",
       "0                   02.Medium                  02.Medium   \n",
       "1                   02.Medium                  02.Medium   \n",
       "2                   02.Medium                    01.High   \n",
       "3                   02.Medium                    01.High   \n",
       "4                   02.Medium                    01.High   \n",
       "\n",
       "  Asymmetrique Activity Score Asymmetrique Profile Score  \\\n",
       "0                        15.0                       15.0   \n",
       "1                        15.0                       15.0   \n",
       "2                        14.0                       20.0   \n",
       "3                        13.0                       17.0   \n",
       "4                        15.0                       18.0   \n",
       "\n",
       "  I agree to pay the amount through cheque  \\\n",
       "0                                       No   \n",
       "1                                       No   \n",
       "2                                       No   \n",
       "3                                       No   \n",
       "4                                       No   \n",
       "\n",
       "  A free copy of Mastering The Interview Last Notable Activity  \n",
       "0                                     No              Modified  \n",
       "1                                     No          Email Opened  \n",
       "2                                    Yes          Email Opened  \n",
       "3                                     No              Modified  \n",
       "4                                     No              Modified  \n",
       "\n",
       "[5 rows x 37 columns]"
      ]
     },
     "execution_count": 79,
     "metadata": {},
     "output_type": "execute_result"
    }
   ],
   "source": [
    "leads.head()"
   ]
  },
  {
   "cell_type": "code",
   "execution_count": 80,
   "metadata": {
    "colab": {
     "base_uri": "https://localhost:8080/"
    },
    "id": "ahausgWULxK9",
    "outputId": "7d08a6ff-be8b-4eef-c792-a5affb81885e"
   },
   "outputs": [
    {
     "name": "stdout",
     "output_type": "stream",
     "text": [
      "No. of Rows and columns : (9240, 37)\n"
     ]
    }
   ],
   "source": [
    "# Understanding the datasets\n",
    "print('No. of Rows and columns :',leads.shape)\n"
   ]
  },
  {
   "cell_type": "code",
   "execution_count": 81,
   "metadata": {
    "colab": {
     "base_uri": "https://localhost:8080/",
     "height": 300
    },
    "id": "MPd6Em9SMM0N",
    "outputId": "304a61d5-c680-47db-d1b6-855c30f3eb95"
   },
   "outputs": [
    {
     "data": {
      "text/html": [
       "<div>\n",
       "<style scoped>\n",
       "    .dataframe tbody tr th:only-of-type {\n",
       "        vertical-align: middle;\n",
       "    }\n",
       "\n",
       "    .dataframe tbody tr th {\n",
       "        vertical-align: top;\n",
       "    }\n",
       "\n",
       "    .dataframe thead th {\n",
       "        text-align: right;\n",
       "    }\n",
       "</style>\n",
       "<table border=\"1\" class=\"dataframe\">\n",
       "  <thead>\n",
       "    <tr style=\"text-align: right;\">\n",
       "      <th></th>\n",
       "      <th>Lead Number</th>\n",
       "      <th>Converted</th>\n",
       "      <th>TotalVisits</th>\n",
       "      <th>Total Time Spent on Website</th>\n",
       "      <th>Page Views Per Visit</th>\n",
       "      <th>Asymmetrique Activity Score</th>\n",
       "      <th>Asymmetrique Profile Score</th>\n",
       "    </tr>\n",
       "  </thead>\n",
       "  <tbody>\n",
       "    <tr>\n",
       "      <th>count</th>\n",
       "      <td>9240.000000</td>\n",
       "      <td>9240.000000</td>\n",
       "      <td>9103.000000</td>\n",
       "      <td>9240.000000</td>\n",
       "      <td>9103.000000</td>\n",
       "      <td>5022.000000</td>\n",
       "      <td>5022.000000</td>\n",
       "    </tr>\n",
       "    <tr>\n",
       "      <th>mean</th>\n",
       "      <td>617188.435606</td>\n",
       "      <td>0.385390</td>\n",
       "      <td>3.445238</td>\n",
       "      <td>487.698268</td>\n",
       "      <td>2.362820</td>\n",
       "      <td>14.306252</td>\n",
       "      <td>16.344883</td>\n",
       "    </tr>\n",
       "    <tr>\n",
       "      <th>std</th>\n",
       "      <td>23405.995698</td>\n",
       "      <td>0.486714</td>\n",
       "      <td>4.854853</td>\n",
       "      <td>548.021466</td>\n",
       "      <td>2.161418</td>\n",
       "      <td>1.386694</td>\n",
       "      <td>1.811395</td>\n",
       "    </tr>\n",
       "    <tr>\n",
       "      <th>min</th>\n",
       "      <td>579533.000000</td>\n",
       "      <td>0.000000</td>\n",
       "      <td>0.000000</td>\n",
       "      <td>0.000000</td>\n",
       "      <td>0.000000</td>\n",
       "      <td>7.000000</td>\n",
       "      <td>11.000000</td>\n",
       "    </tr>\n",
       "    <tr>\n",
       "      <th>25%</th>\n",
       "      <td>596484.500000</td>\n",
       "      <td>0.000000</td>\n",
       "      <td>1.000000</td>\n",
       "      <td>12.000000</td>\n",
       "      <td>1.000000</td>\n",
       "      <td>14.000000</td>\n",
       "      <td>15.000000</td>\n",
       "    </tr>\n",
       "    <tr>\n",
       "      <th>50%</th>\n",
       "      <td>615479.000000</td>\n",
       "      <td>0.000000</td>\n",
       "      <td>3.000000</td>\n",
       "      <td>248.000000</td>\n",
       "      <td>2.000000</td>\n",
       "      <td>14.000000</td>\n",
       "      <td>16.000000</td>\n",
       "    </tr>\n",
       "    <tr>\n",
       "      <th>75%</th>\n",
       "      <td>637387.250000</td>\n",
       "      <td>1.000000</td>\n",
       "      <td>5.000000</td>\n",
       "      <td>936.000000</td>\n",
       "      <td>3.000000</td>\n",
       "      <td>15.000000</td>\n",
       "      <td>18.000000</td>\n",
       "    </tr>\n",
       "    <tr>\n",
       "      <th>max</th>\n",
       "      <td>660737.000000</td>\n",
       "      <td>1.000000</td>\n",
       "      <td>251.000000</td>\n",
       "      <td>2272.000000</td>\n",
       "      <td>55.000000</td>\n",
       "      <td>18.000000</td>\n",
       "      <td>20.000000</td>\n",
       "    </tr>\n",
       "  </tbody>\n",
       "</table>\n",
       "</div>"
      ],
      "text/plain": [
       "         Lead Number    Converted  TotalVisits  Total Time Spent on Website  \\\n",
       "count    9240.000000  9240.000000  9103.000000                  9240.000000   \n",
       "mean   617188.435606     0.385390     3.445238                   487.698268   \n",
       "std     23405.995698     0.486714     4.854853                   548.021466   \n",
       "min    579533.000000     0.000000     0.000000                     0.000000   \n",
       "25%    596484.500000     0.000000     1.000000                    12.000000   \n",
       "50%    615479.000000     0.000000     3.000000                   248.000000   \n",
       "75%    637387.250000     1.000000     5.000000                   936.000000   \n",
       "max    660737.000000     1.000000   251.000000                  2272.000000   \n",
       "\n",
       "       Page Views Per Visit  Asymmetrique Activity Score  \\\n",
       "count           9103.000000                  5022.000000   \n",
       "mean               2.362820                    14.306252   \n",
       "std                2.161418                     1.386694   \n",
       "min                0.000000                     7.000000   \n",
       "25%                1.000000                    14.000000   \n",
       "50%                2.000000                    14.000000   \n",
       "75%                3.000000                    15.000000   \n",
       "max               55.000000                    18.000000   \n",
       "\n",
       "       Asymmetrique Profile Score  \n",
       "count                 5022.000000  \n",
       "mean                    16.344883  \n",
       "std                      1.811395  \n",
       "min                     11.000000  \n",
       "25%                     15.000000  \n",
       "50%                     16.000000  \n",
       "75%                     18.000000  \n",
       "max                     20.000000  "
      ]
     },
     "execution_count": 81,
     "metadata": {},
     "output_type": "execute_result"
    }
   ],
   "source": [
    "leads.describe()"
   ]
  },
  {
   "cell_type": "code",
   "execution_count": 82,
   "metadata": {
    "colab": {
     "base_uri": "https://localhost:8080/"
    },
    "id": "r7NJCYA8MwKd",
    "outputId": "7e1e2eaf-2462-4a55-a327-90f9f248995a"
   },
   "outputs": [
    {
     "name": "stdout",
     "output_type": "stream",
     "text": [
      "<class 'pandas.core.frame.DataFrame'>\n",
      "RangeIndex: 9240 entries, 0 to 9239\n",
      "Data columns (total 37 columns):\n",
      " #   Column                                         Non-Null Count  Dtype  \n",
      "---  ------                                         --------------  -----  \n",
      " 0   Prospect ID                                    9240 non-null   object \n",
      " 1   Lead Number                                    9240 non-null   int64  \n",
      " 2   Lead Origin                                    9240 non-null   object \n",
      " 3   Lead Source                                    9204 non-null   object \n",
      " 4   Do Not Email                                   9240 non-null   object \n",
      " 5   Do Not Call                                    9240 non-null   object \n",
      " 6   Converted                                      9240 non-null   int64  \n",
      " 7   TotalVisits                                    9103 non-null   float64\n",
      " 8   Total Time Spent on Website                    9240 non-null   int64  \n",
      " 9   Page Views Per Visit                           9103 non-null   float64\n",
      " 10  Last Activity                                  9137 non-null   object \n",
      " 11  Country                                        6779 non-null   object \n",
      " 12  Specialization                                 7802 non-null   object \n",
      " 13  How did you hear about X Education             7033 non-null   object \n",
      " 14  What is your current occupation                6550 non-null   object \n",
      " 15  What matters most to you in choosing a course  6531 non-null   object \n",
      " 16  Search                                         9240 non-null   object \n",
      " 17  Magazine                                       9240 non-null   object \n",
      " 18  Newspaper Article                              9240 non-null   object \n",
      " 19  X Education Forums                             9240 non-null   object \n",
      " 20  Newspaper                                      9240 non-null   object \n",
      " 21  Digital Advertisement                          9240 non-null   object \n",
      " 22  Through Recommendations                        9240 non-null   object \n",
      " 23  Receive More Updates About Our Courses         9240 non-null   object \n",
      " 24  Tags                                           5887 non-null   object \n",
      " 25  Lead Quality                                   4473 non-null   object \n",
      " 26  Update me on Supply Chain Content              9240 non-null   object \n",
      " 27  Get updates on DM Content                      9240 non-null   object \n",
      " 28  Lead Profile                                   6531 non-null   object \n",
      " 29  City                                           7820 non-null   object \n",
      " 30  Asymmetrique Activity Index                    5022 non-null   object \n",
      " 31  Asymmetrique Profile Index                     5022 non-null   object \n",
      " 32  Asymmetrique Activity Score                    5022 non-null   float64\n",
      " 33  Asymmetrique Profile Score                     5022 non-null   float64\n",
      " 34  I agree to pay the amount through cheque       9240 non-null   object \n",
      " 35  A free copy of Mastering The Interview         9240 non-null   object \n",
      " 36  Last Notable Activity                          9240 non-null   object \n",
      "dtypes: float64(4), int64(3), object(30)\n",
      "memory usage: 2.6+ MB\n"
     ]
    }
   ],
   "source": [
    "leads.info()"
   ]
  },
  {
   "cell_type": "code",
   "execution_count": 83,
   "metadata": {
    "id": "pK6v_qANd2kd"
   },
   "outputs": [],
   "source": [
    "# columns can be dropped because these are unique numbers\n",
    "drop_coulms = ['Prospect ID','Lead Number',]\n",
    "leads.drop(drop_coulms,axis=1,inplace=True)"
   ]
  },
  {
   "cell_type": "code",
   "execution_count": 84,
   "metadata": {
    "id": "C0MKoRR6o7LA"
   },
   "outputs": [],
   "source": [
    "# columns can be dropped because these are not the key drivers\n",
    "drop_coulms = ['Update me on Supply Chain Content','Get updates on DM Content',\n",
    "               'I agree to pay the amount through cheque','Tags']\n",
    "leads.drop(drop_coulms,axis=1,inplace=True)"
   ]
  },
  {
   "cell_type": "code",
   "execution_count": 213,
   "metadata": {
    "id": "CYi9EUUzl_Xy"
   },
   "outputs": [],
   "source": [
    "# Rename the Column headers\n",
    "leads.rename(columns = {\"How did you hear about X Education\":\"HeardFrom\"}, inplace=True)\n",
    "leads.rename(columns = {\"What matters most to you in choosing a course\":\"Moto\"}, inplace=True)\n",
    "leads.rename(columns = {\"What is your current occupation\":\"Occupation\"}, inplace=True)\n",
    "leads.rename(columns = {\"Receive More Updates About Our Courses\":\"GetUpdates\"}, inplace=True)\n",
    "leads.rename(columns={'A free copy of Mastering The Interview': 'Free_interview_copy'}, inplace=True)"
   ]
  },
  {
   "cell_type": "code",
   "execution_count": 86,
   "metadata": {
    "id": "XuXXx3YKxfdG"
   },
   "outputs": [],
   "source": [
    "#Categorical Values cleanup\n",
    "\n",
    "leads['Asymmetrique Activity Index'] = leads['Asymmetrique Activity Index'].replace({'01.High': 'High', '02.Medium': 'Medium', '03.Low': 'Low'})\n",
    "leads['Asymmetrique Profile Index'] = leads['Asymmetrique Activity Index'].replace({'01.High': 'High', '02.Medium': 'Medium', '03.Low': 'Low'})"
   ]
  },
  {
   "cell_type": "code",
   "execution_count": 87,
   "metadata": {
    "colab": {
     "base_uri": "https://localhost:8080/"
    },
    "id": "HetJzcQio5Te",
    "outputId": "c2d726ed-5764-4e8d-8e5b-62a768f60f4b"
   },
   "outputs": [
    {
     "name": "stdout",
     "output_type": "stream",
     "text": [
      "<class 'pandas.core.frame.DataFrame'>\n",
      "RangeIndex: 9240 entries, 0 to 9239\n",
      "Data columns (total 31 columns):\n",
      " #   Column                                  Non-Null Count  Dtype  \n",
      "---  ------                                  --------------  -----  \n",
      " 0   Lead Origin                             9240 non-null   object \n",
      " 1   Lead Source                             9204 non-null   object \n",
      " 2   Do Not Email                            9240 non-null   object \n",
      " 3   Do Not Call                             9240 non-null   object \n",
      " 4   Converted                               9240 non-null   int64  \n",
      " 5   TotalVisits                             9103 non-null   float64\n",
      " 6   Total Time Spent on Website             9240 non-null   int64  \n",
      " 7   Page Views Per Visit                    9103 non-null   float64\n",
      " 8   Last Activity                           9137 non-null   object \n",
      " 9   Country                                 6779 non-null   object \n",
      " 10  Specialization                          7802 non-null   object \n",
      " 11  HeardFrom                               7033 non-null   object \n",
      " 12  Occupation                              6550 non-null   object \n",
      " 13  Moto                                    6531 non-null   object \n",
      " 14  Search                                  9240 non-null   object \n",
      " 15  Magazine                                9240 non-null   object \n",
      " 16  Newspaper Article                       9240 non-null   object \n",
      " 17  X Education Forums                      9240 non-null   object \n",
      " 18  Newspaper                               9240 non-null   object \n",
      " 19  Digital Advertisement                   9240 non-null   object \n",
      " 20  Through Recommendations                 9240 non-null   object \n",
      " 21  GetUpdates                              9240 non-null   object \n",
      " 22  Lead Quality                            4473 non-null   object \n",
      " 23  Lead Profile                            6531 non-null   object \n",
      " 24  City                                    7820 non-null   object \n",
      " 25  Asymmetrique Activity Index             5022 non-null   object \n",
      " 26  Asymmetrique Profile Index              5022 non-null   object \n",
      " 27  Asymmetrique Activity Score             5022 non-null   float64\n",
      " 28  Asymmetrique Profile Score              5022 non-null   float64\n",
      " 29  A free copy of Mastering The Interview  9240 non-null   object \n",
      " 30  Last Notable Activity                   9240 non-null   object \n",
      "dtypes: float64(4), int64(2), object(25)\n",
      "memory usage: 2.2+ MB\n"
     ]
    }
   ],
   "source": [
    "leads.info()"
   ]
  },
  {
   "cell_type": "markdown",
   "metadata": {
    "id": "uLJj5QWixUNg"
   },
   "source": [
    "\n",
    "## <h2 align=\"left\"> <font color='brown'>Impute/Remove missing values</font></h2>"
   ]
  },
  {
   "cell_type": "code",
   "execution_count": 88,
   "metadata": {
    "id": "wrqLuoTuxZ62"
   },
   "outputs": [],
   "source": [
    "# changing select to Nan\n",
    "leads = leads.replace('Select',np.nan)"
   ]
  },
  {
   "cell_type": "code",
   "execution_count": 89,
   "metadata": {
    "colab": {
     "base_uri": "https://localhost:8080/"
    },
    "id": "o02wufz3xdYX",
    "outputId": "56017b56-ad9c-4fc9-f400-ff917bbc678e"
   },
   "outputs": [
    {
     "data": {
      "text/plain": [
       "Lead Origin                                0.000000\n",
       "Lead Source                                0.389610\n",
       "Do Not Email                               0.000000\n",
       "Do Not Call                                0.000000\n",
       "Converted                                  0.000000\n",
       "TotalVisits                                1.482684\n",
       "Total Time Spent on Website                0.000000\n",
       "Page Views Per Visit                       1.482684\n",
       "Last Activity                              1.114719\n",
       "Country                                   26.634199\n",
       "Specialization                            36.580087\n",
       "HeardFrom                                 78.463203\n",
       "Occupation                                29.112554\n",
       "Moto                                      29.318182\n",
       "Search                                     0.000000\n",
       "Magazine                                   0.000000\n",
       "Newspaper Article                          0.000000\n",
       "X Education Forums                         0.000000\n",
       "Newspaper                                  0.000000\n",
       "Digital Advertisement                      0.000000\n",
       "Through Recommendations                    0.000000\n",
       "GetUpdates                                 0.000000\n",
       "Lead Quality                              51.590909\n",
       "Lead Profile                              74.188312\n",
       "City                                      39.707792\n",
       "Asymmetrique Activity Index               45.649351\n",
       "Asymmetrique Profile Index                45.649351\n",
       "Asymmetrique Activity Score               45.649351\n",
       "Asymmetrique Profile Score                45.649351\n",
       "A free copy of Mastering The Interview     0.000000\n",
       "Last Notable Activity                      0.000000\n",
       "dtype: float64"
      ]
     },
     "execution_count": 89,
     "metadata": {},
     "output_type": "execute_result"
    }
   ],
   "source": [
    "percentage_null_values = (leads.isnull().sum() / leads.shape[0])*100\n",
    "percentage_null_values"
   ]
  },
  {
   "cell_type": "code",
   "execution_count": 90,
   "metadata": {
    "id": "4ONkdTCjx-jS"
   },
   "outputs": [],
   "source": [
    "# Will remove those values having missing values more than 40 percent\n",
    "def drop_cols():\n",
    "  for col in leads.columns:\n",
    "    if((100*(leads[col].isnull().sum()/len(leads.index))) >= 40):\n",
    "      leads.drop(col,1, inplace=True)"
   ]
  },
  {
   "cell_type": "code",
   "execution_count": 91,
   "metadata": {
    "id": "l9pVbtc9yU7z"
   },
   "outputs": [],
   "source": [
    "drop_cols()"
   ]
  },
  {
   "cell_type": "code",
   "execution_count": 92,
   "metadata": {
    "colab": {
     "base_uri": "https://localhost:8080/"
    },
    "id": "ZUVHLz8IzWUS",
    "outputId": "97c41f00-b5fd-4763-83d8-7c9b6b50c1a2"
   },
   "outputs": [
    {
     "data": {
      "text/plain": [
       "Lead Origin                                0.000000\n",
       "Lead Source                                0.389610\n",
       "Do Not Email                               0.000000\n",
       "Do Not Call                                0.000000\n",
       "Converted                                  0.000000\n",
       "TotalVisits                                1.482684\n",
       "Total Time Spent on Website                0.000000\n",
       "Page Views Per Visit                       1.482684\n",
       "Last Activity                              1.114719\n",
       "Country                                   26.634199\n",
       "Specialization                            36.580087\n",
       "Occupation                                29.112554\n",
       "Moto                                      29.318182\n",
       "Search                                     0.000000\n",
       "Magazine                                   0.000000\n",
       "Newspaper Article                          0.000000\n",
       "X Education Forums                         0.000000\n",
       "Newspaper                                  0.000000\n",
       "Digital Advertisement                      0.000000\n",
       "Through Recommendations                    0.000000\n",
       "GetUpdates                                 0.000000\n",
       "City                                      39.707792\n",
       "A free copy of Mastering The Interview     0.000000\n",
       "Last Notable Activity                      0.000000\n",
       "dtype: float64"
      ]
     },
     "execution_count": 92,
     "metadata": {},
     "output_type": "execute_result"
    }
   ],
   "source": [
    "percentage_null_values = (leads.isnull().sum() / leads.shape[0])*100\n",
    "percentage_null_values"
   ]
  },
  {
   "cell_type": "markdown",
   "metadata": {
    "id": "MPaYQeBKCE1g"
   },
   "source": [
    "Further analysis on other missing values\n",
    "#### Country"
   ]
  },
  {
   "cell_type": "code",
   "execution_count": 93,
   "metadata": {
    "colab": {
     "base_uri": "https://localhost:8080/"
    },
    "id": "dRKQHy1ACIwt",
    "outputId": "24537f65-9f4c-4566-8f63-4fbcd4dbeace"
   },
   "outputs": [
    {
     "data": {
      "text/plain": [
       "India                   6492\n",
       "United States             69\n",
       "United Arab Emirates      53\n",
       "Singapore                 24\n",
       "Saudi Arabia              21\n",
       "United Kingdom            15\n",
       "Australia                 13\n",
       "Qatar                     10\n",
       "Hong Kong                  7\n",
       "Bahrain                    7\n",
       "Oman                       6\n",
       "France                     6\n",
       "unknown                    5\n",
       "South Africa               4\n",
       "Nigeria                    4\n",
       "Germany                    4\n",
       "Kuwait                     4\n",
       "Canada                     4\n",
       "Sweden                     3\n",
       "China                      2\n",
       "Asia/Pacific Region        2\n",
       "Uganda                     2\n",
       "Bangladesh                 2\n",
       "Italy                      2\n",
       "Belgium                    2\n",
       "Netherlands                2\n",
       "Ghana                      2\n",
       "Philippines                2\n",
       "Russia                     1\n",
       "Switzerland                1\n",
       "Vietnam                    1\n",
       "Denmark                    1\n",
       "Tanzania                   1\n",
       "Liberia                    1\n",
       "Malaysia                   1\n",
       "Kenya                      1\n",
       "Sri Lanka                  1\n",
       "Indonesia                  1\n",
       "Name: Country, dtype: int64"
      ]
     },
     "execution_count": 93,
     "metadata": {},
     "output_type": "execute_result"
    }
   ],
   "source": [
    "leads.Country.value_counts()\n",
    "# Country is a categorical variable and we can see that mode of India is more. Hence will impute all the missing values to India"
   ]
  },
  {
   "cell_type": "code",
   "execution_count": 94,
   "metadata": {
    "id": "3gWC8S7OCrr5"
   },
   "outputs": [],
   "source": [
    "leads['Country'] = leads.Country.replace(np.nan,'India')\n",
    "# Droping this column because data is highly skewed and pointing to India only. This will disbalance the dataset\n",
    "leads.drop('Country',axis=1,inplace=True)"
   ]
  },
  {
   "cell_type": "markdown",
   "metadata": {
    "id": "uKc0XeTOJghp"
   },
   "source": [
    "#### Specialization"
   ]
  },
  {
   "cell_type": "code",
   "execution_count": 95,
   "metadata": {
    "colab": {
     "base_uri": "https://localhost:8080/"
    },
    "id": "ul1vLWLWJjZK",
    "outputId": "59f172e7-d9ef-4bc9-f14c-470f4f487cfd"
   },
   "outputs": [
    {
     "data": {
      "text/plain": [
       "Finance Management                   976\n",
       "Human Resource Management            848\n",
       "Marketing Management                 838\n",
       "Operations Management                503\n",
       "Business Administration              403\n",
       "IT Projects Management               366\n",
       "Supply Chain Management              349\n",
       "Banking, Investment And Insurance    338\n",
       "Travel and Tourism                   203\n",
       "Media and Advertising                203\n",
       "International Business               178\n",
       "Healthcare Management                159\n",
       "Hospitality Management               114\n",
       "E-COMMERCE                           112\n",
       "Retail Management                    100\n",
       "Rural and Agribusiness                73\n",
       "E-Business                            57\n",
       "Services Excellence                   40\n",
       "Name: Specialization, dtype: int64"
      ]
     },
     "execution_count": 95,
     "metadata": {},
     "output_type": "execute_result"
    }
   ],
   "source": [
    "leads.Specialization.value_counts()"
   ]
  },
  {
   "cell_type": "code",
   "execution_count": 96,
   "metadata": {
    "id": "hHyCezLmeVGV"
   },
   "outputs": [],
   "source": [
    "# Will distribute the null values in other categories of specialization\n",
    "def impute_null_values(column_name,value):\n",
    "  null_value = int(round(leads[column_name].isna().sum() / value))\n",
    "  categories = leads[column_name].unique()\n",
    "  filtered_array = categories[~pd.isna(categories)]\n",
    "  for col_index in range(0,value):\n",
    "    null_indices = leads[leads[column_name].isna()][column_name].index[:null_value]\n",
    "    leads.loc[null_indices,column_name] = filtered_array[col_index]"
   ]
  },
  {
   "cell_type": "code",
   "execution_count": 97,
   "metadata": {
    "id": "HvRjvsvsb2B4"
   },
   "outputs": [],
   "source": [
    "impute_null_values('Specialization',10)"
   ]
  },
  {
   "cell_type": "code",
   "execution_count": 98,
   "metadata": {
    "colab": {
     "base_uri": "https://localhost:8080/"
    },
    "id": "Oja8W-SDbZZP",
    "outputId": "8ae565b9-4f2f-41b1-eeda-d76383c3043a"
   },
   "outputs": [
    {
     "data": {
      "text/plain": [
       "Lead Origin                                0.000000\n",
       "Lead Source                                0.389610\n",
       "Do Not Email                               0.000000\n",
       "Do Not Call                                0.000000\n",
       "Converted                                  0.000000\n",
       "TotalVisits                                1.482684\n",
       "Total Time Spent on Website                0.000000\n",
       "Page Views Per Visit                       1.482684\n",
       "Last Activity                              1.114719\n",
       "Specialization                             0.000000\n",
       "Occupation                                29.112554\n",
       "Moto                                      29.318182\n",
       "Search                                     0.000000\n",
       "Magazine                                   0.000000\n",
       "Newspaper Article                          0.000000\n",
       "X Education Forums                         0.000000\n",
       "Newspaper                                  0.000000\n",
       "Digital Advertisement                      0.000000\n",
       "Through Recommendations                    0.000000\n",
       "GetUpdates                                 0.000000\n",
       "City                                      39.707792\n",
       "A free copy of Mastering The Interview     0.000000\n",
       "Last Notable Activity                      0.000000\n",
       "dtype: float64"
      ]
     },
     "execution_count": 98,
     "metadata": {},
     "output_type": "execute_result"
    }
   ],
   "source": [
    "percentage_null_values = (leads.isnull().sum() / leads.shape[0])*100\n",
    "percentage_null_values"
   ]
  },
  {
   "cell_type": "markdown",
   "metadata": {
    "id": "iNplabv7hGsl"
   },
   "source": [
    "#### Occupation"
   ]
  },
  {
   "cell_type": "code",
   "execution_count": 99,
   "metadata": {
    "colab": {
     "base_uri": "https://localhost:8080/"
    },
    "id": "Y74ugtyWhJCR",
    "outputId": "f2476a5a-e1de-412d-ec9c-7febef4807e6"
   },
   "outputs": [
    {
     "data": {
      "text/plain": [
       "Unemployed              5600\n",
       "Working Professional     706\n",
       "Student                  210\n",
       "Other                     16\n",
       "Housewife                 10\n",
       "Businessman                8\n",
       "Name: Occupation, dtype: int64"
      ]
     },
     "execution_count": 99,
     "metadata": {},
     "output_type": "execute_result"
    }
   ],
   "source": [
    "leads['Occupation'].value_counts()"
   ]
  },
  {
   "cell_type": "code",
   "execution_count": 100,
   "metadata": {
    "colab": {
     "base_uri": "https://localhost:8080/"
    },
    "id": "pl7W9jT5hi8w",
    "outputId": "171d4f27-9643-47b2-a616-d38291469dfb"
   },
   "outputs": [
    {
     "data": {
      "text/plain": [
       "2690"
      ]
     },
     "execution_count": 100,
     "metadata": {},
     "output_type": "execute_result"
    }
   ],
   "source": [
    "leads['Occupation'].isnull().sum()"
   ]
  },
  {
   "cell_type": "code",
   "execution_count": 101,
   "metadata": {
    "id": "RaD4_SMuhqgJ"
   },
   "outputs": [],
   "source": [
    "impute_null_values('Occupation',6)"
   ]
  },
  {
   "cell_type": "code",
   "execution_count": 102,
   "metadata": {
    "id": "Vl23AnZA0fp-"
   },
   "outputs": [],
   "source": [
    "leads.Occupation = leads.Occupation.replace(np.nan,'Unemployed')"
   ]
  },
  {
   "cell_type": "code",
   "execution_count": 103,
   "metadata": {
    "colab": {
     "base_uri": "https://localhost:8080/"
    },
    "id": "aqmsIFngkdjX",
    "outputId": "382571fb-e5db-4e2a-b4d0-39c868e1a9e0"
   },
   "outputs": [
    {
     "data": {
      "text/plain": [
       "Lead Origin                                0.000000\n",
       "Lead Source                                0.389610\n",
       "Do Not Email                               0.000000\n",
       "Do Not Call                                0.000000\n",
       "Converted                                  0.000000\n",
       "TotalVisits                                1.482684\n",
       "Total Time Spent on Website                0.000000\n",
       "Page Views Per Visit                       1.482684\n",
       "Last Activity                              1.114719\n",
       "Specialization                             0.000000\n",
       "Occupation                                 0.000000\n",
       "Moto                                      29.318182\n",
       "Search                                     0.000000\n",
       "Magazine                                   0.000000\n",
       "Newspaper Article                          0.000000\n",
       "X Education Forums                         0.000000\n",
       "Newspaper                                  0.000000\n",
       "Digital Advertisement                      0.000000\n",
       "Through Recommendations                    0.000000\n",
       "GetUpdates                                 0.000000\n",
       "City                                      39.707792\n",
       "A free copy of Mastering The Interview     0.000000\n",
       "Last Notable Activity                      0.000000\n",
       "dtype: float64"
      ]
     },
     "execution_count": 103,
     "metadata": {},
     "output_type": "execute_result"
    }
   ],
   "source": [
    "percentage_null_values = (leads.isnull().sum() / leads.shape[0])*100\n",
    "percentage_null_values"
   ]
  },
  {
   "cell_type": "markdown",
   "metadata": {
    "id": "ch0doksWmMlb"
   },
   "source": [
    "#### Motto"
   ]
  },
  {
   "cell_type": "code",
   "execution_count": 104,
   "metadata": {
    "colab": {
     "base_uri": "https://localhost:8080/"
    },
    "id": "7Jk0zIUrmI6l",
    "outputId": "04353739-b491-4b1b-b469-7fa4a0e9e218"
   },
   "outputs": [
    {
     "data": {
      "text/plain": [
       "Better Career Prospects      6528\n",
       "Flexibility & Convenience       2\n",
       "Other                           1\n",
       "Name: Moto, dtype: int64"
      ]
     },
     "execution_count": 104,
     "metadata": {},
     "output_type": "execute_result"
    }
   ],
   "source": [
    "leads['Moto'].value_counts()"
   ]
  },
  {
   "cell_type": "code",
   "execution_count": 105,
   "metadata": {
    "colab": {
     "base_uri": "https://localhost:8080/"
    },
    "id": "bdBgXdM2mfg7",
    "outputId": "581789cf-073f-4553-ea9f-27a445f0f3a9"
   },
   "outputs": [
    {
     "data": {
      "text/plain": [
       "2709"
      ]
     },
     "execution_count": 105,
     "metadata": {},
     "output_type": "execute_result"
    }
   ],
   "source": [
    "leads['Moto'].isnull().sum()"
   ]
  },
  {
   "cell_type": "code",
   "execution_count": 106,
   "metadata": {
    "id": "N3qYziNymlKc"
   },
   "outputs": [],
   "source": [
    "# this is highly skewed.Hence dropping\n",
    "leads.drop('Moto',axis=1,inplace=True)"
   ]
  },
  {
   "cell_type": "code",
   "execution_count": 107,
   "metadata": {
    "colab": {
     "base_uri": "https://localhost:8080/"
    },
    "id": "WjCQOXZlmwKy",
    "outputId": "2d1be152-9431-43d4-fb3b-5559c61a1df5"
   },
   "outputs": [
    {
     "data": {
      "text/plain": [
       "Lead Origin                                0.000000\n",
       "Lead Source                                0.389610\n",
       "Do Not Email                               0.000000\n",
       "Do Not Call                                0.000000\n",
       "Converted                                  0.000000\n",
       "TotalVisits                                1.482684\n",
       "Total Time Spent on Website                0.000000\n",
       "Page Views Per Visit                       1.482684\n",
       "Last Activity                              1.114719\n",
       "Specialization                             0.000000\n",
       "Occupation                                 0.000000\n",
       "Search                                     0.000000\n",
       "Magazine                                   0.000000\n",
       "Newspaper Article                          0.000000\n",
       "X Education Forums                         0.000000\n",
       "Newspaper                                  0.000000\n",
       "Digital Advertisement                      0.000000\n",
       "Through Recommendations                    0.000000\n",
       "GetUpdates                                 0.000000\n",
       "City                                      39.707792\n",
       "A free copy of Mastering The Interview     0.000000\n",
       "Last Notable Activity                      0.000000\n",
       "dtype: float64"
      ]
     },
     "execution_count": 107,
     "metadata": {},
     "output_type": "execute_result"
    }
   ],
   "source": [
    "percentage_null_values = (leads.isnull().sum() / leads.shape[0])*100\n",
    "percentage_null_values"
   ]
  },
  {
   "cell_type": "markdown",
   "metadata": {
    "id": "o4-uR1Vao5Lz"
   },
   "source": [
    "#### City"
   ]
  },
  {
   "cell_type": "code",
   "execution_count": 108,
   "metadata": {
    "colab": {
     "base_uri": "https://localhost:8080/"
    },
    "id": "5fFZLU4zt4W8",
    "outputId": "6ca74d17-2424-4337-cb2c-a55c21611c0c"
   },
   "outputs": [
    {
     "data": {
      "text/plain": [
       "Mumbai                         3222\n",
       "Thane & Outskirts               752\n",
       "Other Cities                    686\n",
       "Other Cities of Maharashtra     457\n",
       "Other Metro Cities              380\n",
       "Tier II Cities                   74\n",
       "Name: City, dtype: int64"
      ]
     },
     "execution_count": 108,
     "metadata": {},
     "output_type": "execute_result"
    }
   ],
   "source": [
    "leads.City.value_counts()"
   ]
  },
  {
   "cell_type": "code",
   "execution_count": 109,
   "metadata": {
    "colab": {
     "base_uri": "https://localhost:8080/"
    },
    "id": "rbli71Vqt75l",
    "outputId": "3f1301fc-f48e-4cbc-c77d-453ca05afd05"
   },
   "outputs": [
    {
     "data": {
      "text/plain": [
       "3669"
      ]
     },
     "execution_count": 109,
     "metadata": {},
     "output_type": "execute_result"
    }
   ],
   "source": [
    "leads.City.isnull().sum()"
   ]
  },
  {
   "cell_type": "code",
   "execution_count": 110,
   "metadata": {
    "id": "QbfeX_V1uJHs"
   },
   "outputs": [],
   "source": [
    "# Skewness to Mumbai, hence can be dropped\n",
    "leads.drop('City',axis=1,inplace=True)"
   ]
  },
  {
   "cell_type": "code",
   "execution_count": 111,
   "metadata": {
    "colab": {
     "base_uri": "https://localhost:8080/"
    },
    "id": "zCaDcOqLuYZr",
    "outputId": "f5bddd28-959d-4d19-94af-f4fb3b309392"
   },
   "outputs": [
    {
     "data": {
      "text/plain": [
       "Lead Origin                               0.000000\n",
       "Lead Source                               0.389610\n",
       "Do Not Email                              0.000000\n",
       "Do Not Call                               0.000000\n",
       "Converted                                 0.000000\n",
       "TotalVisits                               1.482684\n",
       "Total Time Spent on Website               0.000000\n",
       "Page Views Per Visit                      1.482684\n",
       "Last Activity                             1.114719\n",
       "Specialization                            0.000000\n",
       "Occupation                                0.000000\n",
       "Search                                    0.000000\n",
       "Magazine                                  0.000000\n",
       "Newspaper Article                         0.000000\n",
       "X Education Forums                        0.000000\n",
       "Newspaper                                 0.000000\n",
       "Digital Advertisement                     0.000000\n",
       "Through Recommendations                   0.000000\n",
       "GetUpdates                                0.000000\n",
       "A free copy of Mastering The Interview    0.000000\n",
       "Last Notable Activity                     0.000000\n",
       "dtype: float64"
      ]
     },
     "execution_count": 111,
     "metadata": {},
     "output_type": "execute_result"
    }
   ],
   "source": [
    "percentage_null_values = (leads.isnull().sum() / leads.shape[0])*100\n",
    "percentage_null_values"
   ]
  },
  {
   "cell_type": "markdown",
   "metadata": {
    "id": "TDSKLXVrunAk"
   },
   "source": [
    "#### Lead Source"
   ]
  },
  {
   "cell_type": "code",
   "execution_count": 112,
   "metadata": {
    "colab": {
     "base_uri": "https://localhost:8080/"
    },
    "id": "wEHlqHr3udtp",
    "outputId": "b5c35c18-381e-4489-9b10-c89ff7a17015"
   },
   "outputs": [
    {
     "data": {
      "text/plain": [
       "Google               2868\n",
       "Direct Traffic       2543\n",
       "Olark Chat           1755\n",
       "Organic Search       1154\n",
       "Reference             534\n",
       "Welingak Website      142\n",
       "Referral Sites        125\n",
       "Facebook               55\n",
       "bing                    6\n",
       "google                  5\n",
       "Click2call              4\n",
       "Press_Release           2\n",
       "Social Media            2\n",
       "Live Chat               2\n",
       "youtubechannel          1\n",
       "testone                 1\n",
       "Pay per Click Ads       1\n",
       "welearnblog_Home        1\n",
       "WeLearn                 1\n",
       "blog                    1\n",
       "NC_EDM                  1\n",
       "Name: Lead Source, dtype: int64"
      ]
     },
     "execution_count": 112,
     "metadata": {},
     "output_type": "execute_result"
    }
   ],
   "source": [
    "leads['Lead Source'].value_counts()"
   ]
  },
  {
   "cell_type": "code",
   "execution_count": 113,
   "metadata": {
    "colab": {
     "base_uri": "https://localhost:8080/"
    },
    "id": "bTyz1Kb6ulQ9",
    "outputId": "ffe4169e-260e-4e8a-9a22-987ba63a759e"
   },
   "outputs": [
    {
     "data": {
      "text/plain": [
       "36"
      ]
     },
     "execution_count": 113,
     "metadata": {},
     "output_type": "execute_result"
    }
   ],
   "source": [
    "leads['Lead Source'].isnull().sum()"
   ]
  },
  {
   "cell_type": "code",
   "execution_count": 114,
   "metadata": {
    "id": "Klcevo79uvrH"
   },
   "outputs": [],
   "source": [
    "impute_null_values('Lead Source',6)"
   ]
  },
  {
   "cell_type": "markdown",
   "metadata": {
    "id": "f-iimieywHew"
   },
   "source": [
    "#### Last Activity"
   ]
  },
  {
   "cell_type": "code",
   "execution_count": 115,
   "metadata": {
    "colab": {
     "base_uri": "https://localhost:8080/"
    },
    "id": "pE5cFrw6u5m9",
    "outputId": "fbd32437-7a92-4682-c0e7-87e21463557d"
   },
   "outputs": [
    {
     "data": {
      "text/plain": [
       "Email Opened                    3437\n",
       "SMS Sent                        2745\n",
       "Olark Chat Conversation          973\n",
       "Page Visited on Website          640\n",
       "Converted to Lead                428\n",
       "Email Bounced                    326\n",
       "Email Link Clicked               267\n",
       "Form Submitted on Website        116\n",
       "Unreachable                       93\n",
       "Unsubscribed                      61\n",
       "Had a Phone Conversation          30\n",
       "Approached upfront                 9\n",
       "View in browser link Clicked       6\n",
       "Email Received                     2\n",
       "Email Marked Spam                  2\n",
       "Visited Booth in Tradeshow         1\n",
       "Resubscribed to emails             1\n",
       "Name: Last Activity, dtype: int64"
      ]
     },
     "execution_count": 115,
     "metadata": {},
     "output_type": "execute_result"
    }
   ],
   "source": [
    "leads['Last Activity'].value_counts()\n"
   ]
  },
  {
   "cell_type": "code",
   "execution_count": 116,
   "metadata": {
    "colab": {
     "base_uri": "https://localhost:8080/"
    },
    "id": "c-lIVfkDwMNg",
    "outputId": "d7c3b1f2-e9fe-4649-e764-52eede7d1cd8"
   },
   "outputs": [
    {
     "data": {
      "text/plain": [
       "103"
      ]
     },
     "execution_count": 116,
     "metadata": {},
     "output_type": "execute_result"
    }
   ],
   "source": [
    "leads['Last Activity'].isnull().sum()"
   ]
  },
  {
   "cell_type": "code",
   "execution_count": 117,
   "metadata": {
    "id": "ZiBLMQaLwYKz"
   },
   "outputs": [],
   "source": [
    "impute_null_values('Last Activity',2)"
   ]
  },
  {
   "cell_type": "markdown",
   "metadata": {},
   "source": [
    "#### TotalVisits"
   ]
  },
  {
   "cell_type": "code",
   "execution_count": 124,
   "metadata": {},
   "outputs": [
    {
     "data": {
      "text/plain": [
       "0.0    2189\n",
       "2.0    1680\n",
       "3.0    1306\n",
       "4.0    1120\n",
       "5.0     783\n",
       "6.0     466\n",
       "1.0     395\n",
       "7.0     309\n",
       "8.0     224\n",
       "9.0     164\n",
       "Name: TotalVisits, dtype: int64"
      ]
     },
     "execution_count": 124,
     "metadata": {},
     "output_type": "execute_result"
    }
   ],
   "source": [
    "leads.TotalVisits.value_counts().head(10)"
   ]
  },
  {
   "cell_type": "code",
   "execution_count": 126,
   "metadata": {},
   "outputs": [
    {
     "data": {
      "text/plain": [
       "0"
      ]
     },
     "execution_count": 126,
     "metadata": {},
     "output_type": "execute_result"
    }
   ],
   "source": [
    "leads.TotalVisits.isnull().sum()"
   ]
  },
  {
   "cell_type": "code",
   "execution_count": 127,
   "metadata": {},
   "outputs": [
    {
     "ename": "NameError",
     "evalue": "name 'TotalVisits' is not defined",
     "output_type": "error",
     "traceback": [
      "\u001b[0;31m---------------------------------------------------------------------------\u001b[0m",
      "\u001b[0;31mNameError\u001b[0m                                 Traceback (most recent call last)",
      "Cell \u001b[0;32mIn[127], line 1\u001b[0m\n\u001b[0;32m----> 1\u001b[0m leads\u001b[38;5;241m.\u001b[39mTotalVisits\u001b[38;5;241m.\u001b[39mreplace(np\u001b[38;5;241m.\u001b[39mnan,TotalVisits\u001b[38;5;241m.\u001b[39mmode())\n",
      "\u001b[0;31mNameError\u001b[0m: name 'TotalVisits' is not defined"
     ]
    }
   ],
   "source": [
    "leads['TotalVisits'] = leads.TotalVisits.replace(np.nan,TotalVisits.mode())"
   ]
  },
  {
   "cell_type": "markdown",
   "metadata": {
    "id": "mSRqGVYFvPEG"
   },
   "source": [
    "#### Page Views Per Visit"
   ]
  },
  {
   "cell_type": "code",
   "execution_count": 131,
   "metadata": {
    "colab": {
     "base_uri": "https://localhost:8080/",
     "height": 300
    },
    "id": "Msd-iYWOvbML",
    "outputId": "5321ffdc-4553-4675-da4b-85c66982e59f"
   },
   "outputs": [
    {
     "data": {
      "text/html": [
       "<div>\n",
       "<style scoped>\n",
       "    .dataframe tbody tr th:only-of-type {\n",
       "        vertical-align: middle;\n",
       "    }\n",
       "\n",
       "    .dataframe tbody tr th {\n",
       "        vertical-align: top;\n",
       "    }\n",
       "\n",
       "    .dataframe thead th {\n",
       "        text-align: right;\n",
       "    }\n",
       "</style>\n",
       "<table border=\"1\" class=\"dataframe\">\n",
       "  <thead>\n",
       "    <tr style=\"text-align: right;\">\n",
       "      <th></th>\n",
       "      <th>Page Views Per Visit</th>\n",
       "    </tr>\n",
       "  </thead>\n",
       "  <tbody>\n",
       "    <tr>\n",
       "      <th>0</th>\n",
       "      <td>0.0</td>\n",
       "    </tr>\n",
       "    <tr>\n",
       "      <th>1</th>\n",
       "      <td>2.5</td>\n",
       "    </tr>\n",
       "    <tr>\n",
       "      <th>2</th>\n",
       "      <td>2.0</td>\n",
       "    </tr>\n",
       "    <tr>\n",
       "      <th>3</th>\n",
       "      <td>1.0</td>\n",
       "    </tr>\n",
       "    <tr>\n",
       "      <th>4</th>\n",
       "      <td>1.0</td>\n",
       "    </tr>\n",
       "  </tbody>\n",
       "</table>\n",
       "</div>"
      ],
      "text/plain": [
       "   Page Views Per Visit\n",
       "0                   0.0\n",
       "1                   2.5\n",
       "2                   2.0\n",
       "3                   1.0\n",
       "4                   1.0"
      ]
     },
     "execution_count": 131,
     "metadata": {},
     "output_type": "execute_result"
    }
   ],
   "source": [
    "leads[['Page Views Per Visit']].head()"
   ]
  },
  {
   "cell_type": "code",
   "execution_count": 132,
   "metadata": {
    "colab": {
     "base_uri": "https://localhost:8080/"
    },
    "id": "MdlWN5drvro0",
    "outputId": "06e61a50-fc14-4940-a753-6b4237a57a58"
   },
   "outputs": [
    {
     "data": {
      "text/plain": [
       "Page Views Per Visit    0\n",
       "dtype: int64"
      ]
     },
     "execution_count": 132,
     "metadata": {},
     "output_type": "execute_result"
    }
   ],
   "source": [
    "leads[['Page Views Per Visit']].isnull().sum()"
   ]
  },
  {
   "cell_type": "code",
   "execution_count": 133,
   "metadata": {
    "id": "AcTzp-5cyGb-"
   },
   "outputs": [
    {
     "ename": "ValueError",
     "evalue": "Series.replace cannot use dict-value and non-None to_replace",
     "output_type": "error",
     "traceback": [
      "\u001b[0;31m---------------------------------------------------------------------------\u001b[0m",
      "\u001b[0;31mValueError\u001b[0m                                Traceback (most recent call last)",
      "Cell \u001b[0;32mIn[133], line 1\u001b[0m\n\u001b[0;32m----> 1\u001b[0m leads[\u001b[38;5;124m'\u001b[39m\u001b[38;5;124mPage Views Per Visit\u001b[39m\u001b[38;5;124m'\u001b[39m] \u001b[38;5;241m=\u001b[39m leads[\u001b[38;5;124m'\u001b[39m\u001b[38;5;124mPage Views Per Visit\u001b[39m\u001b[38;5;124m'\u001b[39m]\u001b[38;5;241m.\u001b[39mreplace(np\u001b[38;5;241m.\u001b[39mnan,leads[\u001b[38;5;124m'\u001b[39m\u001b[38;5;124mPage Views Per Visit\u001b[39m\u001b[38;5;124m'\u001b[39m]\u001b[38;5;241m.\u001b[39mmode())\n",
      "File \u001b[0;32m~/anaconda3/lib/python3.11/site-packages/pandas/util/_decorators.py:331\u001b[0m, in \u001b[0;36mdeprecate_nonkeyword_arguments.<locals>.decorate.<locals>.wrapper\u001b[0;34m(*args, **kwargs)\u001b[0m\n\u001b[1;32m    325\u001b[0m \u001b[38;5;28;01mif\u001b[39;00m \u001b[38;5;28mlen\u001b[39m(args) \u001b[38;5;241m>\u001b[39m num_allow_args:\n\u001b[1;32m    326\u001b[0m     warnings\u001b[38;5;241m.\u001b[39mwarn(\n\u001b[1;32m    327\u001b[0m         msg\u001b[38;5;241m.\u001b[39mformat(arguments\u001b[38;5;241m=\u001b[39m_format_argument_list(allow_args)),\n\u001b[1;32m    328\u001b[0m         \u001b[38;5;167;01mFutureWarning\u001b[39;00m,\n\u001b[1;32m    329\u001b[0m         stacklevel\u001b[38;5;241m=\u001b[39mfind_stack_level(),\n\u001b[1;32m    330\u001b[0m     )\n\u001b[0;32m--> 331\u001b[0m \u001b[38;5;28;01mreturn\u001b[39;00m func(\u001b[38;5;241m*\u001b[39margs, \u001b[38;5;241m*\u001b[39m\u001b[38;5;241m*\u001b[39mkwargs)\n",
      "File \u001b[0;32m~/anaconda3/lib/python3.11/site-packages/pandas/core/series.py:5380\u001b[0m, in \u001b[0;36mSeries.replace\u001b[0;34m(self, to_replace, value, inplace, limit, regex, method)\u001b[0m\n\u001b[1;32m   5362\u001b[0m \u001b[38;5;129m@deprecate_nonkeyword_arguments\u001b[39m(\n\u001b[1;32m   5363\u001b[0m     version\u001b[38;5;241m=\u001b[39m\u001b[38;5;28;01mNone\u001b[39;00m, allowed_args\u001b[38;5;241m=\u001b[39m[\u001b[38;5;124m\"\u001b[39m\u001b[38;5;124mself\u001b[39m\u001b[38;5;124m\"\u001b[39m, \u001b[38;5;124m\"\u001b[39m\u001b[38;5;124mto_replace\u001b[39m\u001b[38;5;124m\"\u001b[39m, \u001b[38;5;124m\"\u001b[39m\u001b[38;5;124mvalue\u001b[39m\u001b[38;5;124m\"\u001b[39m]\n\u001b[1;32m   5364\u001b[0m )\n\u001b[0;32m   (...)\u001b[0m\n\u001b[1;32m   5378\u001b[0m     method: Literal[\u001b[38;5;124m\"\u001b[39m\u001b[38;5;124mpad\u001b[39m\u001b[38;5;124m\"\u001b[39m, \u001b[38;5;124m\"\u001b[39m\u001b[38;5;124mffill\u001b[39m\u001b[38;5;124m\"\u001b[39m, \u001b[38;5;124m\"\u001b[39m\u001b[38;5;124mbfill\u001b[39m\u001b[38;5;124m\"\u001b[39m] \u001b[38;5;241m|\u001b[39m lib\u001b[38;5;241m.\u001b[39mNoDefault \u001b[38;5;241m=\u001b[39m lib\u001b[38;5;241m.\u001b[39mno_default,\n\u001b[1;32m   5379\u001b[0m ) \u001b[38;5;241m-\u001b[39m\u001b[38;5;241m>\u001b[39m Series \u001b[38;5;241m|\u001b[39m \u001b[38;5;28;01mNone\u001b[39;00m:\n\u001b[0;32m-> 5380\u001b[0m     \u001b[38;5;28;01mreturn\u001b[39;00m \u001b[38;5;28msuper\u001b[39m()\u001b[38;5;241m.\u001b[39mreplace(\n\u001b[1;32m   5381\u001b[0m         to_replace\u001b[38;5;241m=\u001b[39mto_replace,\n\u001b[1;32m   5382\u001b[0m         value\u001b[38;5;241m=\u001b[39mvalue,\n\u001b[1;32m   5383\u001b[0m         inplace\u001b[38;5;241m=\u001b[39minplace,\n\u001b[1;32m   5384\u001b[0m         limit\u001b[38;5;241m=\u001b[39mlimit,\n\u001b[1;32m   5385\u001b[0m         regex\u001b[38;5;241m=\u001b[39mregex,\n\u001b[1;32m   5386\u001b[0m         method\u001b[38;5;241m=\u001b[39mmethod,\n\u001b[1;32m   5387\u001b[0m     )\n",
      "File \u001b[0;32m~/anaconda3/lib/python3.11/site-packages/pandas/util/_decorators.py:331\u001b[0m, in \u001b[0;36mdeprecate_nonkeyword_arguments.<locals>.decorate.<locals>.wrapper\u001b[0;34m(*args, **kwargs)\u001b[0m\n\u001b[1;32m    325\u001b[0m \u001b[38;5;28;01mif\u001b[39;00m \u001b[38;5;28mlen\u001b[39m(args) \u001b[38;5;241m>\u001b[39m num_allow_args:\n\u001b[1;32m    326\u001b[0m     warnings\u001b[38;5;241m.\u001b[39mwarn(\n\u001b[1;32m    327\u001b[0m         msg\u001b[38;5;241m.\u001b[39mformat(arguments\u001b[38;5;241m=\u001b[39m_format_argument_list(allow_args)),\n\u001b[1;32m    328\u001b[0m         \u001b[38;5;167;01mFutureWarning\u001b[39;00m,\n\u001b[1;32m    329\u001b[0m         stacklevel\u001b[38;5;241m=\u001b[39mfind_stack_level(),\n\u001b[1;32m    330\u001b[0m     )\n\u001b[0;32m--> 331\u001b[0m \u001b[38;5;28;01mreturn\u001b[39;00m func(\u001b[38;5;241m*\u001b[39margs, \u001b[38;5;241m*\u001b[39m\u001b[38;5;241m*\u001b[39mkwargs)\n",
      "File \u001b[0;32m~/anaconda3/lib/python3.11/site-packages/pandas/core/generic.py:7264\u001b[0m, in \u001b[0;36mNDFrame.replace\u001b[0;34m(self, to_replace, value, inplace, limit, regex, method)\u001b[0m\n\u001b[1;32m   7261\u001b[0m \u001b[38;5;28;01mif\u001b[39;00m is_dict_like(value):  \u001b[38;5;66;03m# NA -> {'A' : 0, 'B' : -1}\u001b[39;00m\n\u001b[1;32m   7262\u001b[0m     \u001b[38;5;66;03m# Operate column-wise\u001b[39;00m\n\u001b[1;32m   7263\u001b[0m     \u001b[38;5;28;01mif\u001b[39;00m \u001b[38;5;28mself\u001b[39m\u001b[38;5;241m.\u001b[39mndim \u001b[38;5;241m==\u001b[39m \u001b[38;5;241m1\u001b[39m:\n\u001b[0;32m-> 7264\u001b[0m         \u001b[38;5;28;01mraise\u001b[39;00m \u001b[38;5;167;01mValueError\u001b[39;00m(\n\u001b[1;32m   7265\u001b[0m             \u001b[38;5;124m\"\u001b[39m\u001b[38;5;124mSeries.replace cannot use dict-value and \u001b[39m\u001b[38;5;124m\"\u001b[39m\n\u001b[1;32m   7266\u001b[0m             \u001b[38;5;124m\"\u001b[39m\u001b[38;5;124mnon-None to_replace\u001b[39m\u001b[38;5;124m\"\u001b[39m\n\u001b[1;32m   7267\u001b[0m         )\n\u001b[1;32m   7268\u001b[0m     mapping \u001b[38;5;241m=\u001b[39m {col: (to_replace, val) \u001b[38;5;28;01mfor\u001b[39;00m col, val \u001b[38;5;129;01min\u001b[39;00m value\u001b[38;5;241m.\u001b[39mitems()}\n\u001b[1;32m   7269\u001b[0m     \u001b[38;5;28;01mreturn\u001b[39;00m \u001b[38;5;28mself\u001b[39m\u001b[38;5;241m.\u001b[39m_replace_columnwise(mapping, inplace, regex)\n",
      "\u001b[0;31mValueError\u001b[0m: Series.replace cannot use dict-value and non-None to_replace"
     ]
    }
   ],
   "source": [
    "leads['Page Views Per Visit'] = leads['Page Views Per Visit'].replace(np.nan,leads['Page Views Per Visit'].mode())"
   ]
  },
  {
   "cell_type": "code",
   "execution_count": 122,
   "metadata": {
    "colab": {
     "base_uri": "https://localhost:8080/"
    },
    "id": "q_P0mDNjySS6",
    "outputId": "c208bf83-9110-4f9e-83d0-a0fcb184988d"
   },
   "outputs": [
    {
     "data": {
      "text/plain": [
       "Lead Origin                               0.0\n",
       "Lead Source                               0.0\n",
       "Do Not Email                              0.0\n",
       "Do Not Call                               0.0\n",
       "Converted                                 0.0\n",
       "TotalVisits                               0.0\n",
       "Total Time Spent on Website               0.0\n",
       "Page Views Per Visit                      0.0\n",
       "Last Activity                             0.0\n",
       "Specialization                            0.0\n",
       "Occupation                                0.0\n",
       "Search                                    0.0\n",
       "Magazine                                  0.0\n",
       "Newspaper Article                         0.0\n",
       "X Education Forums                        0.0\n",
       "Newspaper                                 0.0\n",
       "Digital Advertisement                     0.0\n",
       "Through Recommendations                   0.0\n",
       "GetUpdates                                0.0\n",
       "A free copy of Mastering The Interview    0.0\n",
       "Last Notable Activity                     0.0\n",
       "dtype: float64"
      ]
     },
     "execution_count": 122,
     "metadata": {},
     "output_type": "execute_result"
    }
   ],
   "source": [
    "percentage_null_values = (leads.isnull().sum() / leads.shape[0])*100\n",
    "percentage_null_values"
   ]
  },
  {
   "cell_type": "markdown",
   "metadata": {
    "id": "186ZsIAAzh6A"
   },
   "source": [
    "# <h2 align=\"left\"> <font color='brown'>Data Visualization</font></h2>"
   ]
  },
  {
   "cell_type": "markdown",
   "metadata": {
    "id": "J94J0Cnw3TWC"
   },
   "source": [
    "#### Numeric Variable"
   ]
  },
  {
   "cell_type": "code",
   "execution_count": 134,
   "metadata": {
    "colab": {
     "base_uri": "https://localhost:8080/",
     "height": 652
    },
    "id": "aTPLfkVszpqq",
    "outputId": "11af30dc-d09e-4292-e522-f09ce8a43ffb"
   },
   "outputs": [
    {
     "data": {
      "image/png": "[encoded data removed]",
      "text/plain": [
       "<Figure size 800x550 with 2 Axes>"
      ]
     },
     "metadata": {},
     "output_type": "display_data"
    }
   ],
   "source": [
    "# Numerical Variables\n",
    "num_category = ['Converted','TotalVisits','Total Time Spent on Website','Page Views Per Visit']\n",
    "\n",
    "sns.heatmap(leads[num_category].corr(), cmap=\"RdYlGn\", annot=True)\n",
    "plt.show()"
   ]
  },
  {
   "cell_type": "code",
   "execution_count": 135,
   "metadata": {
    "colab": {
     "base_uri": "https://localhost:8080/",
     "height": 460
    },
    "id": "-UKWcdAE3017",
    "outputId": "135a94b7-f33b-41df-8ce4-6d2830804921"
   },
   "outputs": [
    {
     "data": {
      "image/png": "[encoded data removed]",
      "text/plain": [
       "<Figure size 800x550 with 1 Axes>"
      ]
     },
     "metadata": {},
     "output_type": "display_data"
    }
   ],
   "source": [
    "# Target\n",
    "target = round(leads.Converted.value_counts(normalize=True)*100,2)\n",
    "x = ['Not Converted','Converted']\n",
    "target.plot.pie(labels=x,autopct='%1.1f%%',\n",
    "                textprops={'fontsize': 16, 'fontweight' : 20, 'color' : 'Black'}, startangle=90)\n",
    "plt.show()"
   ]
  },
  {
   "cell_type": "code",
   "execution_count": 136,
   "metadata": {
    "colab": {
     "base_uri": "https://localhost:8080/",
     "height": 431
    },
    "id": "J-7PCjJnZ4bZ",
    "outputId": "5cb2e79a-8bc2-4a56-e9ca-fe054e686d40"
   },
   "outputs": [
    {
     "data": {
      "image/png": "[encoded data removed]",
      "text/plain": [
       "<Figure size 2200x1000 with 3 Axes>"
      ]
     },
     "metadata": {},
     "output_type": "display_data"
    }
   ],
   "source": [
    "# Box plot\n",
    "plt.figure(figsize=(22,10))\n",
    "plt.subplot(2,4,1)\n",
    "plt.title('TotalVisits')\n",
    "sns.boxplot(leads.TotalVisits)\n",
    "plt.subplot(2,4,2)\n",
    "plt.title('Total Time Spent on Website')\n",
    "sns.boxplot(leads['Total Time Spent on Website'])\n",
    "plt.subplot(2,4,3)\n",
    "plt.title('Page Views Per Visit')\n",
    "sns.boxplot(leads['Page Views Per Visit'])\n",
    "plt.show()"
   ]
  },
  {
   "cell_type": "code",
   "execution_count": 137,
   "metadata": {
    "colab": {
     "base_uri": "https://localhost:8080/",
     "height": 426
    },
    "id": "b43cWHH3bRUE",
    "outputId": "4cd57d0b-7e26-4a06-efdf-24521e6e9720"
   },
   "outputs": [
    {
     "data": {
      "text/html": [
       "<div>\n",
       "<style scoped>\n",
       "    .dataframe tbody tr th:only-of-type {\n",
       "        vertical-align: middle;\n",
       "    }\n",
       "\n",
       "    .dataframe tbody tr th {\n",
       "        vertical-align: top;\n",
       "    }\n",
       "\n",
       "    .dataframe thead th {\n",
       "        text-align: right;\n",
       "    }\n",
       "</style>\n",
       "<table border=\"1\" class=\"dataframe\">\n",
       "  <thead>\n",
       "    <tr style=\"text-align: right;\">\n",
       "      <th></th>\n",
       "      <th>TotalVisits</th>\n",
       "      <th>Page Views Per Visit</th>\n",
       "    </tr>\n",
       "  </thead>\n",
       "  <tbody>\n",
       "    <tr>\n",
       "      <th>count</th>\n",
       "      <td>9240.000000</td>\n",
       "      <td>9240.000000</td>\n",
       "    </tr>\n",
       "    <tr>\n",
       "      <th>mean</th>\n",
       "      <td>3.445238</td>\n",
       "      <td>2.362820</td>\n",
       "    </tr>\n",
       "    <tr>\n",
       "      <th>std</th>\n",
       "      <td>4.818723</td>\n",
       "      <td>2.145333</td>\n",
       "    </tr>\n",
       "    <tr>\n",
       "      <th>min</th>\n",
       "      <td>0.000000</td>\n",
       "      <td>0.000000</td>\n",
       "    </tr>\n",
       "    <tr>\n",
       "      <th>5%</th>\n",
       "      <td>0.000000</td>\n",
       "      <td>0.000000</td>\n",
       "    </tr>\n",
       "    <tr>\n",
       "      <th>25%</th>\n",
       "      <td>1.000000</td>\n",
       "      <td>1.000000</td>\n",
       "    </tr>\n",
       "    <tr>\n",
       "      <th>50%</th>\n",
       "      <td>3.000000</td>\n",
       "      <td>2.000000</td>\n",
       "    </tr>\n",
       "    <tr>\n",
       "      <th>75%</th>\n",
       "      <td>5.000000</td>\n",
       "      <td>3.000000</td>\n",
       "    </tr>\n",
       "    <tr>\n",
       "      <th>90%</th>\n",
       "      <td>7.000000</td>\n",
       "      <td>5.000000</td>\n",
       "    </tr>\n",
       "    <tr>\n",
       "      <th>95%</th>\n",
       "      <td>10.000000</td>\n",
       "      <td>6.000000</td>\n",
       "    </tr>\n",
       "    <tr>\n",
       "      <th>99%</th>\n",
       "      <td>17.000000</td>\n",
       "      <td>9.000000</td>\n",
       "    </tr>\n",
       "    <tr>\n",
       "      <th>max</th>\n",
       "      <td>251.000000</td>\n",
       "      <td>55.000000</td>\n",
       "    </tr>\n",
       "  </tbody>\n",
       "</table>\n",
       "</div>"
      ],
      "text/plain": [
       "       TotalVisits  Page Views Per Visit\n",
       "count  9240.000000           9240.000000\n",
       "mean      3.445238              2.362820\n",
       "std       4.818723              2.145333\n",
       "min       0.000000              0.000000\n",
       "5%        0.000000              0.000000\n",
       "25%       1.000000              1.000000\n",
       "50%       3.000000              2.000000\n",
       "75%       5.000000              3.000000\n",
       "90%       7.000000              5.000000\n",
       "95%      10.000000              6.000000\n",
       "99%      17.000000              9.000000\n",
       "max     251.000000             55.000000"
      ]
     },
     "execution_count": 137,
     "metadata": {},
     "output_type": "execute_result"
    }
   ],
   "source": [
    "# TotalVisits and Page Views Per Visit has outliers\n",
    "leads[['TotalVisits','Page Views Per Visit']].describe(percentiles=[0.05,.25, .5, .75, .90, .95, .99])"
   ]
  },
  {
   "cell_type": "code",
   "execution_count": 138,
   "metadata": {
    "id": "29Fbyp5Hex4x"
   },
   "outputs": [],
   "source": [
    "# Correcting outliers from medians\n",
    "def replace_outliers_with_median(column,value):\n",
    "  indices = leads[leads[column] > value].TotalVisits.index\n",
    "  leads.loc[indices,column] = leads[column].median()\n",
    "\n"
   ]
  },
  {
   "cell_type": "code",
   "execution_count": 139,
   "metadata": {
    "id": "3tG_-5ajjUBY"
   },
   "outputs": [],
   "source": [
    "replace_outliers_with_median('Page Views Per Visit',9)\n",
    "replace_outliers_with_median('TotalVisits',9)"
   ]
  },
  {
   "cell_type": "code",
   "execution_count": 140,
   "metadata": {
    "colab": {
     "base_uri": "https://localhost:8080/",
     "height": 431
    },
    "id": "9p25oL0Mj8kS",
    "outputId": "d2923af9-d042-43b2-ba2a-abbdbbf47bbe"
   },
   "outputs": [
    {
     "data": {
      "image/png": "[encoded data removed]",
      "text/plain": [
       "<Figure size 2200x1000 with 2 Axes>"
      ]
     },
     "metadata": {},
     "output_type": "display_data"
    }
   ],
   "source": [
    "# Box Plots after outlier treatment\n",
    "plt.figure(figsize=(22,10))\n",
    "plt.subplot(2,4,1)\n",
    "plt.title('TotalVisits')\n",
    "sns.boxplot(leads.TotalVisits)\n",
    "plt.subplot(2,4,2)\n",
    "plt.title('Page Views Per Visit')\n",
    "sns.boxplot(leads['Page Views Per Visit'])\n",
    "plt.show()"
   ]
  },
  {
   "cell_type": "markdown",
   "metadata": {
    "id": "oMKsB_ynEKY5"
   },
   "source": [
    "#### Categorical Data"
   ]
  },
  {
   "cell_type": "code",
   "execution_count": 141,
   "metadata": {
    "id": "dYiZ14Ms8uok"
   },
   "outputs": [],
   "source": [
    "# User defined function Used for visualisation\n",
    "\n",
    "#Sub Plot\n",
    "\n",
    "def subplot(features):\n",
    "    for i in range(0,len(features)):\n",
    "        #print(features[i])\n",
    "        plt.subplot(2, 2,i+1)\n",
    "        chart = (sns.countplot(x=leads[features[i]],hue=leads.Converted))\n",
    "\n",
    "        chart.set_xticklabels(chart.get_xticklabels(), rotation=90)\n",
    "\n",
    "         # Adding and formatting title\n",
    "         #plt.title(features[i], fontdict={'fontsize': 20, 'fontweight' : 20, 'color' : 'Black'})\n",
    "\n",
    "        # Labeling Axes\n",
    "        plt.xlabel(features[i], fontdict={'fontsize': 12, 'fontweight' : 20, 'color' : 'Brown'})\n",
    "        plt.ylabel(\"Count\", fontdict={'fontsize': 12, 'fontweight' : 20, 'color' : 'Brown'})\n",
    "        plt.show()\n",
    "\n",
    "\n",
    "#Count Plot\n",
    "\n",
    "def count_plot(feature_name,hue,plot_title,x_lablel,y_lablel):\n",
    "    chart = (sns.countplot(x=leads[feature_name],hue=hue))\n",
    "    chart.set_xticklabels(chart.get_xticklabels(), rotation=90)\n",
    "\n",
    "    # Adding and formatting title\n",
    "    plt.title(plot_title, fontdict={'fontsize': 10, 'fontweight' : 10, 'color' : 'Black'})\n",
    "\n",
    "    # Labeling Axes\n",
    "    plt.xlabel(x_lablel, fontdict={'fontsize': 8, 'fontweight' : 8, 'color' : 'Brown'})\n",
    "    plt.ylabel(y_lablel, fontdict={'fontsize': 8, 'fontweight' : 8, 'color' : 'Brown'})\n",
    "    plt.show()"
   ]
  },
  {
   "cell_type": "code",
   "execution_count": 142,
   "metadata": {
    "colab": {
     "base_uri": "https://localhost:8080/",
     "height": 1000
    },
    "id": "c3HjLLm1HJBW",
    "outputId": "0470ae2b-37ad-476d-86c2-ca0ae9291ce4"
   },
   "outputs": [
    {
     "data": {
      "image/png": "[encoded data removed]",
      "text/plain": [
       "<Figure size 800x550 with 1 Axes>"
      ]
     },
     "metadata": {},
     "output_type": "display_data"
    },
    {
     "data": {
      "image/png": "[encoded data removed]",
      "text/plain": [
       "<Figure size 800x550 with 1 Axes>"
      ]
     },
     "metadata": {},
     "output_type": "display_data"
    },
    {
     "data": {
      "image/png": "[encoded data removed]",
      "text/plain": [
       "<Figure size 800x550 with 1 Axes>"
      ]
     },
     "metadata": {},
     "output_type": "display_data"
    },
    {
     "data": {
      "image/png": "[encoded data removed]",
      "text/plain": [
       "<Figure size 800x550 with 1 Axes>"
      ]
     },
     "metadata": {},
     "output_type": "display_data"
    }
   ],
   "source": [
    "features = ['Lead Source','Lead Origin','Do Not Email','Do Not Call']\n",
    "subplot(features)\n",
    "\n",
    "# Data is highly skwed for Do Not call, Mostly all the data is pointing to No, hence will not make sense evaluating this feature\n",
    "leads.drop('Do Not Call',axis=1,inplace=True)"
   ]
  },
  {
   "cell_type": "code",
   "execution_count": 87,
   "metadata": {
    "colab": {
     "base_uri": "https://localhost:8080/",
     "height": 636
    },
    "id": "LZaXQ9ZjH2H1",
    "outputId": "d1714b7f-5e2f-46cc-d89d-c9b404c45346"
   },
   "outputs": [
    {
     "data": {
      "image/png": "[encoded data removed]",
      "text/plain": [
       "<Figure size 800x550 with 1 Axes>"
      ]
     },
     "metadata": {},
     "output_type": "display_data"
    }
   ],
   "source": [
    "count_plot('Country',leads.Converted,'Country vs Converted',\n",
    "           'Converted and Country','Count')\n",
    "\n",
    "# Data is highly skwed for India, Mostly all the data is pointing to India, hence will not make sense evaluating this feature\n",
    "leads.drop('Country',axis=1,inplace=True)"
   ]
  },
  {
   "cell_type": "code",
   "execution_count": 88,
   "metadata": {
    "colab": {
     "base_uri": "https://localhost:8080/",
     "height": 676
    },
    "id": "ZCdNwUL4Pka0",
    "outputId": "09c70c40-31b4-49ee-c97e-d7e5c07c5df3"
   },
   "outputs": [
    {
     "data": {
      "image/png": "[encoded data removed]",
      "text/plain": [
       "<Figure size 800x550 with 1 Axes>"
      ]
     },
     "metadata": {},
     "output_type": "display_data"
    }
   ],
   "source": [
    "count_plot('City',leads.Converted,'City vs Converted',\n",
    "           'Converted and City','Count')"
   ]
  },
  {
   "cell_type": "code",
   "execution_count": 89,
   "metadata": {
    "colab": {
     "base_uri": "https://localhost:8080/",
     "height": 724
    },
    "id": "uItjD8OxSBFU",
    "outputId": "e9332e6f-7969-458a-dcf8-519d4e670231"
   },
   "outputs": [
    {
     "data": {
      "image/png": "[encoded data removed]",
      "text/plain": [
       "<Figure size 800x550 with 1 Axes>"
      ]
     },
     "metadata": {},
     "output_type": "display_data"
    }
   ],
   "source": [
    "\n",
    "count_plot('Specialization',leads.Converted,'Specialization vs Converted',\n",
    "           'Converted and Specialization','Count')"
   ]
  },
  {
   "cell_type": "code",
   "execution_count": 91,
   "metadata": {
    "colab": {
     "base_uri": "https://localhost:8080/"
    },
    "id": "T4optsBt2Oc0",
    "outputId": "415af44c-30e1-4e93-f5b8-d88ac525d44c"
   },
   "outputs": [
    {
     "name": "stdout",
     "output_type": "stream",
     "text": [
      "<class 'pandas.core.frame.DataFrame'>\n",
      "RangeIndex: 9240 entries, 0 to 9239\n",
      "Data columns (total 23 columns):\n",
      " #   Column                                  Non-Null Count  Dtype  \n",
      "---  ------                                  --------------  -----  \n",
      " 0   Lead Origin                             9240 non-null   object \n",
      " 1   Lead Source                             9240 non-null   object \n",
      " 2   Do Not Email                            9240 non-null   object \n",
      " 3   Converted                               9240 non-null   int64  \n",
      " 4   TotalVisits                             9240 non-null   float64\n",
      " 5   Total Time Spent on Website             9240 non-null   int64  \n",
      " 6   Page Views Per Visit                    9240 non-null   float64\n",
      " 7   Last Activity                           9240 non-null   object \n",
      " 8   Specialization                          9240 non-null   object \n",
      " 9   Occupation                              9240 non-null   object \n",
      " 10  Motto                                   9240 non-null   object \n",
      " 11  Search                                  9240 non-null   object \n",
      " 12  Magazine                                9240 non-null   object \n",
      " 13  Newspaper Article                       9240 non-null   object \n",
      " 14  X Education Forums                      9240 non-null   object \n",
      " 15  Newspaper                               9240 non-null   object \n",
      " 16  Digital Advertisement                   9240 non-null   object \n",
      " 17  Through Recommendations                 9240 non-null   object \n",
      " 18  GetUpdates                              9240 non-null   object \n",
      " 19  Tags                                    9240 non-null   object \n",
      " 20  City                                    9240 non-null   object \n",
      " 21  A free copy of Mastering The Interview  9240 non-null   object \n",
      " 22  Last Notable Activity                   9240 non-null   object \n",
      "dtypes: float64(2), int64(2), object(19)\n",
      "memory usage: 1.6+ MB\n"
     ]
    }
   ],
   "source": [
    "leads.info()"
   ]
  },
  {
   "cell_type": "code",
   "execution_count": 145,
   "metadata": {
    "scrolled": false
   },
   "outputs": [
    {
     "data": {
      "image/png": "[encoded data removed]",
      "text/plain": [
       "<Figure size 800x550 with 1 Axes>"
      ]
     },
     "metadata": {},
     "output_type": "display_data"
    },
    {
     "data": {
      "image/png": "[encoded data removed]",
      "text/plain": [
       "<Figure size 800x550 with 1 Axes>"
      ]
     },
     "metadata": {},
     "output_type": "display_data"
    },
    {
     "data": {
      "image/png": "[encoded data removed]",
      "text/plain": [
       "<Figure size 800x550 with 1 Axes>"
      ]
     },
     "metadata": {},
     "output_type": "display_data"
    },
    {
     "data": {
      "image/png": "[encoded data removed]",
      "text/plain": [
       "<Figure size 800x550 with 1 Axes>"
      ]
     },
     "metadata": {},
     "output_type": "display_data"
    }
   ],
   "source": [
    "features = ['Search',\n",
    "'Newspaper Article',\n",
    "'X Education Forums',\n",
    "'Newspaper']\n",
    "subplot(features)\n",
    "\n",
    "# These features are highly skewed, hence dropping\n",
    "leads.drop(features, axis=1, inplace=True)"
   ]
  },
  {
   "cell_type": "code",
   "execution_count": 150,
   "metadata": {},
   "outputs": [
    {
     "name": "stdout",
     "output_type": "stream",
     "text": [
      "<class 'pandas.core.frame.DataFrame'>\n",
      "RangeIndex: 9240 entries, 0 to 9239\n",
      "Data columns (total 14 columns):\n",
      " #   Column                                  Non-Null Count  Dtype  \n",
      "---  ------                                  --------------  -----  \n",
      " 0   Lead Origin                             9240 non-null   object \n",
      " 1   Lead Source                             9240 non-null   object \n",
      " 2   Do Not Email                            9240 non-null   object \n",
      " 3   Converted                               9240 non-null   int64  \n",
      " 4   TotalVisits                             9240 non-null   float64\n",
      " 5   Total Time Spent on Website             9240 non-null   int64  \n",
      " 6   Page Views Per Visit                    9240 non-null   float64\n",
      " 7   Last Activity                           9240 non-null   object \n",
      " 8   Specialization                          9240 non-null   object \n",
      " 9   Occupation                              9240 non-null   object \n",
      " 10  Magazine                                9240 non-null   object \n",
      " 11  GetUpdates                              9240 non-null   object \n",
      " 12  A free copy of Mastering The Interview  9240 non-null   object \n",
      " 13  Last Notable Activity                   9240 non-null   object \n",
      "dtypes: float64(2), int64(2), object(10)\n",
      "memory usage: 1010.8+ KB\n"
     ]
    }
   ],
   "source": [
    "leads.info()"
   ]
  },
  {
   "cell_type": "code",
   "execution_count": 151,
   "metadata": {},
   "outputs": [
    {
     "ename": "KeyError",
     "evalue": "'Digital Advertisement'",
     "output_type": "error",
     "traceback": [
      "\u001b[0;31m---------------------------------------------------------------------------\u001b[0m",
      "\u001b[0;31mKeyError\u001b[0m                                  Traceback (most recent call last)",
      "File \u001b[0;32m~/anaconda3/lib/python3.11/site-packages/pandas/core/indexes/base.py:3802\u001b[0m, in \u001b[0;36mIndex.get_loc\u001b[0;34m(self, key, method, tolerance)\u001b[0m\n\u001b[1;32m   3801\u001b[0m \u001b[38;5;28;01mtry\u001b[39;00m:\n\u001b[0;32m-> 3802\u001b[0m     \u001b[38;5;28;01mreturn\u001b[39;00m \u001b[38;5;28mself\u001b[39m\u001b[38;5;241m.\u001b[39m_engine\u001b[38;5;241m.\u001b[39mget_loc(casted_key)\n\u001b[1;32m   3803\u001b[0m \u001b[38;5;28;01mexcept\u001b[39;00m \u001b[38;5;167;01mKeyError\u001b[39;00m \u001b[38;5;28;01mas\u001b[39;00m err:\n",
      "File \u001b[0;32m~/anaconda3/lib/python3.11/site-packages/pandas/_libs/index.pyx:138\u001b[0m, in \u001b[0;36mpandas._libs.index.IndexEngine.get_loc\u001b[0;34m()\u001b[0m\n",
      "File \u001b[0;32m~/anaconda3/lib/python3.11/site-packages/pandas/_libs/index.pyx:165\u001b[0m, in \u001b[0;36mpandas._libs.index.IndexEngine.get_loc\u001b[0;34m()\u001b[0m\n",
      "File \u001b[0;32mpandas/_libs/hashtable_class_helper.pxi:5745\u001b[0m, in \u001b[0;36mpandas._libs.hashtable.PyObjectHashTable.get_item\u001b[0;34m()\u001b[0m\n",
      "File \u001b[0;32mpandas/_libs/hashtable_class_helper.pxi:5753\u001b[0m, in \u001b[0;36mpandas._libs.hashtable.PyObjectHashTable.get_item\u001b[0;34m()\u001b[0m\n",
      "\u001b[0;31mKeyError\u001b[0m: 'Digital Advertisement'",
      "\nThe above exception was the direct cause of the following exception:\n",
      "\u001b[0;31mKeyError\u001b[0m                                  Traceback (most recent call last)",
      "Cell \u001b[0;32mIn[151], line 3\u001b[0m\n\u001b[1;32m      1\u001b[0m features \u001b[38;5;241m=\u001b[39m [\u001b[38;5;124m'\u001b[39m\u001b[38;5;124mDigital Advertisement\u001b[39m\u001b[38;5;124m'\u001b[39m,\n\u001b[1;32m      2\u001b[0m \u001b[38;5;124m'\u001b[39m\u001b[38;5;124mThrough Recommendations\u001b[39m\u001b[38;5;124m'\u001b[39m]\n\u001b[0;32m----> 3\u001b[0m subplot(features)\n\u001b[1;32m      5\u001b[0m \u001b[38;5;66;03m# these are skewed to, hence dropping\u001b[39;00m\n\u001b[1;32m      6\u001b[0m leads\u001b[38;5;241m.\u001b[39mdrop(features, axis\u001b[38;5;241m=\u001b[39m\u001b[38;5;241m1\u001b[39m, inplace\u001b[38;5;241m=\u001b[39m\u001b[38;5;28;01mTrue\u001b[39;00m)\n",
      "Cell \u001b[0;32mIn[141], line 9\u001b[0m, in \u001b[0;36msubplot\u001b[0;34m(features)\u001b[0m\n\u001b[1;32m      6\u001b[0m \u001b[38;5;28;01mfor\u001b[39;00m i \u001b[38;5;129;01min\u001b[39;00m \u001b[38;5;28mrange\u001b[39m(\u001b[38;5;241m0\u001b[39m,\u001b[38;5;28mlen\u001b[39m(features)):\n\u001b[1;32m      7\u001b[0m     \u001b[38;5;66;03m#print(features[i])\u001b[39;00m\n\u001b[1;32m      8\u001b[0m     plt\u001b[38;5;241m.\u001b[39msubplot(\u001b[38;5;241m2\u001b[39m, \u001b[38;5;241m2\u001b[39m,i\u001b[38;5;241m+\u001b[39m\u001b[38;5;241m1\u001b[39m)\n\u001b[0;32m----> 9\u001b[0m     chart \u001b[38;5;241m=\u001b[39m (sns\u001b[38;5;241m.\u001b[39mcountplot(x\u001b[38;5;241m=\u001b[39mleads[features[i]],hue\u001b[38;5;241m=\u001b[39mleads\u001b[38;5;241m.\u001b[39mConverted))\n\u001b[1;32m     11\u001b[0m     chart\u001b[38;5;241m.\u001b[39mset_xticklabels(chart\u001b[38;5;241m.\u001b[39mget_xticklabels(), rotation\u001b[38;5;241m=\u001b[39m\u001b[38;5;241m90\u001b[39m)\n\u001b[1;32m     13\u001b[0m      \u001b[38;5;66;03m# Adding and formatting title\u001b[39;00m\n\u001b[1;32m     14\u001b[0m      \u001b[38;5;66;03m#plt.title(features[i], fontdict={'fontsize': 20, 'fontweight' : 20, 'color' : 'Black'})\u001b[39;00m\n\u001b[1;32m     15\u001b[0m \n\u001b[1;32m     16\u001b[0m     \u001b[38;5;66;03m# Labeling Axes\u001b[39;00m\n",
      "File \u001b[0;32m~/anaconda3/lib/python3.11/site-packages/pandas/core/frame.py:3807\u001b[0m, in \u001b[0;36mDataFrame.__getitem__\u001b[0;34m(self, key)\u001b[0m\n\u001b[1;32m   3805\u001b[0m \u001b[38;5;28;01mif\u001b[39;00m \u001b[38;5;28mself\u001b[39m\u001b[38;5;241m.\u001b[39mcolumns\u001b[38;5;241m.\u001b[39mnlevels \u001b[38;5;241m>\u001b[39m \u001b[38;5;241m1\u001b[39m:\n\u001b[1;32m   3806\u001b[0m     \u001b[38;5;28;01mreturn\u001b[39;00m \u001b[38;5;28mself\u001b[39m\u001b[38;5;241m.\u001b[39m_getitem_multilevel(key)\n\u001b[0;32m-> 3807\u001b[0m indexer \u001b[38;5;241m=\u001b[39m \u001b[38;5;28mself\u001b[39m\u001b[38;5;241m.\u001b[39mcolumns\u001b[38;5;241m.\u001b[39mget_loc(key)\n\u001b[1;32m   3808\u001b[0m \u001b[38;5;28;01mif\u001b[39;00m is_integer(indexer):\n\u001b[1;32m   3809\u001b[0m     indexer \u001b[38;5;241m=\u001b[39m [indexer]\n",
      "File \u001b[0;32m~/anaconda3/lib/python3.11/site-packages/pandas/core/indexes/base.py:3804\u001b[0m, in \u001b[0;36mIndex.get_loc\u001b[0;34m(self, key, method, tolerance)\u001b[0m\n\u001b[1;32m   3802\u001b[0m     \u001b[38;5;28;01mreturn\u001b[39;00m \u001b[38;5;28mself\u001b[39m\u001b[38;5;241m.\u001b[39m_engine\u001b[38;5;241m.\u001b[39mget_loc(casted_key)\n\u001b[1;32m   3803\u001b[0m \u001b[38;5;28;01mexcept\u001b[39;00m \u001b[38;5;167;01mKeyError\u001b[39;00m \u001b[38;5;28;01mas\u001b[39;00m err:\n\u001b[0;32m-> 3804\u001b[0m     \u001b[38;5;28;01mraise\u001b[39;00m \u001b[38;5;167;01mKeyError\u001b[39;00m(key) \u001b[38;5;28;01mfrom\u001b[39;00m \u001b[38;5;21;01merr\u001b[39;00m\n\u001b[1;32m   3805\u001b[0m \u001b[38;5;28;01mexcept\u001b[39;00m \u001b[38;5;167;01mTypeError\u001b[39;00m:\n\u001b[1;32m   3806\u001b[0m     \u001b[38;5;66;03m# If we have a listlike key, _check_indexing_error will raise\u001b[39;00m\n\u001b[1;32m   3807\u001b[0m     \u001b[38;5;66;03m#  InvalidIndexError. Otherwise we fall through and re-raise\u001b[39;00m\n\u001b[1;32m   3808\u001b[0m     \u001b[38;5;66;03m#  the TypeError.\u001b[39;00m\n\u001b[1;32m   3809\u001b[0m     \u001b[38;5;28mself\u001b[39m\u001b[38;5;241m.\u001b[39m_check_indexing_error(key)\n",
      "\u001b[0;31mKeyError\u001b[0m: 'Digital Advertisement'"
     ]
    },
    {
     "data": {
      "image/png": "[encoded data removed]",
      "text/plain": [
       "<Figure size 800x550 with 1 Axes>"
      ]
     },
     "metadata": {},
     "output_type": "display_data"
    }
   ],
   "source": [
    "features = ['Digital Advertisement',\n",
    "'Through Recommendations']\n",
    "subplot(features)\n",
    "\n",
    "# these are skewed to, hence dropping\n",
    "leads.drop(features, axis=1, inplace=True)"
   ]
  },
  {
   "cell_type": "code",
   "execution_count": 152,
   "metadata": {},
   "outputs": [
    {
     "name": "stdout",
     "output_type": "stream",
     "text": [
      "<class 'pandas.core.frame.DataFrame'>\n",
      "RangeIndex: 9240 entries, 0 to 9239\n",
      "Data columns (total 14 columns):\n",
      " #   Column                                  Non-Null Count  Dtype  \n",
      "---  ------                                  --------------  -----  \n",
      " 0   Lead Origin                             9240 non-null   object \n",
      " 1   Lead Source                             9240 non-null   object \n",
      " 2   Do Not Email                            9240 non-null   object \n",
      " 3   Converted                               9240 non-null   int64  \n",
      " 4   TotalVisits                             9240 non-null   float64\n",
      " 5   Total Time Spent on Website             9240 non-null   int64  \n",
      " 6   Page Views Per Visit                    9240 non-null   float64\n",
      " 7   Last Activity                           9240 non-null   object \n",
      " 8   Specialization                          9240 non-null   object \n",
      " 9   Occupation                              9240 non-null   object \n",
      " 10  Magazine                                9240 non-null   object \n",
      " 11  GetUpdates                              9240 non-null   object \n",
      " 12  A free copy of Mastering The Interview  9240 non-null   object \n",
      " 13  Last Notable Activity                   9240 non-null   object \n",
      "dtypes: float64(2), int64(2), object(10)\n",
      "memory usage: 1010.8+ KB\n"
     ]
    }
   ],
   "source": [
    "leads.info()"
   ]
  },
  {
   "cell_type": "code",
   "execution_count": 153,
   "metadata": {
    "colab": {
     "base_uri": "https://localhost:8080/",
     "height": 522
    },
    "id": "cVYQLtOUTvIA",
    "outputId": "8261ef07-58ee-4f53-e0d5-6d743576b7b0"
   },
   "outputs": [
    {
     "data": {
      "image/png": "[encoded data removed]",
      "text/plain": [
       "<Figure size 800x550 with 1 Axes>"
      ]
     },
     "metadata": {},
     "output_type": "display_data"
    }
   ],
   "source": [
    "count_plot('GetUpdates',leads.Converted,'City vs Course updates',\n",
    "           'Converted and Course updates','Count')\n",
    "\n",
    "\n",
    "# Receive More Updates About Our Courses can be droped because of skewness in the data\n",
    "leads.drop('GetUpdates',axis=1,inplace=True)"
   ]
  },
  {
   "cell_type": "code",
   "execution_count": 154,
   "metadata": {
    "colab": {
     "base_uri": "https://localhost:8080/",
     "height": 1000
    },
    "id": "_BDVJcOLYdqN",
    "outputId": "4a2cf418-01d6-4698-a647-9b6cacfce0fe"
   },
   "outputs": [
    {
     "data": {
      "image/png": "[encoded data removed]",
      "text/plain": [
       "<Figure size 800x550 with 1 Axes>"
      ]
     },
     "metadata": {},
     "output_type": "display_data"
    },
    {
     "data": {
      "image/png": "[encoded data removed]",
      "text/plain": [
       "<Figure size 800x550 with 1 Axes>"
      ]
     },
     "metadata": {},
     "output_type": "display_data"
    },
    {
     "data": {
      "image/png": "[encoded data removed]",
      "text/plain": [
       "<Figure size 800x550 with 1 Axes>"
      ]
     },
     "metadata": {},
     "output_type": "display_data"
    }
   ],
   "source": [
    "features = ['A free copy of Mastering The Interview','Last Notable Activity','Last Activity']\n",
    "subplot(features)\n",
    "\n",
    "# droping the columns - A free copy of Mastering The Interview because it is not putting any value in the analysis\n",
    "# Last Notable Activity','Last Activity both are same, hence dropping Last Notable Activity\n",
    "leads.drop(['Last Notable Activity'],axis=1,inplace=True)"
   ]
  },
  {
   "cell_type": "code",
   "execution_count": 155,
   "metadata": {},
   "outputs": [
    {
     "name": "stdout",
     "output_type": "stream",
     "text": [
      "<class 'pandas.core.frame.DataFrame'>\n",
      "RangeIndex: 9240 entries, 0 to 9239\n",
      "Data columns (total 12 columns):\n",
      " #   Column                                  Non-Null Count  Dtype  \n",
      "---  ------                                  --------------  -----  \n",
      " 0   Lead Origin                             9240 non-null   object \n",
      " 1   Lead Source                             9240 non-null   object \n",
      " 2   Do Not Email                            9240 non-null   object \n",
      " 3   Converted                               9240 non-null   int64  \n",
      " 4   TotalVisits                             9240 non-null   float64\n",
      " 5   Total Time Spent on Website             9240 non-null   int64  \n",
      " 6   Page Views Per Visit                    9240 non-null   float64\n",
      " 7   Last Activity                           9240 non-null   object \n",
      " 8   Specialization                          9240 non-null   object \n",
      " 9   Occupation                              9240 non-null   object \n",
      " 10  Magazine                                9240 non-null   object \n",
      " 11  A free copy of Mastering The Interview  9240 non-null   object \n",
      "dtypes: float64(2), int64(2), object(8)\n",
      "memory usage: 866.4+ KB\n"
     ]
    }
   ],
   "source": [
    "leads.info()"
   ]
  },
  {
   "cell_type": "code",
   "execution_count": 214,
   "metadata": {},
   "outputs": [
    {
     "data": {
      "text/html": [
       "<div>\n",
       "<style scoped>\n",
       "    .dataframe tbody tr th:only-of-type {\n",
       "        vertical-align: middle;\n",
       "    }\n",
       "\n",
       "    .dataframe tbody tr th {\n",
       "        vertical-align: top;\n",
       "    }\n",
       "\n",
       "    .dataframe thead th {\n",
       "        text-align: right;\n",
       "    }\n",
       "</style>\n",
       "<table border=\"1\" class=\"dataframe\">\n",
       "  <thead>\n",
       "    <tr style=\"text-align: right;\">\n",
       "      <th></th>\n",
       "      <th>Lead Origin</th>\n",
       "      <th>Lead Source</th>\n",
       "      <th>Do Not Email</th>\n",
       "      <th>Converted</th>\n",
       "      <th>TotalVisits</th>\n",
       "      <th>Total Time Spent on Website</th>\n",
       "      <th>Page Views Per Visit</th>\n",
       "      <th>Last Activity</th>\n",
       "      <th>Specialization</th>\n",
       "      <th>Occupation</th>\n",
       "      <th>Magazine</th>\n",
       "      <th>Free_copy</th>\n",
       "    </tr>\n",
       "  </thead>\n",
       "  <tbody>\n",
       "    <tr>\n",
       "      <th>0</th>\n",
       "      <td>API</td>\n",
       "      <td>Olark Chat</td>\n",
       "      <td>0</td>\n",
       "      <td>0</td>\n",
       "      <td>0.0</td>\n",
       "      <td>0</td>\n",
       "      <td>0.0</td>\n",
       "      <td>Page Visited on Website</td>\n",
       "      <td>Business Administration</td>\n",
       "      <td>Unemployed</td>\n",
       "      <td>0</td>\n",
       "      <td>0</td>\n",
       "    </tr>\n",
       "    <tr>\n",
       "      <th>1</th>\n",
       "      <td>API</td>\n",
       "      <td>Organic Search</td>\n",
       "      <td>0</td>\n",
       "      <td>0</td>\n",
       "      <td>5.0</td>\n",
       "      <td>674</td>\n",
       "      <td>2.5</td>\n",
       "      <td>Email Opened</td>\n",
       "      <td>Business Administration</td>\n",
       "      <td>Unemployed</td>\n",
       "      <td>0</td>\n",
       "      <td>0</td>\n",
       "    </tr>\n",
       "    <tr>\n",
       "      <th>2</th>\n",
       "      <td>Landing Page Submission</td>\n",
       "      <td>Direct Traffic</td>\n",
       "      <td>0</td>\n",
       "      <td>1</td>\n",
       "      <td>2.0</td>\n",
       "      <td>1532</td>\n",
       "      <td>2.0</td>\n",
       "      <td>Email Opened</td>\n",
       "      <td>Business Administration</td>\n",
       "      <td>Student</td>\n",
       "      <td>0</td>\n",
       "      <td>1</td>\n",
       "    </tr>\n",
       "    <tr>\n",
       "      <th>3</th>\n",
       "      <td>Landing Page Submission</td>\n",
       "      <td>Direct Traffic</td>\n",
       "      <td>0</td>\n",
       "      <td>0</td>\n",
       "      <td>1.0</td>\n",
       "      <td>305</td>\n",
       "      <td>1.0</td>\n",
       "      <td>Unreachable</td>\n",
       "      <td>Media and Advertising</td>\n",
       "      <td>Unemployed</td>\n",
       "      <td>0</td>\n",
       "      <td>0</td>\n",
       "    </tr>\n",
       "    <tr>\n",
       "      <th>4</th>\n",
       "      <td>Landing Page Submission</td>\n",
       "      <td>Google</td>\n",
       "      <td>0</td>\n",
       "      <td>1</td>\n",
       "      <td>2.0</td>\n",
       "      <td>1428</td>\n",
       "      <td>1.0</td>\n",
       "      <td>Converted to Lead</td>\n",
       "      <td>Business Administration</td>\n",
       "      <td>Unemployed</td>\n",
       "      <td>0</td>\n",
       "      <td>0</td>\n",
       "    </tr>\n",
       "  </tbody>\n",
       "</table>\n",
       "</div>"
      ],
      "text/plain": [
       "               Lead Origin     Lead Source  Do Not Email  Converted  \\\n",
       "0                      API      Olark Chat             0          0   \n",
       "1                      API  Organic Search             0          0   \n",
       "2  Landing Page Submission  Direct Traffic             0          1   \n",
       "3  Landing Page Submission  Direct Traffic             0          0   \n",
       "4  Landing Page Submission          Google             0          1   \n",
       "\n",
       "   TotalVisits  Total Time Spent on Website  Page Views Per Visit  \\\n",
       "0          0.0                            0                   0.0   \n",
       "1          5.0                          674                   2.5   \n",
       "2          2.0                         1532                   2.0   \n",
       "3          1.0                          305                   1.0   \n",
       "4          2.0                         1428                   1.0   \n",
       "\n",
       "             Last Activity           Specialization  Occupation  Magazine  \\\n",
       "0  Page Visited on Website  Business Administration  Unemployed         0   \n",
       "1             Email Opened  Business Administration  Unemployed         0   \n",
       "2             Email Opened  Business Administration     Student         0   \n",
       "3              Unreachable    Media and Advertising  Unemployed         0   \n",
       "4        Converted to Lead  Business Administration  Unemployed         0   \n",
       "\n",
       "   Free_copy  \n",
       "0          0  \n",
       "1          0  \n",
       "2          1  \n",
       "3          0  \n",
       "4          0  "
      ]
     },
     "execution_count": 214,
     "metadata": {},
     "output_type": "execute_result"
    }
   ],
   "source": [
    "leads.head()"
   ]
  },
  {
   "cell_type": "markdown",
   "metadata": {
    "id": "jb3upXFJk6Qe"
   },
   "source": [
    "# <h2 align=\"left\"> <font color='brown'>Data Preperation</font></h2>"
   ]
  },
  {
   "cell_type": "markdown",
   "metadata": {
    "id": "6lpAIjb0lBCN"
   },
   "source": [
    "#### Dummy value creation"
   ]
  },
  {
   "cell_type": "code",
   "execution_count": 159,
   "metadata": {
    "id": "yuQT8h6cmQGV"
   },
   "outputs": [
    {
     "data": {
      "text/plain": [
       "Index(['Lead Origin', 'Lead Source', 'Do Not Email', 'Last Activity',\n",
       "       'Specialization', 'Occupation', 'Magazine',\n",
       "       'A free copy of Mastering The Interview'],\n",
       "      dtype='object')"
      ]
     },
     "execution_count": 159,
     "metadata": {},
     "output_type": "execute_result"
    }
   ],
   "source": [
    "categorical = leads.select_dtypes(include=['object']).columns\n",
    "categorical"
   ]
  },
  {
   "cell_type": "code",
   "execution_count": 161,
   "metadata": {
    "id": "3HQgDKXhnu-H"
   },
   "outputs": [],
   "source": [
    "def make_binary_dummy(columlist):\n",
    "  return columlist.map({'No':0,'Yes':1})\n",
    "\n",
    "\n",
    "catergory_list = ['Do Not Email','Magazine','A free copy of Mastering The Interview']\n",
    "\n",
    "leads[catergory_list] = leads[catergory_list].apply(make_binary_dummy)"
   ]
  },
  {
   "cell_type": "code",
   "execution_count": 212,
   "metadata": {},
   "outputs": [
    {
     "data": {
      "text/html": [
       "<div>\n",
       "<style scoped>\n",
       "    .dataframe tbody tr th:only-of-type {\n",
       "        vertical-align: middle;\n",
       "    }\n",
       "\n",
       "    .dataframe tbody tr th {\n",
       "        vertical-align: top;\n",
       "    }\n",
       "\n",
       "    .dataframe thead th {\n",
       "        text-align: right;\n",
       "    }\n",
       "</style>\n",
       "<table border=\"1\" class=\"dataframe\">\n",
       "  <thead>\n",
       "    <tr style=\"text-align: right;\">\n",
       "      <th></th>\n",
       "      <th>Lead Origin</th>\n",
       "      <th>Lead Source</th>\n",
       "      <th>Do Not Email</th>\n",
       "      <th>Converted</th>\n",
       "      <th>TotalVisits</th>\n",
       "      <th>Total Time Spent on Website</th>\n",
       "      <th>Page Views Per Visit</th>\n",
       "      <th>Last Activity</th>\n",
       "      <th>Specialization</th>\n",
       "      <th>Occupation</th>\n",
       "      <th>Magazine</th>\n",
       "      <th>Free_copy</th>\n",
       "    </tr>\n",
       "  </thead>\n",
       "  <tbody>\n",
       "    <tr>\n",
       "      <th>0</th>\n",
       "      <td>API</td>\n",
       "      <td>Olark Chat</td>\n",
       "      <td>0</td>\n",
       "      <td>0</td>\n",
       "      <td>0.0</td>\n",
       "      <td>0</td>\n",
       "      <td>0.0</td>\n",
       "      <td>Page Visited on Website</td>\n",
       "      <td>Business Administration</td>\n",
       "      <td>Unemployed</td>\n",
       "      <td>0</td>\n",
       "      <td>0</td>\n",
       "    </tr>\n",
       "    <tr>\n",
       "      <th>1</th>\n",
       "      <td>API</td>\n",
       "      <td>Organic Search</td>\n",
       "      <td>0</td>\n",
       "      <td>0</td>\n",
       "      <td>5.0</td>\n",
       "      <td>674</td>\n",
       "      <td>2.5</td>\n",
       "      <td>Email Opened</td>\n",
       "      <td>Business Administration</td>\n",
       "      <td>Unemployed</td>\n",
       "      <td>0</td>\n",
       "      <td>0</td>\n",
       "    </tr>\n",
       "    <tr>\n",
       "      <th>2</th>\n",
       "      <td>Landing Page Submission</td>\n",
       "      <td>Direct Traffic</td>\n",
       "      <td>0</td>\n",
       "      <td>1</td>\n",
       "      <td>2.0</td>\n",
       "      <td>1532</td>\n",
       "      <td>2.0</td>\n",
       "      <td>Email Opened</td>\n",
       "      <td>Business Administration</td>\n",
       "      <td>Student</td>\n",
       "      <td>0</td>\n",
       "      <td>1</td>\n",
       "    </tr>\n",
       "    <tr>\n",
       "      <th>3</th>\n",
       "      <td>Landing Page Submission</td>\n",
       "      <td>Direct Traffic</td>\n",
       "      <td>0</td>\n",
       "      <td>0</td>\n",
       "      <td>1.0</td>\n",
       "      <td>305</td>\n",
       "      <td>1.0</td>\n",
       "      <td>Unreachable</td>\n",
       "      <td>Media and Advertising</td>\n",
       "      <td>Unemployed</td>\n",
       "      <td>0</td>\n",
       "      <td>0</td>\n",
       "    </tr>\n",
       "    <tr>\n",
       "      <th>4</th>\n",
       "      <td>Landing Page Submission</td>\n",
       "      <td>Google</td>\n",
       "      <td>0</td>\n",
       "      <td>1</td>\n",
       "      <td>2.0</td>\n",
       "      <td>1428</td>\n",
       "      <td>1.0</td>\n",
       "      <td>Converted to Lead</td>\n",
       "      <td>Business Administration</td>\n",
       "      <td>Unemployed</td>\n",
       "      <td>0</td>\n",
       "      <td>0</td>\n",
       "    </tr>\n",
       "  </tbody>\n",
       "</table>\n",
       "</div>"
      ],
      "text/plain": [
       "               Lead Origin     Lead Source  Do Not Email  Converted  \\\n",
       "0                      API      Olark Chat             0          0   \n",
       "1                      API  Organic Search             0          0   \n",
       "2  Landing Page Submission  Direct Traffic             0          1   \n",
       "3  Landing Page Submission  Direct Traffic             0          0   \n",
       "4  Landing Page Submission          Google             0          1   \n",
       "\n",
       "   TotalVisits  Total Time Spent on Website  Page Views Per Visit  \\\n",
       "0          0.0                            0                   0.0   \n",
       "1          5.0                          674                   2.5   \n",
       "2          2.0                         1532                   2.0   \n",
       "3          1.0                          305                   1.0   \n",
       "4          2.0                         1428                   1.0   \n",
       "\n",
       "             Last Activity           Specialization  Occupation  Magazine  \\\n",
       "0  Page Visited on Website  Business Administration  Unemployed         0   \n",
       "1             Email Opened  Business Administration  Unemployed         0   \n",
       "2             Email Opened  Business Administration     Student         0   \n",
       "3              Unreachable    Media and Advertising  Unemployed         0   \n",
       "4        Converted to Lead  Business Administration  Unemployed         0   \n",
       "\n",
       "   Free_copy  \n",
       "0          0  \n",
       "1          0  \n",
       "2          1  \n",
       "3          0  \n",
       "4          0  "
      ]
     },
     "execution_count": 212,
     "metadata": {},
     "output_type": "execute_result"
    }
   ],
   "source": [
    "leads.head()"
   ]
  },
  {
   "cell_type": "code",
   "execution_count": 164,
   "metadata": {},
   "outputs": [
    {
     "data": {
      "text/plain": [
       "Landing Page Submission    52.878788\n",
       "API                        38.744589\n",
       "Lead Add Form               7.770563\n",
       "Lead Import                 0.595238\n",
       "Quick Add Form              0.010823\n",
       "Name: Lead Origin, dtype: float64"
      ]
     },
     "execution_count": 164,
     "metadata": {},
     "output_type": "execute_result"
    }
   ],
   "source": [
    "(leads['Lead Origin'].value_counts(normalize=True))*100"
   ]
  },
  {
   "cell_type": "code",
   "execution_count": 202,
   "metadata": {},
   "outputs": [
    {
     "data": {
      "text/plain": [
       "Google            31.158009\n",
       "Direct Traffic    27.586580\n",
       "Olark Chat        19.058442\n",
       "Organic Search    12.554113\n",
       "Others             9.642857\n",
       "Name: Lead Source, dtype: float64"
      ]
     },
     "execution_count": 202,
     "metadata": {},
     "output_type": "execute_result"
    }
   ],
   "source": [
    "value_counts = leads['Lead Source'].value_counts(normalize=True)*100\n",
    "value_counts"
   ]
  },
  {
   "cell_type": "code",
   "execution_count": 203,
   "metadata": {},
   "outputs": [
    {
     "data": {
      "text/plain": [
       "Index(['Others'], dtype='object')"
      ]
     },
     "execution_count": 203,
     "metadata": {},
     "output_type": "execute_result"
    }
   ],
   "source": [
    "low_freq_categories = value_counts [value_counts < 10].index\n",
    "low_freq_categories"
   ]
  },
  {
   "cell_type": "code",
   "execution_count": 201,
   "metadata": {},
   "outputs": [],
   "source": [
    "leads['Lead Source'] = leads['Lead Source'].replace('google','Google')\n",
    "leads['Lead Source'] = leads['Lead Source'].replace(low_freq_categories,'Others')"
   ]
  },
  {
   "cell_type": "code",
   "execution_count": 210,
   "metadata": {},
   "outputs": [
    {
     "data": {
      "text/plain": [
       "Email Opened                 37.748918\n",
       "SMS Sent                     29.707792\n",
       "Olark Chat Conversation      10.530303\n",
       "Page Visited on Website       7.489177\n",
       "Converted to Lead             4.632035\n",
       "Email Bounced                 3.528139\n",
       "Email Link Clicked            2.889610\n",
       "Form Submitted on Website     1.255411\n",
       "others                        1.212121\n",
       "Unreachable                   1.006494\n",
       "Name: Last Activity, dtype: float64"
      ]
     },
     "execution_count": 210,
     "metadata": {},
     "output_type": "execute_result"
    }
   ],
   "source": [
    "value_counts_last_actity = leads['Last Activity'].value_counts(normalize=True)*100\n",
    "value_counts_last_actity"
   ]
  },
  {
   "cell_type": "code",
   "execution_count": 208,
   "metadata": {},
   "outputs": [
    {
     "data": {
      "text/plain": [
       "Index(['Unsubscribed', 'Had a Phone Conversation', 'Approached upfront',\n",
       "       'View in browser link Clicked', 'Email Received', 'Email Marked Spam',\n",
       "       'Visited Booth in Tradeshow', 'Resubscribed to emails'],\n",
       "      dtype='object')"
      ]
     },
     "execution_count": 208,
     "metadata": {},
     "output_type": "execute_result"
    }
   ],
   "source": [
    "low_freq_last_activity_category = value_counts_last_actity[value_counts_last_actity < 1].index\n",
    "low_freq_last_activity_category"
   ]
  },
  {
   "cell_type": "code",
   "execution_count": 209,
   "metadata": {},
   "outputs": [],
   "source": [
    "leads['Last Activity'] = leads['Last Activity'].replace(low_freq_last_activity_category,'others')"
   ]
  },
  {
   "cell_type": "code",
   "execution_count": 215,
   "metadata": {},
   "outputs": [
    {
     "data": {
      "text/html": [
       "<div>\n",
       "<style scoped>\n",
       "    .dataframe tbody tr th:only-of-type {\n",
       "        vertical-align: middle;\n",
       "    }\n",
       "\n",
       "    .dataframe tbody tr th {\n",
       "        vertical-align: top;\n",
       "    }\n",
       "\n",
       "    .dataframe thead th {\n",
       "        text-align: right;\n",
       "    }\n",
       "</style>\n",
       "<table border=\"1\" class=\"dataframe\">\n",
       "  <thead>\n",
       "    <tr style=\"text-align: right;\">\n",
       "      <th></th>\n",
       "      <th>Lead Origin</th>\n",
       "      <th>Lead Source</th>\n",
       "      <th>Do Not Email</th>\n",
       "      <th>Converted</th>\n",
       "      <th>TotalVisits</th>\n",
       "      <th>Total Time Spent on Website</th>\n",
       "      <th>Page Views Per Visit</th>\n",
       "      <th>Last Activity</th>\n",
       "      <th>Specialization</th>\n",
       "      <th>Occupation</th>\n",
       "      <th>Magazine</th>\n",
       "      <th>Free_copy</th>\n",
       "    </tr>\n",
       "  </thead>\n",
       "  <tbody>\n",
       "    <tr>\n",
       "      <th>0</th>\n",
       "      <td>API</td>\n",
       "      <td>Olark Chat</td>\n",
       "      <td>0</td>\n",
       "      <td>0</td>\n",
       "      <td>0.0</td>\n",
       "      <td>0</td>\n",
       "      <td>0.0</td>\n",
       "      <td>Page Visited on Website</td>\n",
       "      <td>Business Administration</td>\n",
       "      <td>Unemployed</td>\n",
       "      <td>0</td>\n",
       "      <td>0</td>\n",
       "    </tr>\n",
       "    <tr>\n",
       "      <th>1</th>\n",
       "      <td>API</td>\n",
       "      <td>Organic Search</td>\n",
       "      <td>0</td>\n",
       "      <td>0</td>\n",
       "      <td>5.0</td>\n",
       "      <td>674</td>\n",
       "      <td>2.5</td>\n",
       "      <td>Email Opened</td>\n",
       "      <td>Business Administration</td>\n",
       "      <td>Unemployed</td>\n",
       "      <td>0</td>\n",
       "      <td>0</td>\n",
       "    </tr>\n",
       "    <tr>\n",
       "      <th>2</th>\n",
       "      <td>Landing Page Submission</td>\n",
       "      <td>Direct Traffic</td>\n",
       "      <td>0</td>\n",
       "      <td>1</td>\n",
       "      <td>2.0</td>\n",
       "      <td>1532</td>\n",
       "      <td>2.0</td>\n",
       "      <td>Email Opened</td>\n",
       "      <td>Business Administration</td>\n",
       "      <td>Student</td>\n",
       "      <td>0</td>\n",
       "      <td>1</td>\n",
       "    </tr>\n",
       "    <tr>\n",
       "      <th>3</th>\n",
       "      <td>Landing Page Submission</td>\n",
       "      <td>Direct Traffic</td>\n",
       "      <td>0</td>\n",
       "      <td>0</td>\n",
       "      <td>1.0</td>\n",
       "      <td>305</td>\n",
       "      <td>1.0</td>\n",
       "      <td>Unreachable</td>\n",
       "      <td>Media and Advertising</td>\n",
       "      <td>Unemployed</td>\n",
       "      <td>0</td>\n",
       "      <td>0</td>\n",
       "    </tr>\n",
       "    <tr>\n",
       "      <th>4</th>\n",
       "      <td>Landing Page Submission</td>\n",
       "      <td>Google</td>\n",
       "      <td>0</td>\n",
       "      <td>1</td>\n",
       "      <td>2.0</td>\n",
       "      <td>1428</td>\n",
       "      <td>1.0</td>\n",
       "      <td>Converted to Lead</td>\n",
       "      <td>Business Administration</td>\n",
       "      <td>Unemployed</td>\n",
       "      <td>0</td>\n",
       "      <td>0</td>\n",
       "    </tr>\n",
       "  </tbody>\n",
       "</table>\n",
       "</div>"
      ],
      "text/plain": [
       "               Lead Origin     Lead Source  Do Not Email  Converted  \\\n",
       "0                      API      Olark Chat             0          0   \n",
       "1                      API  Organic Search             0          0   \n",
       "2  Landing Page Submission  Direct Traffic             0          1   \n",
       "3  Landing Page Submission  Direct Traffic             0          0   \n",
       "4  Landing Page Submission          Google             0          1   \n",
       "\n",
       "   TotalVisits  Total Time Spent on Website  Page Views Per Visit  \\\n",
       "0          0.0                            0                   0.0   \n",
       "1          5.0                          674                   2.5   \n",
       "2          2.0                         1532                   2.0   \n",
       "3          1.0                          305                   1.0   \n",
       "4          2.0                         1428                   1.0   \n",
       "\n",
       "             Last Activity           Specialization  Occupation  Magazine  \\\n",
       "0  Page Visited on Website  Business Administration  Unemployed         0   \n",
       "1             Email Opened  Business Administration  Unemployed         0   \n",
       "2             Email Opened  Business Administration     Student         0   \n",
       "3              Unreachable    Media and Advertising  Unemployed         0   \n",
       "4        Converted to Lead  Business Administration  Unemployed         0   \n",
       "\n",
       "   Free_copy  \n",
       "0          0  \n",
       "1          0  \n",
       "2          1  \n",
       "3          0  \n",
       "4          0  "
      ]
     },
     "execution_count": 215,
     "metadata": {},
     "output_type": "execute_result"
    }
   ],
   "source": [
    "leads.head()"
   ]
  },
  {
   "cell_type": "code",
   "execution_count": 216,
   "metadata": {
    "id": "peE1eH2xo2jJ"
   },
   "outputs": [],
   "source": [
    "lead_origin = pd.get_dummies(leads['Lead Origin'],drop_first=True)\n",
    "lead_source = pd.get_dummies(leads['Lead Source'],drop_first = True)\n",
    "last_activity = pd.get_dummies(leads['Last Activity'],drop_first = True)\n",
    "speciality = pd.get_dummies(leads['Specialization'],drop_first = True)\n",
    "current_occu = pd.get_dummies(leads['Occupation'],drop_first = True)"
   ]
  },
  {
   "cell_type": "code",
   "execution_count": 217,
   "metadata": {
    "id": "b5zOiV8RqD2H"
   },
   "outputs": [],
   "source": [
    "leads = pd.concat([leads,lead_origin,lead_source,last_activity,current_occu,speciality], axis = 1)"
   ]
  },
  {
   "cell_type": "code",
   "execution_count": 218,
   "metadata": {
    "colab": {
     "base_uri": "https://localhost:8080/"
    },
    "id": "TCxnr2azrsjd",
    "outputId": "e53d089d-1f1b-4054-9379-4aa5a076ed30"
   },
   "outputs": [
    {
     "data": {
      "text/plain": [
       "(9240, 51)"
      ]
     },
     "execution_count": 218,
     "metadata": {},
     "output_type": "execute_result"
    }
   ],
   "source": [
    "leads.shape"
   ]
  },
  {
   "cell_type": "code",
   "execution_count": 219,
   "metadata": {
    "id": "gKxeGK7Yryu1"
   },
   "outputs": [],
   "source": [
    "leads.drop(['Lead Origin','Lead Source','Last Activity','Specialization','Occupation'],axis = 1,inplace = True )"
   ]
  },
  {
   "cell_type": "code",
   "execution_count": 220,
   "metadata": {},
   "outputs": [
    {
     "name": "stdout",
     "output_type": "stream",
     "text": [
      "<class 'pandas.core.frame.DataFrame'>\n",
      "RangeIndex: 9240 entries, 0 to 9239\n",
      "Data columns (total 46 columns):\n",
      " #   Column                       Non-Null Count  Dtype  \n",
      "---  ------                       --------------  -----  \n",
      " 0   Do Not Email                 9240 non-null   int64  \n",
      " 1   Converted                    9240 non-null   int64  \n",
      " 2   TotalVisits                  9240 non-null   float64\n",
      " 3   Total Time Spent on Website  9240 non-null   int64  \n",
      " 4   Page Views Per Visit         9240 non-null   float64\n",
      " 5   Magazine                     9240 non-null   int64  \n",
      " 6   Free_copy                    9240 non-null   int64  \n",
      " 7   Landing Page Submission      9240 non-null   uint8  \n",
      " 8   Lead Add Form                9240 non-null   uint8  \n",
      " 9   Lead Import                  9240 non-null   uint8  \n",
      " 10  Quick Add Form               9240 non-null   uint8  \n",
      " 11  Google                       9240 non-null   uint8  \n",
      " 12  Olark Chat                   9240 non-null   uint8  \n",
      " 13  Organic Search               9240 non-null   uint8  \n",
      " 14  Others                       9240 non-null   uint8  \n",
      " 15  Email Bounced                9240 non-null   uint8  \n",
      " 16  Email Link Clicked           9240 non-null   uint8  \n",
      " 17  Email Opened                 9240 non-null   uint8  \n",
      " 18  Form Submitted on Website    9240 non-null   uint8  \n",
      " 19  Olark Chat Conversation      9240 non-null   uint8  \n",
      " 20  Page Visited on Website      9240 non-null   uint8  \n",
      " 21  SMS Sent                     9240 non-null   uint8  \n",
      " 22  Unreachable                  9240 non-null   uint8  \n",
      " 23  others                       9240 non-null   uint8  \n",
      " 24  Housewife                    9240 non-null   uint8  \n",
      " 25  Other                        9240 non-null   uint8  \n",
      " 26  Student                      9240 non-null   uint8  \n",
      " 27  Unemployed                   9240 non-null   uint8  \n",
      " 28  Working Professional         9240 non-null   uint8  \n",
      " 29  Business Administration      9240 non-null   uint8  \n",
      " 30  E-Business                   9240 non-null   uint8  \n",
      " 31  E-COMMERCE                   9240 non-null   uint8  \n",
      " 32  Finance Management           9240 non-null   uint8  \n",
      " 33  Healthcare Management        9240 non-null   uint8  \n",
      " 34  Hospitality Management       9240 non-null   uint8  \n",
      " 35  Human Resource Management    9240 non-null   uint8  \n",
      " 36  IT Projects Management       9240 non-null   uint8  \n",
      " 37  International Business       9240 non-null   uint8  \n",
      " 38  Marketing Management         9240 non-null   uint8  \n",
      " 39  Media and Advertising        9240 non-null   uint8  \n",
      " 40  Operations Management        9240 non-null   uint8  \n",
      " 41  Retail Management            9240 non-null   uint8  \n",
      " 42  Rural and Agribusiness       9240 non-null   uint8  \n",
      " 43  Services Excellence          9240 non-null   uint8  \n",
      " 44  Supply Chain Management      9240 non-null   uint8  \n",
      " 45  Travel and Tourism           9240 non-null   uint8  \n",
      "dtypes: float64(2), int64(5), uint8(39)\n",
      "memory usage: 857.4 KB\n"
     ]
    }
   ],
   "source": [
    "leads.info()"
   ]
  },
  {
   "cell_type": "markdown",
   "metadata": {
    "id": "T9esiNgStvc1"
   },
   "source": [
    "#### Scale variable"
   ]
  },
  {
   "cell_type": "code",
   "execution_count": 221,
   "metadata": {
    "id": "OZj7RpLbss3i"
   },
   "outputs": [],
   "source": [
    "columns_to_scale = ['Total Time Spent on Website','Page Views Per Visit','TotalVisits']\n",
    "scale = MinMaxScaler()\n",
    "leads[columns_to_scale] = scale.fit_transform(leads[columns_to_scale])"
   ]
  },
  {
   "cell_type": "code",
   "execution_count": 222,
   "metadata": {
    "colab": {
     "base_uri": "https://localhost:8080/",
     "height": 424
    },
    "id": "spVeGyObu3Oz",
    "outputId": "9dcc3a2e-5381-40c9-ab4b-4e5999ad6967"
   },
   "outputs": [
    {
     "data": {
      "text/html": [
       "<div>\n",
       "<style scoped>\n",
       "    .dataframe tbody tr th:only-of-type {\n",
       "        vertical-align: middle;\n",
       "    }\n",
       "\n",
       "    .dataframe tbody tr th {\n",
       "        vertical-align: top;\n",
       "    }\n",
       "\n",
       "    .dataframe thead th {\n",
       "        text-align: right;\n",
       "    }\n",
       "</style>\n",
       "<table border=\"1\" class=\"dataframe\">\n",
       "  <thead>\n",
       "    <tr style=\"text-align: right;\">\n",
       "      <th></th>\n",
       "      <th>Total Time Spent on Website</th>\n",
       "      <th>Page Views Per Visit</th>\n",
       "      <th>TotalVisits</th>\n",
       "    </tr>\n",
       "  </thead>\n",
       "  <tbody>\n",
       "    <tr>\n",
       "      <th>0</th>\n",
       "      <td>0.000000</td>\n",
       "      <td>0.000000</td>\n",
       "      <td>0.000000</td>\n",
       "    </tr>\n",
       "    <tr>\n",
       "      <th>1</th>\n",
       "      <td>0.296655</td>\n",
       "      <td>0.277778</td>\n",
       "      <td>0.555556</td>\n",
       "    </tr>\n",
       "    <tr>\n",
       "      <th>2</th>\n",
       "      <td>0.674296</td>\n",
       "      <td>0.222222</td>\n",
       "      <td>0.222222</td>\n",
       "    </tr>\n",
       "    <tr>\n",
       "      <th>3</th>\n",
       "      <td>0.134243</td>\n",
       "      <td>0.111111</td>\n",
       "      <td>0.111111</td>\n",
       "    </tr>\n",
       "    <tr>\n",
       "      <th>4</th>\n",
       "      <td>0.628521</td>\n",
       "      <td>0.111111</td>\n",
       "      <td>0.222222</td>\n",
       "    </tr>\n",
       "    <tr>\n",
       "      <th>...</th>\n",
       "      <td>...</td>\n",
       "      <td>...</td>\n",
       "      <td>...</td>\n",
       "    </tr>\n",
       "    <tr>\n",
       "      <th>9235</th>\n",
       "      <td>0.812060</td>\n",
       "      <td>0.296667</td>\n",
       "      <td>0.888889</td>\n",
       "    </tr>\n",
       "    <tr>\n",
       "      <th>9236</th>\n",
       "      <td>0.104754</td>\n",
       "      <td>0.222222</td>\n",
       "      <td>0.222222</td>\n",
       "    </tr>\n",
       "    <tr>\n",
       "      <th>9237</th>\n",
       "      <td>0.087588</td>\n",
       "      <td>0.222222</td>\n",
       "      <td>0.222222</td>\n",
       "    </tr>\n",
       "    <tr>\n",
       "      <th>9238</th>\n",
       "      <td>0.219630</td>\n",
       "      <td>0.333333</td>\n",
       "      <td>0.333333</td>\n",
       "    </tr>\n",
       "    <tr>\n",
       "      <th>9239</th>\n",
       "      <td>0.562940</td>\n",
       "      <td>0.333333</td>\n",
       "      <td>0.666667</td>\n",
       "    </tr>\n",
       "  </tbody>\n",
       "</table>\n",
       "<p>9240 rows × 3 columns</p>\n",
       "</div>"
      ],
      "text/plain": [
       "      Total Time Spent on Website  Page Views Per Visit  TotalVisits\n",
       "0                        0.000000              0.000000     0.000000\n",
       "1                        0.296655              0.277778     0.555556\n",
       "2                        0.674296              0.222222     0.222222\n",
       "3                        0.134243              0.111111     0.111111\n",
       "4                        0.628521              0.111111     0.222222\n",
       "...                           ...                   ...          ...\n",
       "9235                     0.812060              0.296667     0.888889\n",
       "9236                     0.104754              0.222222     0.222222\n",
       "9237                     0.087588              0.222222     0.222222\n",
       "9238                     0.219630              0.333333     0.333333\n",
       "9239                     0.562940              0.333333     0.666667\n",
       "\n",
       "[9240 rows x 3 columns]"
      ]
     },
     "execution_count": 222,
     "metadata": {},
     "output_type": "execute_result"
    }
   ],
   "source": [
    "leads[columns_to_scale]"
   ]
  },
  {
   "cell_type": "markdown",
   "metadata": {
    "id": "1VaBEwoFw7F2"
   },
   "source": [
    "## <h2 align=\"left\"> <font color='brown'>Model Preperation</font></h2>"
   ]
  },
  {
   "cell_type": "code",
   "execution_count": 223,
   "metadata": {
    "id": "P-EJpf-ww8jr"
   },
   "outputs": [],
   "source": [
    "leads_train,leads_test = train_test_split(leads,train_size=0.7,test_size=0.3,\n",
    "                                          random_state=100)"
   ]
  },
  {
   "cell_type": "code",
   "execution_count": 224,
   "metadata": {
    "colab": {
     "base_uri": "https://localhost:8080/"
    },
    "id": "mSlVfJZY7d5d",
    "outputId": "57c92af6-10a1-4954-8fb9-607b8124beaf"
   },
   "outputs": [
    {
     "data": {
      "text/plain": [
       "(6468, 46)"
      ]
     },
     "execution_count": 224,
     "metadata": {},
     "output_type": "execute_result"
    }
   ],
   "source": [
    "leads_train.shape"
   ]
  },
  {
   "cell_type": "code",
   "execution_count": 225,
   "metadata": {
    "id": "OPut_t43yHrt"
   },
   "outputs": [],
   "source": [
    "y_train = leads_train.pop('Converted')\n",
    "X_train = leads_train"
   ]
  },
  {
   "cell_type": "code",
   "execution_count": 226,
   "metadata": {
    "id": "jLx9ombVynWf"
   },
   "outputs": [],
   "source": [
    "y_test = leads_test.pop('Converted')\n",
    "X_test = leads_test\n"
   ]
  },
  {
   "cell_type": "code",
   "execution_count": 227,
   "metadata": {
    "colab": {
     "base_uri": "https://localhost:8080/"
    },
    "id": "MoQIMDzf8Z5U",
    "outputId": "ed1648f5-5faa-40ad-cf82-ea5c76dea368"
   },
   "outputs": [
    {
     "data": {
      "text/plain": [
       "(6468, 45)"
      ]
     },
     "execution_count": 227,
     "metadata": {},
     "output_type": "execute_result"
    }
   ],
   "source": [
    "X_train.shape"
   ]
  },
  {
   "cell_type": "markdown",
   "metadata": {
    "id": "R4vh2fzI0GUg"
   },
   "source": [
    "# <h2 align=\"left\"> <font color='brown'>Model Training</font></h2>\n",
    "\n",
    "#### Model 1"
   ]
  },
  {
   "cell_type": "code",
   "execution_count": 228,
   "metadata": {
    "id": "1-aQ7Y5404Gp"
   },
   "outputs": [],
   "source": [
    "# Function to create model\n",
    "def model_creation(X,y):\n",
    "    model = sm.GLM(y,X,family = sm.families.Binomial()).fit()\n",
    "    print(model.summary())\n",
    "    return model\n",
    "\n",
    "# Function to calculate VIF\n",
    "def vif_calculator (X):\n",
    "    vif = pd.DataFrame()\n",
    "    vif['Variables'] = X.columns\n",
    "    vif['VIF'] = [variance_inflation_factor(X.values,i) for i in range(X.shape[1])]\n",
    "    vif = vif.sort_values(by = \"VIF\", ascending = False)\n",
    "    print(vif)"
   ]
  },
  {
   "cell_type": "code",
   "execution_count": 229,
   "metadata": {
    "id": "Bmyj9TorFPP5"
   },
   "outputs": [],
   "source": [
    "lm = LogisticRegression()\n",
    "lm.fit(X_train, y_train)\n",
    "\n",
    "rfe = RFE(lm,n_features_to_select=20)\n",
    "rfe = rfe.fit(X_train, y_train)"
   ]
  },
  {
   "cell_type": "code",
   "execution_count": 230,
   "metadata": {
    "colab": {
     "base_uri": "https://localhost:8080/"
    },
    "id": "ulWyXm40F2vc",
    "outputId": "253798f1-19cd-490c-da26-7d1222523825"
   },
   "outputs": [
    {
     "data": {
      "text/plain": [
       "[('Do Not Email', True, 1),\n",
       " ('TotalVisits', True, 1),\n",
       " ('Total Time Spent on Website', True, 1),\n",
       " ('Page Views Per Visit', True, 1),\n",
       " ('Magazine', False, 26),\n",
       " ('Free_copy', False, 23),\n",
       " ('Landing Page Submission', False, 11),\n",
       " ('Lead Add Form', True, 1),\n",
       " ('Lead Import', False, 4),\n",
       " ('Quick Add Form', True, 1),\n",
       " ('Google', False, 6),\n",
       " ('Olark Chat', True, 1),\n",
       " ('Organic Search', False, 13),\n",
       " ('Others', False, 5),\n",
       " ('Email Bounced', False, 25),\n",
       " ('Email Link Clicked', True, 1),\n",
       " ('Email Opened', True, 1),\n",
       " ('Form Submitted on Website', False, 9),\n",
       " ('Olark Chat Conversation', True, 1),\n",
       " ('Page Visited on Website', True, 1),\n",
       " ('SMS Sent', True, 1),\n",
       " ('Unreachable', True, 1),\n",
       " ('others', True, 1),\n",
       " ('Housewife', False, 10),\n",
       " ('Other', True, 1),\n",
       " ('Student', True, 1),\n",
       " ('Unemployed', True, 1),\n",
       " ('Working Professional', True, 1),\n",
       " ('Business Administration', False, 3),\n",
       " ('E-Business', False, 22),\n",
       " ('E-COMMERCE', False, 8),\n",
       " ('Finance Management', False, 17),\n",
       " ('Healthcare Management', False, 2),\n",
       " ('Hospitality Management', True, 1),\n",
       " ('Human Resource Management', False, 16),\n",
       " ('IT Projects Management', False, 20),\n",
       " ('International Business', False, 7),\n",
       " ('Marketing Management', False, 21),\n",
       " ('Media and Advertising', False, 18),\n",
       " ('Operations Management', False, 14),\n",
       " ('Retail Management', False, 24),\n",
       " ('Rural and Agribusiness', True, 1),\n",
       " ('Services Excellence', False, 19),\n",
       " ('Supply Chain Management', False, 12),\n",
       " ('Travel and Tourism', False, 15)]"
      ]
     },
     "execution_count": 230,
     "metadata": {},
     "output_type": "execute_result"
    }
   ],
   "source": [
    "list(zip(X_train.columns,rfe.support_,rfe.ranking_))"
   ]
  },
  {
   "cell_type": "code",
   "execution_count": 231,
   "metadata": {
    "id": "ia6v3wIGF9q1"
   },
   "outputs": [],
   "source": [
    "selected_column = X_train.columns[rfe.support_]\n",
    "not_selected_column = X_train.columns[~rfe.support_]"
   ]
  },
  {
   "cell_type": "code",
   "execution_count": 232,
   "metadata": {
    "colab": {
     "base_uri": "https://localhost:8080/"
    },
    "id": "74G9RLdxGM8a",
    "outputId": "187d0996-1630-47ef-f255-d8bf1ca3186f"
   },
   "outputs": [
    {
     "data": {
      "text/plain": [
       "Index(['Do Not Email', 'TotalVisits', 'Total Time Spent on Website',\n",
       "       'Page Views Per Visit', 'Lead Add Form', 'Quick Add Form', 'Olark Chat',\n",
       "       'Email Link Clicked', 'Email Opened', 'Olark Chat Conversation',\n",
       "       'Page Visited on Website', 'SMS Sent', 'Unreachable', 'others', 'Other',\n",
       "       'Student', 'Unemployed', 'Working Professional',\n",
       "       'Hospitality Management', 'Rural and Agribusiness'],\n",
       "      dtype='object')"
      ]
     },
     "execution_count": 232,
     "metadata": {},
     "output_type": "execute_result"
    }
   ],
   "source": [
    "selected_column"
   ]
  },
  {
   "cell_type": "code",
   "execution_count": 233,
   "metadata": {
    "colab": {
     "base_uri": "https://localhost:8080/"
    },
    "id": "jJfkAroKGOnK",
    "outputId": "bbe680bb-939b-410a-b9e7-5194f50eee42"
   },
   "outputs": [
    {
     "data": {
      "text/plain": [
       "Index(['Magazine', 'Free_copy', 'Landing Page Submission', 'Lead Import',\n",
       "       'Google', 'Organic Search', 'Others', 'Email Bounced',\n",
       "       'Form Submitted on Website', 'Housewife', 'Business Administration',\n",
       "       'E-Business', 'E-COMMERCE', 'Finance Management',\n",
       "       'Healthcare Management', 'Human Resource Management',\n",
       "       'IT Projects Management', 'International Business',\n",
       "       'Marketing Management', 'Media and Advertising',\n",
       "       'Operations Management', 'Retail Management', 'Services Excellence',\n",
       "       'Supply Chain Management', 'Travel and Tourism'],\n",
       "      dtype='object')"
      ]
     },
     "execution_count": 233,
     "metadata": {},
     "output_type": "execute_result"
    }
   ],
   "source": [
    "not_selected_column"
   ]
  },
  {
   "cell_type": "code",
   "execution_count": 235,
   "metadata": {
    "colab": {
     "base_uri": "https://localhost:8080/"
    },
    "id": "7T8k0Nb5-YDr",
    "outputId": "a698797b-4466-47c8-81df-415656c652f8"
   },
   "outputs": [
    {
     "data": {
      "text/plain": [
       "(6468, 20)"
      ]
     },
     "execution_count": 235,
     "metadata": {},
     "output_type": "execute_result"
    }
   ],
   "source": [
    "X_train_rfe_selected = X_train[selected_column]\n",
    "X_train_rfe_selected.shape"
   ]
  },
  {
   "cell_type": "code",
   "execution_count": 237,
   "metadata": {
    "colab": {
     "base_uri": "https://localhost:8080/"
    },
    "id": "HbfUYwJJ-lST",
    "outputId": "3ee0e3b6-4e8c-4535-91d9-8eb809f06c5a"
   },
   "outputs": [
    {
     "name": "stdout",
     "output_type": "stream",
     "text": [
      "                 Generalized Linear Model Regression Results                  \n",
      "==============================================================================\n",
      "Dep. Variable:              Converted   No. Observations:                 6468\n",
      "Model:                            GLM   Df Residuals:                     6447\n",
      "Model Family:                Binomial   Df Model:                           20\n",
      "Link Function:                  Logit   Scale:                          1.0000\n",
      "Method:                          IRLS   Log-Likelihood:                -2809.7\n",
      "Date:                Sat, 13 Jan 2024   Deviance:                       5619.5\n",
      "Time:                        02:05:44   Pearson chi2:                 6.81e+03\n",
      "No. Iterations:                    19   Pseudo R-squ. (CS):             0.3691\n",
      "Covariance Type:            nonrobust                                         \n",
      "===============================================================================================\n",
      "                                  coef    std err          z      P>|z|      [0.025      0.975]\n",
      "-----------------------------------------------------------------------------------------------\n",
      "const                          -3.6460      0.204    -17.874      0.000      -4.046      -3.246\n",
      "Do Not Email                   -1.2312      0.177     -6.949      0.000      -1.578      -0.884\n",
      "TotalVisits                     1.1108      0.224      4.953      0.000       0.671       1.550\n",
      "Total Time Spent on Website     4.5910      0.161     28.470      0.000       4.275       4.907\n",
      "Page Views Per Visit           -1.2901      0.271     -4.757      0.000      -1.822      -0.759\n",
      "Lead Add Form                   3.9088      0.194     20.161      0.000       3.529       4.289\n",
      "Quick Add Form                 20.3857   1.77e+04      0.001      0.999   -3.47e+04    3.48e+04\n",
      "Olark Chat                      1.1793      0.126      9.392      0.000       0.933       1.425\n",
      "Email Link Clicked              0.4460      0.258      1.727      0.084      -0.060       0.952\n",
      "Email Opened                    1.0512      0.163      6.459      0.000       0.732       1.370\n",
      "Olark Chat Conversation        -0.4789      0.220     -2.177      0.029      -0.910      -0.048\n",
      "Page Visited on Website         0.4791      0.201      2.382      0.017       0.085       0.873\n",
      "SMS Sent                        2.1844      0.163     13.403      0.000       1.865       2.504\n",
      "Unreachable                     1.1368      0.373      3.050      0.002       0.406       1.867\n",
      "others                          2.0987      0.334      6.277      0.000       1.443       2.754\n",
      "Other                          -0.4446      0.209     -2.125      0.034      -0.855      -0.035\n",
      "Student                        -0.5303      0.190     -2.795      0.005      -0.902      -0.158\n",
      "Unemployed                      0.4912      0.120      4.092      0.000       0.256       0.726\n",
      "Working Professional            1.3868      0.146      9.489      0.000       1.100       1.673\n",
      "Hospitality Management         -0.8494      0.302     -2.809      0.005      -1.442      -0.257\n",
      "Rural and Agribusiness          0.6771      0.378      1.792      0.073      -0.063       1.418\n",
      "===============================================================================================\n"
     ]
    }
   ],
   "source": [
    "X_train_rfe_selected_with_constant = sm.add_constant(X_train_rfe_selected)\n",
    "model_1 = model_creation(X_train_rfe_selected_with_constant,y_train)"
   ]
  },
  {
   "cell_type": "code",
   "execution_count": 238,
   "metadata": {
    "colab": {
     "base_uri": "https://localhost:8080/"
    },
    "id": "DAvD1xcCeI8U",
    "outputId": "2112c9f7-232c-4070-b85b-1e369c9054e3"
   },
   "outputs": [
    {
     "name": "stdout",
     "output_type": "stream",
     "text": [
      "                      Variables        VIF\n",
      "0                         const  25.772431\n",
      "9                  Email Opened   3.838843\n",
      "12                     SMS Sent   3.437578\n",
      "2                   TotalVisits   3.108701\n",
      "4          Page Views Per Visit   3.053288\n",
      "17                   Unemployed   2.724026\n",
      "10      Olark Chat Conversation   2.375792\n",
      "7                    Olark Chat   2.169829\n",
      "18         Working Professional   2.058749\n",
      "11      Page Visited on Website   1.850938\n",
      "16                      Student   1.597809\n",
      "15                        Other   1.429725\n",
      "5                 Lead Add Form   1.388390\n",
      "8            Email Link Clicked   1.351319\n",
      "3   Total Time Spent on Website   1.261432\n",
      "1                  Do Not Email   1.243671\n",
      "14                       others   1.128311\n",
      "13                  Unreachable   1.102534\n",
      "19       Hospitality Management   1.007736\n",
      "6                Quick Add Form   1.004757\n",
      "20       Rural and Agribusiness   1.004422\n"
     ]
    }
   ],
   "source": [
    "vif_calculator(X_train_rfe_selected_with_constant)"
   ]
  },
  {
   "cell_type": "markdown",
   "metadata": {
    "id": "xEaCPFQjeVCJ"
   },
   "source": [
    "## Model 2"
   ]
  },
  {
   "cell_type": "code",
   "execution_count": 239,
   "metadata": {
    "id": "q7SV_zvMi4BG"
   },
   "outputs": [],
   "source": [
    "# Facebook is having figh VIF and high p value\n",
    "X_train_rfe_selected_with_constant_revised = X_train_rfe_selected_with_constant.drop('Quick Add Form',axis=1)"
   ]
  },
  {
   "cell_type": "code",
   "execution_count": 240,
   "metadata": {
    "colab": {
     "base_uri": "https://localhost:8080/"
    },
    "id": "u-Mi8c6Ej1lM",
    "outputId": "75c45ef3-53c5-45e1-d3e7-af57dc53adbb"
   },
   "outputs": [
    {
     "name": "stdout",
     "output_type": "stream",
     "text": [
      "                 Generalized Linear Model Regression Results                  \n",
      "==============================================================================\n",
      "Dep. Variable:              Converted   No. Observations:                 6468\n",
      "Model:                            GLM   Df Residuals:                     6448\n",
      "Model Family:                Binomial   Df Model:                           19\n",
      "Link Function:                  Logit   Scale:                          1.0000\n",
      "Method:                          IRLS   Log-Likelihood:                -2810.3\n",
      "Date:                Sat, 13 Jan 2024   Deviance:                       5620.7\n",
      "Time:                        02:06:28   Pearson chi2:                 6.81e+03\n",
      "No. Iterations:                     6   Pseudo R-squ. (CS):             0.3689\n",
      "Covariance Type:            nonrobust                                         \n",
      "===============================================================================================\n",
      "                                  coef    std err          z      P>|z|      [0.025      0.975]\n",
      "-----------------------------------------------------------------------------------------------\n",
      "const                          -3.6416      0.204    -17.879      0.000      -4.041      -3.242\n",
      "Do Not Email                   -1.2202      0.176     -6.919      0.000      -1.566      -0.875\n",
      "TotalVisits                     1.1123      0.224      4.959      0.000       0.673       1.552\n",
      "Total Time Spent on Website     4.5979      0.161     28.535      0.000       4.282       4.914\n",
      "Page Views Per Visit           -1.2917      0.271     -4.762      0.000      -1.823      -0.760\n",
      "Lead Add Form                   3.9094      0.194     20.166      0.000       3.529       4.289\n",
      "Olark Chat                      1.1812      0.126      9.407      0.000       0.935       1.427\n",
      "Email Link Clicked              0.4390      0.258      1.702      0.089      -0.067       0.945\n",
      "Email Opened                    1.0441      0.162      6.434      0.000       0.726       1.362\n",
      "Olark Chat Conversation        -0.4861      0.220     -2.213      0.027      -0.917      -0.056\n",
      "Page Visited on Website         0.4709      0.201      2.346      0.019       0.077       0.864\n",
      "SMS Sent                        2.1769      0.162     13.398      0.000       1.858       2.495\n",
      "Unreachable                     1.1292      0.373      3.031      0.002       0.399       1.859\n",
      "others                          2.0860      0.334      6.250      0.000       1.432       2.740\n",
      "Other                          -0.4452      0.209     -2.128      0.033      -0.855      -0.035\n",
      "Student                        -0.5303      0.190     -2.794      0.005      -0.902      -0.158\n",
      "Unemployed                      0.4920      0.120      4.098      0.000       0.257       0.727\n",
      "Working Professional            1.3868      0.146      9.489      0.000       1.100       1.673\n",
      "Hospitality Management         -0.8510      0.302     -2.814      0.005      -1.444      -0.258\n",
      "Rural and Agribusiness          0.6760      0.378      1.789      0.074      -0.065       1.416\n",
      "===============================================================================================\n"
     ]
    }
   ],
   "source": [
    "model_2 = model_creation(X_train_rfe_selected_with_constant_revised,y_train)"
   ]
  },
  {
   "cell_type": "markdown",
   "metadata": {
    "id": "dokgzeCNIqIB"
   },
   "source": [
    "### <h2 align=\"left\"> <font color='brown'>Model Evaluation</font></h2>"
   ]
  },
  {
   "cell_type": "code",
   "execution_count": 241,
   "metadata": {
    "id": "iu5SKtWEIwY4"
   },
   "outputs": [],
   "source": [
    "y_train_pred = model_2.predict(X_train_rfe_selected_with_constant_revised)"
   ]
  },
  {
   "cell_type": "code",
   "execution_count": 242,
   "metadata": {
    "colab": {
     "base_uri": "https://localhost:8080/"
    },
    "id": "LIzPMImnJHQj",
    "outputId": "dd149460-9bbd-42ce-ac64-9260bdcabc7d"
   },
   "outputs": [
    {
     "data": {
      "text/plain": [
       "1871    0.284074\n",
       "6795    0.306515\n",
       "3516    0.389206\n",
       "8105    0.804851\n",
       "3934    0.284074\n",
       "dtype: float64"
      ]
     },
     "execution_count": 242,
     "metadata": {},
     "output_type": "execute_result"
    }
   ],
   "source": [
    "y_train_pred.head()"
   ]
  },
  {
   "cell_type": "code",
   "execution_count": 243,
   "metadata": {
    "id": "q1DtcafSJTua"
   },
   "outputs": [],
   "source": [
    "y_train_pred_final = pd.DataFrame()\n",
    "y_train_pred_final['Converted'] = y_train.values\n",
    "y_train_pred_final['Converted_prob'] = y_train_pred\n",
    "y_train_pred_final['ID'] = y_train_pred.index"
   ]
  },
  {
   "cell_type": "code",
   "execution_count": 244,
   "metadata": {
    "colab": {
     "base_uri": "https://localhost:8080/",
     "height": 363
    },
    "id": "C-pErJYNKWUJ",
    "outputId": "234a5569-d4e3-48cb-bf5f-569acee7b022"
   },
   "outputs": [
    {
     "data": {
      "text/html": [
       "<div>\n",
       "<style scoped>\n",
       "    .dataframe tbody tr th:only-of-type {\n",
       "        vertical-align: middle;\n",
       "    }\n",
       "\n",
       "    .dataframe tbody tr th {\n",
       "        vertical-align: top;\n",
       "    }\n",
       "\n",
       "    .dataframe thead th {\n",
       "        text-align: right;\n",
       "    }\n",
       "</style>\n",
       "<table border=\"1\" class=\"dataframe\">\n",
       "  <thead>\n",
       "    <tr style=\"text-align: right;\">\n",
       "      <th></th>\n",
       "      <th>Converted</th>\n",
       "      <th>Converted_prob</th>\n",
       "      <th>ID</th>\n",
       "    </tr>\n",
       "  </thead>\n",
       "  <tbody>\n",
       "    <tr>\n",
       "      <th>0</th>\n",
       "      <td>0</td>\n",
       "      <td>NaN</td>\n",
       "      <td>1871</td>\n",
       "    </tr>\n",
       "    <tr>\n",
       "      <th>1</th>\n",
       "      <td>0</td>\n",
       "      <td>0.381699</td>\n",
       "      <td>6795</td>\n",
       "    </tr>\n",
       "    <tr>\n",
       "      <th>2</th>\n",
       "      <td>0</td>\n",
       "      <td>0.483172</td>\n",
       "      <td>3516</td>\n",
       "    </tr>\n",
       "    <tr>\n",
       "      <th>3</th>\n",
       "      <td>0</td>\n",
       "      <td>NaN</td>\n",
       "      <td>8105</td>\n",
       "    </tr>\n",
       "    <tr>\n",
       "      <th>4</th>\n",
       "      <td>0</td>\n",
       "      <td>0.461065</td>\n",
       "      <td>3934</td>\n",
       "    </tr>\n",
       "    <tr>\n",
       "      <th>5</th>\n",
       "      <td>1</td>\n",
       "      <td>0.079105</td>\n",
       "      <td>4844</td>\n",
       "    </tr>\n",
       "    <tr>\n",
       "      <th>6</th>\n",
       "      <td>0</td>\n",
       "      <td>0.763789</td>\n",
       "      <td>3297</td>\n",
       "    </tr>\n",
       "    <tr>\n",
       "      <th>7</th>\n",
       "      <td>1</td>\n",
       "      <td>0.079105</td>\n",
       "      <td>8071</td>\n",
       "    </tr>\n",
       "    <tr>\n",
       "      <th>8</th>\n",
       "      <td>0</td>\n",
       "      <td>0.119027</td>\n",
       "      <td>987</td>\n",
       "    </tr>\n",
       "    <tr>\n",
       "      <th>9</th>\n",
       "      <td>1</td>\n",
       "      <td>0.112263</td>\n",
       "      <td>7423</td>\n",
       "    </tr>\n",
       "  </tbody>\n",
       "</table>\n",
       "</div>"
      ],
      "text/plain": [
       "   Converted  Converted_prob    ID\n",
       "0          0             NaN  1871\n",
       "1          0        0.381699  6795\n",
       "2          0        0.483172  3516\n",
       "3          0             NaN  8105\n",
       "4          0        0.461065  3934\n",
       "5          1        0.079105  4844\n",
       "6          0        0.763789  3297\n",
       "7          1        0.079105  8071\n",
       "8          0        0.119027   987\n",
       "9          1        0.112263  7423"
      ]
     },
     "execution_count": 244,
     "metadata": {},
     "output_type": "execute_result"
    }
   ],
   "source": [
    "y_train_pred_final[:10]"
   ]
  },
  {
   "cell_type": "code",
   "execution_count": 245,
   "metadata": {
    "colab": {
     "base_uri": "https://localhost:8080/",
     "height": 363
    },
    "id": "uFCLGNyAKXma",
    "outputId": "67eaca9f-1462-4cc3-da6c-1ee07565b3c6"
   },
   "outputs": [
    {
     "data": {
      "text/html": [
       "<div>\n",
       "<style scoped>\n",
       "    .dataframe tbody tr th:only-of-type {\n",
       "        vertical-align: middle;\n",
       "    }\n",
       "\n",
       "    .dataframe tbody tr th {\n",
       "        vertical-align: top;\n",
       "    }\n",
       "\n",
       "    .dataframe thead th {\n",
       "        text-align: right;\n",
       "    }\n",
       "</style>\n",
       "<table border=\"1\" class=\"dataframe\">\n",
       "  <thead>\n",
       "    <tr style=\"text-align: right;\">\n",
       "      <th></th>\n",
       "      <th>Converted</th>\n",
       "      <th>Converted_prob</th>\n",
       "      <th>ID</th>\n",
       "      <th>Predicted</th>\n",
       "    </tr>\n",
       "  </thead>\n",
       "  <tbody>\n",
       "    <tr>\n",
       "      <th>0</th>\n",
       "      <td>0</td>\n",
       "      <td>NaN</td>\n",
       "      <td>1871</td>\n",
       "      <td>0</td>\n",
       "    </tr>\n",
       "    <tr>\n",
       "      <th>1</th>\n",
       "      <td>0</td>\n",
       "      <td>0.381699</td>\n",
       "      <td>6795</td>\n",
       "      <td>0</td>\n",
       "    </tr>\n",
       "    <tr>\n",
       "      <th>2</th>\n",
       "      <td>0</td>\n",
       "      <td>0.483172</td>\n",
       "      <td>3516</td>\n",
       "      <td>0</td>\n",
       "    </tr>\n",
       "    <tr>\n",
       "      <th>3</th>\n",
       "      <td>0</td>\n",
       "      <td>NaN</td>\n",
       "      <td>8105</td>\n",
       "      <td>0</td>\n",
       "    </tr>\n",
       "    <tr>\n",
       "      <th>4</th>\n",
       "      <td>0</td>\n",
       "      <td>0.461065</td>\n",
       "      <td>3934</td>\n",
       "      <td>0</td>\n",
       "    </tr>\n",
       "    <tr>\n",
       "      <th>5</th>\n",
       "      <td>1</td>\n",
       "      <td>0.079105</td>\n",
       "      <td>4844</td>\n",
       "      <td>0</td>\n",
       "    </tr>\n",
       "    <tr>\n",
       "      <th>6</th>\n",
       "      <td>0</td>\n",
       "      <td>0.763789</td>\n",
       "      <td>3297</td>\n",
       "      <td>1</td>\n",
       "    </tr>\n",
       "    <tr>\n",
       "      <th>7</th>\n",
       "      <td>1</td>\n",
       "      <td>0.079105</td>\n",
       "      <td>8071</td>\n",
       "      <td>0</td>\n",
       "    </tr>\n",
       "    <tr>\n",
       "      <th>8</th>\n",
       "      <td>0</td>\n",
       "      <td>0.119027</td>\n",
       "      <td>987</td>\n",
       "      <td>0</td>\n",
       "    </tr>\n",
       "    <tr>\n",
       "      <th>9</th>\n",
       "      <td>1</td>\n",
       "      <td>0.112263</td>\n",
       "      <td>7423</td>\n",
       "      <td>0</td>\n",
       "    </tr>\n",
       "  </tbody>\n",
       "</table>\n",
       "</div>"
      ],
      "text/plain": [
       "   Converted  Converted_prob    ID  Predicted\n",
       "0          0             NaN  1871          0\n",
       "1          0        0.381699  6795          0\n",
       "2          0        0.483172  3516          0\n",
       "3          0             NaN  8105          0\n",
       "4          0        0.461065  3934          0\n",
       "5          1        0.079105  4844          0\n",
       "6          0        0.763789  3297          1\n",
       "7          1        0.079105  8071          0\n",
       "8          0        0.119027   987          0\n",
       "9          1        0.112263  7423          0"
      ]
     },
     "execution_count": 245,
     "metadata": {},
     "output_type": "execute_result"
    }
   ],
   "source": [
    "y_train_pred_final['Predicted'] = y_train_pred_final.Converted_prob.map(lambda x: 1 if x > 0.5 else 0)\n",
    "\n",
    "# Let's see the head\n",
    "y_train_pred_final[:10]"
   ]
  },
  {
   "cell_type": "code",
   "execution_count": 246,
   "metadata": {
    "colab": {
     "base_uri": "https://localhost:8080/"
    },
    "id": "1RXuV20ELHZG",
    "outputId": "01a69479-7744-41bf-f31a-5bf0cec25a62"
   },
   "outputs": [
    {
     "name": "stdout",
     "output_type": "stream",
     "text": [
      "[[3048  954]\n",
      " [1880  586]]\n"
     ]
    }
   ],
   "source": [
    "from sklearn import metrics\n",
    "\n",
    "# Confusion matrix\n",
    "confusion = metrics.confusion_matrix(y_train_pred_final.Converted, y_train_pred_final.Predicted )\n",
    "print(confusion)"
   ]
  },
  {
   "cell_type": "code",
   "execution_count": 247,
   "metadata": {
    "colab": {
     "base_uri": "https://localhost:8080/"
    },
    "id": "o9-4ZK7HLxBB",
    "outputId": "9994a410-c395-4f68-876e-ff9d4acd9f9b"
   },
   "outputs": [
    {
     "name": "stdout",
     "output_type": "stream",
     "text": [
      "0.5618429189857761\n"
     ]
    }
   ],
   "source": [
    "# Let's check the overall accuracy.\n",
    "print(metrics.accuracy_score(y_train_pred_final.Converted, y_train_pred_final.Predicted))"
   ]
  },
  {
   "cell_type": "code",
   "execution_count": 135,
   "metadata": {
    "id": "sosfXYTkLzuR"
   },
   "outputs": [],
   "source": []
  }
 ],
 "metadata": {
  "colab": {
   "provenance": []
  },
  "kernelspec": {
   "display_name": "Python 3 (ipykernel)",
   "language": "python",
   "name": "python3"
  },
  "language_info": {
   "codemirror_mode": {
    "name": "ipython",
    "version": 3
   },
   "file_extension": ".py",
   "mimetype": "text/x-python",
   "name": "python",
   "nbconvert_exporter": "python",
   "pygments_lexer": "ipython3",
   "version": "3.11.3"
  }
 },
 "nbformat": 4,
 "nbformat_minor": 1
}
